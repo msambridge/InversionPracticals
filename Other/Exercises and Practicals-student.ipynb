{
 "cells": [
  {
   "cell_type": "markdown",
   "metadata": {
    "deletable": true,
    "editable": true
   },
   "source": [
    "# Python notebook for Inverse problems Exercises and practicals\n",
    "\n",
    "Malcolm Sambridge & Andrew Valentine - Research School of Earth Sciences, The Australian National University"
   ]
  },
  {
   "cell_type": "code",
   "execution_count": 1,
   "metadata": {
    "deletable": true,
    "editable": true,
    "tags": []
   },
   "outputs": [],
   "source": [
    "# setup libraries for exercises and practicals\n",
    "import matplotlib.pyplot as plt\n",
    "from scipy import stats\n",
    "import numpy as np\n",
    "import math\n",
    "import scipy.io as sio\n",
    "import sys\n",
    "import anu_inversion_course.rejectmethod as rj\n",
    "import anu_inversion_course.eqlocate as eq\n",
    "from anu_inversion_course.plotcovellipse import plot_point_cov,plot_cov_ellipse"
   ]
  },
  {
   "cell_type": "markdown",
   "metadata": {
    "deletable": true,
    "editable": true
   },
   "source": [
    "<img src=\"../Figures/Slides/Pages from EMSC8023-B_2018-p13.png\" alt=\"Slide\" width=\"600\"/>"
   ]
  },
  {
   "cell_type": "code",
   "execution_count": 2,
   "metadata": {
    "collapsed": false,
    "deletable": true,
    "editable": true,
    "jupyter": {
     "outputs_hidden": false
    }
   },
   "outputs": [
    {
     "name": "stdout",
     "output_type": "stream",
     "text": [
      "[[  1.    1.   -0.5]\n",
      " [  1.    2.   -2. ]\n",
      " [  1.    3.   -4.5]\n",
      " [  1.    4.   -8. ]\n",
      " [  1.    5.  -12.5]\n",
      " [  1.    6.  -18. ]\n",
      " [  1.    7.  -24.5]\n",
      " [  1.    8.  -32. ]\n",
      " [  1.    9.  -40.5]\n",
      " [  1.   10.  -50. ]]\n"
     ]
    }
   ],
   "source": [
    "x=np.linspace(1.0,10.,10) \n",
    "print(np.transpose([np.ones(len(x)),x,-0.5*x*x]))"
   ]
  },
  {
   "cell_type": "code",
   "execution_count": 3,
   "metadata": {
    "collapsed": false,
    "deletable": true,
    "editable": true,
    "jupyter": {
     "outputs_hidden": false
    }
   },
   "outputs": [
    {
     "data": {
      "image/png": "[encoded data removed]",
      "text/plain": [
       "<Figure size 648x432 with 1 Axes>"
      ]
     },
     "metadata": {
      "needs_background": "light"
     },
     "output_type": "display_data"
    }
   ],
   "source": [
    "###############################\n",
    "# The forward problem\n",
    "#####################\n",
    "x=np.linspace(1.0,10.,10) # build x\n",
    "G=np.transpose([np.ones(len(x)),x,-0.5*x*x]) # Build G matrix\n",
    "mguess=[40.0,100.,10.] \n",
    "ypredicted1=np.dot(G, mguess)\n",
    "\n",
    "fig, ax = plt.subplots(figsize=(9,6))\n",
    "ax.plot(x,ypredicted1,'go-',label='Predicted model')\n",
    "plt.legend(loc='upper left',framealpha=0.7)\n",
    "plt.title('Testing the polynomial forward problem')\n",
    "plt.xlabel('X')\n",
    "plt.ylabel('Y')\n",
    "plt.show()"
   ]
  },
  {
   "cell_type": "markdown",
   "metadata": {
    "deletable": true,
    "editable": true
   },
   "source": [
    "<img src=\"../Figures/Slides/Pages from EMSC8023-B_2018-p15.png\" alt=\"Slide\" width=\"600\"/>"
   ]
  },
  {
   "cell_type": "code",
   "execution_count": 82,
   "metadata": {
    "collapsed": false,
    "deletable": true,
    "editable": true,
    "jupyter": {
     "outputs_hidden": false
    }
   },
   "outputs": [],
   "source": [
    "# Try it here! You can insert more cells by selecting Cell > Insert Cell Above/Below from the menu\n",
    "# bar, or by pressing Esc to enter command mode and then hitting A or B (for above/below). \n",
    "\n",
    "#######################\n",
    "#  The inverse problem  \n",
    "#######################\n",
    "\n"
   ]
  },
  {
   "cell_type": "markdown",
   "metadata": {
    "deletable": true,
    "editable": true
   },
   "source": [
    "<img src=\"../Figures/Slides/Pages from EMSC8023-B_2018-p23.png\" alt=\"Slide\" width=\"600\"/>"
   ]
  },
  {
   "cell_type": "code",
   "execution_count": 83,
   "metadata": {
    "collapsed": false,
    "deletable": true,
    "editable": true,
    "jupyter": {
     "outputs_hidden": false
    }
   },
   "outputs": [],
   "source": [
    "# Try it here! You can insert more cells by selecting Cell > Insert Cell Above/Below from the menu\n",
    "# bar, or by pressing Esc to enter command mode and then hitting A or B (for above/below). \n",
    "\n",
    "########################\n",
    "#  Goodness of fit \n",
    "########################\n"
   ]
  },
  {
   "cell_type": "markdown",
   "metadata": {
    "deletable": true,
    "editable": true
   },
   "source": [
    "<img src=\"../Figures/Slides/Pages from EMSC8023-B_2018-p24.png\" alt=\"Slide\" width=\"600\"/>"
   ]
  },
  {
   "cell_type": "code",
   "execution_count": 84,
   "metadata": {
    "collapsed": false,
    "deletable": true,
    "editable": true,
    "jupyter": {
     "outputs_hidden": false
    }
   },
   "outputs": [],
   "source": [
    "\n",
    "# Try it here! You can insert more cells by selecting Cell > Insert Cell Above/Below from the menu\n",
    "# bar, or by pressing Esc to enter command mode and then hitting A or B (for above/below). \n",
    "\n",
    "### With wrong data errors\n"
   ]
  },
  {
   "cell_type": "markdown",
   "metadata": {
    "deletable": true,
    "editable": true
   },
   "source": [
    "<img src=\"../Figures/Slides/Pages from EMSC8023-B_2018-p30.png\" alt=\"Slide\" width=\"600\"/>"
   ]
  },
  {
   "cell_type": "code",
   "execution_count": 85,
   "metadata": {
    "collapsed": false,
    "deletable": true,
    "editable": true,
    "jupyter": {
     "outputs_hidden": false
    }
   },
   "outputs": [],
   "source": [
    "# Try it here! You can insert more cells by selecting Cell > Insert Cell Above/Below from the menu\n",
    "# bar, or by pressing Esc to enter command mode and then hitting A or B (for above/below). \n",
    "\n",
    "###############################\n",
    "# The model covariance matrix\n",
    "###############################\n"
   ]
  },
  {
   "cell_type": "markdown",
   "metadata": {
    "deletable": true,
    "editable": true
   },
   "source": [
    "<img src=\"../Figures/Slides/Pages from EMSC8023-B_2018-p32.png\" alt=\"Slide\" width=\"600\"/>"
   ]
  },
  {
   "cell_type": "code",
   "execution_count": 86,
   "metadata": {
    "collapsed": false,
    "deletable": true,
    "editable": true,
    "jupyter": {
     "outputs_hidden": false
    }
   },
   "outputs": [],
   "source": [
    "# Try it here! You can insert more cells by selecting Cell > Insert Cell Above/Below from the menu\n",
    "# bar, or by pressing Esc to enter command mode and then hitting A or B (for above/below). \n",
    "\n",
    "# setup libraries for exercises and practicals\n"
   ]
  },
  {
   "cell_type": "code",
   "execution_count": 87,
   "metadata": {
    "collapsed": false,
    "deletable": true,
    "editable": true,
    "jupyter": {
     "outputs_hidden": false
    }
   },
   "outputs": [],
   "source": [
    "##########################\n",
    "# Random draws of feasible solutions\n",
    "##########################\n"
   ]
  },
  {
   "cell_type": "markdown",
   "metadata": {
    "deletable": true,
    "editable": true
   },
   "source": [
    "<img src=\"../Figures/Slides/Pages from EMSC8023-B_2018-p33.png\" alt=\"Slide\" width=\"600\"/>"
   ]
  },
  {
   "cell_type": "code",
   "execution_count": 88,
   "metadata": {
    "collapsed": false,
    "deletable": true,
    "editable": true,
    "jupyter": {
     "outputs_hidden": false
    }
   },
   "outputs": [],
   "source": [
    "# ----------------------------------------------------------------------------\n",
    "# Calculate covariance matrix from error distribution for each pair of solution parameters\n",
    "# using fake data\n",
    "# ----------------------------------------------------------------------------\n"
   ]
  },
  {
   "cell_type": "markdown",
   "metadata": {
    "deletable": true,
    "editable": true
   },
   "source": [
    "<img src=\"../Figures/Slides/Pages from EMSC8023-B_2018-p35.png\" alt=\"Slide\" width=\"600\"/>"
   ]
  },
  {
   "cell_type": "code",
   "execution_count": 89,
   "metadata": {
    "collapsed": false,
    "deletable": true,
    "editable": true,
    "jupyter": {
     "outputs_hidden": false
    }
   },
   "outputs": [],
   "source": [
    "###########################\n",
    "# Calculate and plot feasible curves\n",
    "###########################\n",
    "\n"
   ]
  },
  {
   "cell_type": "markdown",
   "metadata": {
    "deletable": true,
    "editable": true
   },
   "source": [
    "# Iterative data fitting in a nonlinear problem"
   ]
  },
  {
   "cell_type": "markdown",
   "metadata": {
    "deletable": true,
    "editable": true
   },
   "source": [
    "<img src=\"../Figures/Slides/EMSC8023-B_2019-p49.png\" alt=\"Slide\" width=\"600\"/>"
   ]
  },
  {
   "cell_type": "markdown",
   "metadata": {
    "deletable": true,
    "editable": true
   },
   "source": [
    "Replicate the Earthquake location experiment on the previous slides by writing a python script to generate arrival times for a seismic source at (x,y,z,to) = (5.,5.,10.,1.). Use a homogeneous crustal Earth model with wave speed, v=5.4 km/s. \n",
    "\n",
    "    1. Generate 10 seismic stations at random locations on a +-30km box in (x,y) at the earth’s surface and calculate arrival times from the source to each station\n",
    "\n",
    "    2. Form two data sets of arrival times, one noiseless and one with Gaussian noise ",
    "added where  \n",
    "\n",
    "    3. Determine expressions for each entry of the 10 x 4 Derivative matrix ",
    "and build the G matrix. Build the data covariance matrix\n",
    "\n",
    "    3. Choose a random starting guess inside the box and apply the least squares iterative solution to both the noisy and noiseless data sets. Decide how many iterations to let it run for.\n",
    "\n",
    "    4. Make a plot showing the source location at each iteration for each case.\n",
    "\n",
    "    5. Make a table of the residuals vs iteration for each case.\n",
    "\n",
    "Does the iterative algorithm converge to a good enough solution? \n",
    "How many iterations does it take? What happens if you put the starting solution far from the actual earthquake location? "
   ]
  },
  {
   "cell_type": "code",
   "execution_count": 90,
   "metadata": {
    "collapsed": true,
    "deletable": true,
    "editable": true,
    "jupyter": {
     "outputs_hidden": true
    }
   },
   "outputs": [],
   "source": [
    "###########################\n",
    "# Iterative earthquake location example \n",
    "###########################\n",
    "\n",
    "\n"
   ]
  },
  {
   "cell_type": "markdown",
   "metadata": {
    "deletable": true,
    "editable": true
   },
   "source": [
    "# Monte Carlo Method exercises"
   ]
  },
  {
   "cell_type": "markdown",
   "metadata": {
    "deletable": true,
    "editable": true
   },
   "source": [
    "<img src=\"../Figures/Slides/Pages from EMSC8023-B_2018-p46.png\" alt=\"Slide\" width=\"600\"/>"
   ]
  },
  {
   "cell_type": "code",
   "execution_count": 91,
   "metadata": {
    "collapsed": false,
    "deletable": true,
    "editable": true,
    "jupyter": {
     "outputs_hidden": false
    }
   },
   "outputs": [],
   "source": [
    "# Generate uniform pseudo random number\n",
    "#######################\n",
    "np.random.seed(61254557)\n",
    "######################\n"
   ]
  },
  {
   "cell_type": "markdown",
   "metadata": {
    "deletable": true,
    "editable": true
   },
   "source": [
    "<img src=\"../Figures/Slides/Pages from EMSC8023-B_2018-p47.png\" alt=\"Slide\" width=\"600\"/>"
   ]
  },
  {
   "cell_type": "code",
   "execution_count": 92,
   "metadata": {
    "collapsed": false,
    "deletable": true,
    "editable": true,
    "jupyter": {
     "outputs_hidden": false
    }
   },
   "outputs": [],
   "source": [
    "###############################\n",
    "# Generate normal random deviates\n",
    "###############################\n"
   ]
  },
  {
   "cell_type": "markdown",
   "metadata": {
    "deletable": true,
    "editable": true
   },
   "source": [
    "<img src=\"../Figures/Slides/Pages from EMSC8023-B_2018-p49.png\" alt=\"Slide\" width=\"600\"/>"
   ]
  },
  {
   "cell_type": "code",
   "execution_count": 93,
   "metadata": {
    "collapsed": false,
    "deletable": true,
    "editable": true,
    "jupyter": {
     "outputs_hidden": false
    }
   },
   "outputs": [],
   "source": [
    "######################\n",
    "# Generate 2-D pseudo random deviates \n",
    "######################\n"
   ]
  },
  {
   "cell_type": "markdown",
   "metadata": {
    "deletable": true,
    "editable": true
   },
   "source": [
    "<img src=\"../Figures/Slides/Pages from EMSC8023-B_2018-p51.png\" alt=\"Slide\" width=\"600\"/>"
   ]
  },
  {
   "cell_type": "code",
   "execution_count": 94,
   "metadata": {
    "collapsed": false,
    "deletable": true,
    "editable": true,
    "jupyter": {
     "outputs_hidden": false
    }
   },
   "outputs": [],
   "source": [
    "######################\n",
    "# Transforming random variables\n",
    "######################\n",
    "\n"
   ]
  },
  {
   "cell_type": "markdown",
   "metadata": {
    "deletable": true,
    "editable": true
   },
   "source": [
    "<img src=\"../Figures/Slides/Pages from EMSC8023-B_2018-p53.png\" alt=\"Slide\" width=\"600\"/>"
   ]
  },
  {
   "cell_type": "code",
   "execution_count": 95,
   "metadata": {
    "collapsed": false,
    "deletable": true,
    "editable": true,
    "jupyter": {
     "outputs_hidden": false
    }
   },
   "outputs": [],
   "source": [
    "####################\n",
    "# Test the central limit theorem \n",
    "####################\n"
   ]
  },
  {
   "cell_type": "markdown",
   "metadata": {
    "deletable": true,
    "editable": true
   },
   "source": [
    "<img src=\"../Figures/Slides/Pages from EMSC8023-B_2018-p63.png\" alt=\"Slide\" width=\"600\"/>"
   ]
  },
  {
   "cell_type": "markdown",
   "metadata": {
    "deletable": true,
    "editable": true
   },
   "source": [
    "# Earthquake location and uncertainty via Monte Carlo Error Propagation"
   ]
  },
  {
   "cell_type": "code",
   "execution_count": 5,
   "metadata": {
    "collapsed": false,
    "deletable": true,
    "editable": true,
    "jupyter": {
     "outputs_hidden": false
    }
   },
   "outputs": [
    {
     "ename": "TypeError",
     "evalue": "'float' object is not subscriptable",
     "output_type": "error",
     "traceback": [
      "\u001b[0;31m---------------------------------------------------------------------------\u001b[0m",
      "\u001b[0;31mTypeError\u001b[0m                                 Traceback (most recent call last)",
      "\u001b[0;32m/var/folders/90/6d5yfdt17_g1gy25611w80p40000gn/T/ipykernel_7104/937365663.py\u001b[0m in \u001b[0;36m<module>\u001b[0;34m\u001b[0m\n\u001b[1;32m     34\u001b[0m \u001b[0mz0\u001b[0m\u001b[0;34m=\u001b[0m\u001b[0;34m-\u001b[0m\u001b[0;36m10\u001b[0m\u001b[0;34m\u001b[0m\u001b[0;34m\u001b[0m\u001b[0m\n\u001b[1;32m     35\u001b[0m \u001b[0;31m######## locate earthquake\u001b[0m\u001b[0;34m\u001b[0m\u001b[0;34m\u001b[0m\u001b[0m\n\u001b[0;32m---> 36\u001b[0;31m \u001b[0msols\u001b[0m\u001b[0;34m,\u001b[0m \u001b[0mres\u001b[0m \u001b[0;34m=\u001b[0m\u001b[0meq\u001b[0m\u001b[0;34m.\u001b[0m\u001b[0meqlocate\u001b[0m\u001b[0;34m(\u001b[0m\u001b[0mx0\u001b[0m\u001b[0;34m,\u001b[0m\u001b[0my0\u001b[0m\u001b[0;34m,\u001b[0m\u001b[0mz0\u001b[0m\u001b[0;34m,\u001b[0m\u001b[0mts\u001b[0m\u001b[0;34m,\u001b[0m\u001b[0mla\u001b[0m\u001b[0;34m,\u001b[0m\u001b[0mlo\u001b[0m\u001b[0;34m,\u001b[0m\u001b[0mel\u001b[0m\u001b[0;34m,\u001b[0m\u001b[0mvp\u001b[0m\u001b[0;34m,\u001b[0m\u001b[0mtol\u001b[0m\u001b[0;34m)\u001b[0m\u001b[0;34m\u001b[0m\u001b[0;34m\u001b[0m\u001b[0m\n\u001b[0m\u001b[1;32m     37\u001b[0m \u001b[0;34m\u001b[0m\u001b[0m\n\u001b[1;32m     38\u001b[0m \u001b[0mnumit\u001b[0m \u001b[0;34m=\u001b[0m \u001b[0mlen\u001b[0m\u001b[0;34m(\u001b[0m\u001b[0msols\u001b[0m\u001b[0;34m)\u001b[0m\u001b[0;34m\u001b[0m\u001b[0;34m\u001b[0m\u001b[0m\n",
      "\u001b[0;32m~/Documents/lab/ANUInversionCourse/anu_inversion_course/eqlocate.py\u001b[0m in \u001b[0;36meqlocate\u001b[0;34m(x0, y0, z0, ts, la, lo, el, vpin, tol, solvedep, nimax, verbose, kms2deg)\u001b[0m\n\u001b[1;32m     48\u001b[0m     \u001b[0mi\u001b[0m\u001b[0;34m=\u001b[0m\u001b[0mnp\u001b[0m\u001b[0;34m.\u001b[0m\u001b[0margmin\u001b[0m\u001b[0;34m(\u001b[0m\u001b[0mts\u001b[0m\u001b[0;34m)\u001b[0m\u001b[0;34m\u001b[0m\u001b[0;34m\u001b[0m\u001b[0m\n\u001b[1;32m     49\u001b[0m     \u001b[0;31m#i = 4\u001b[0m\u001b[0;34m\u001b[0m\u001b[0;34m\u001b[0m\u001b[0m\n\u001b[0;32m---> 50\u001b[0;31m     \u001b[0mt0\u001b[0m\u001b[0;34m=\u001b[0m\u001b[0mts\u001b[0m\u001b[0;34m[\u001b[0m\u001b[0mi\u001b[0m\u001b[0;34m]\u001b[0m\u001b[0;34m-\u001b[0m\u001b[0mnp\u001b[0m\u001b[0;34m.\u001b[0m\u001b[0msqrt\u001b[0m\u001b[0;34m(\u001b[0m\u001b[0;34m(\u001b[0m\u001b[0;34m(\u001b[0m\u001b[0mx0\u001b[0m\u001b[0;34m*\u001b[0m\u001b[0mlo2km\u001b[0m\u001b[0;34m-\u001b[0m\u001b[0mlo\u001b[0m\u001b[0;34m[\u001b[0m\u001b[0mi\u001b[0m\u001b[0;34m]\u001b[0m\u001b[0;34m*\u001b[0m\u001b[0mlo2km\u001b[0m\u001b[0;34m)\u001b[0m\u001b[0;34m**\u001b[0m\u001b[0;36m2\u001b[0m\u001b[0;34m)\u001b[0m\u001b[0;34m+\u001b[0m\u001b[0;34m(\u001b[0m\u001b[0;34m(\u001b[0m\u001b[0my0\u001b[0m\u001b[0;34m*\u001b[0m\u001b[0mla2km\u001b[0m\u001b[0;34m-\u001b[0m\u001b[0mla\u001b[0m\u001b[0;34m[\u001b[0m\u001b[0mi\u001b[0m\u001b[0;34m]\u001b[0m\u001b[0;34m*\u001b[0m\u001b[0mla2km\u001b[0m\u001b[0;34m)\u001b[0m\u001b[0;34m**\u001b[0m\u001b[0;36m2\u001b[0m\u001b[0;34m)\u001b[0m\u001b[0;34m+\u001b[0m\u001b[0;34m(\u001b[0m\u001b[0mel\u001b[0m\u001b[0;34m[\u001b[0m\u001b[0mi\u001b[0m\u001b[0;34m]\u001b[0m\u001b[0;34m-\u001b[0m\u001b[0mz0\u001b[0m\u001b[0;34m)\u001b[0m\u001b[0;34m**\u001b[0m\u001b[0;36m2\u001b[0m\u001b[0;34m)\u001b[0m\u001b[0;34m/\u001b[0m\u001b[0mvpin\u001b[0m\u001b[0;34m[\u001b[0m\u001b[0mi\u001b[0m\u001b[0;34m]\u001b[0m  \u001b[0;31m# initial guess origin time\u001b[0m\u001b[0;34m\u001b[0m\u001b[0;34m\u001b[0m\u001b[0m\n\u001b[0m\u001b[1;32m     51\u001b[0m \u001b[0;34m\u001b[0m\u001b[0m\n\u001b[1;32m     52\u001b[0m     \u001b[0mni\u001b[0m\u001b[0;34m=\u001b[0m\u001b[0;36m0\u001b[0m\u001b[0;34m\u001b[0m\u001b[0;34m\u001b[0m\u001b[0m\n",
      "\u001b[0;31mTypeError\u001b[0m: 'float' object is not subscriptable"
     ]
    }
   ],
   "source": [
    "############\n",
    "#    Read in arrival times and use eqlocate to locate an earthquake. \n",
    "#############\n",
    "with open('../Datasets/loctim.txt') as f:\n",
    "    Lines=f.read().splitlines()  \n",
    "     \n",
    "la, lo, el, ts =[],[],[],[]\n",
    "\n",
    "for i in range(len(Lines)):\n",
    "    la.append(float(Lines[i].split()[0]))\n",
    "    lo.append(float(Lines[i].split()[1]))\n",
    "    el.append(float(Lines[i].split()[2]))\n",
    "    ts.append(float(Lines[i].split()[3]))\n",
    "\n",
    "la,lo,el,ts =np.array(la), np.array(lo), np.array(el), np.array(ts)\n",
    "\n",
    "vp,tol=5.8, [0.01,0.01]\n",
    "\n",
    "# load border.xy\n",
    "border1, border2 =[], []\n",
    "\n",
    "with open('../Datasets/border.xy') as f1:\n",
    "    border=f1.read().splitlines()  \n",
    "for i in range(len(border)):\n",
    "    border1.append(float(border[i].split()[0]))\n",
    "    border2.append(float(border[i].split()[1]))\n",
    "\n",
    "border1=np.array(border1)\n",
    "border2=np.array(border2)\n",
    "\n",
    "######## Start guess for location\n",
    "x0=9\n",
    "y0=46.8\n",
    "z0=-10\n",
    "######## locate earthquake\n",
    "sols, res =eq.eqlocate(x0,y0,z0,ts,la,lo,el,vp,tol)\n",
    "\n",
    "numit = len(sols)\n",
    "tfinal = sols[numit-1,0]\n",
    "xfinal = sols[numit-1,1]\n",
    "yfinal = sols[numit-1,2]\n",
    "zfinal = sols[numit-1,3]\n",
    "\n",
    "print ('Location', xfinal,yfinal,zfinal)\n",
    "print ('Event time (seconds after 16:30)',tfinal)\n",
    "\n",
    "plt.figure(figsize=(9,6))\n",
    "plt.plot(border1,border2,'r-')\n",
    "plt.scatter(lo,la,s=50,marker='^')\n",
    "plt.plot(sols[:,1],sols[:,2],'o-y') # solution updates\n",
    "plt.plot(sols[0,1],sols[0,2],'ok') # initial guess\n",
    "plt.plot(xfinal,yfinal,'or')\n",
    "plt.xlim([5.5,11])\n",
    "plt.ylim([45.5,48])\n",
    "plt.show()\n"
   ]
  },
  {
   "cell_type": "markdown",
   "metadata": {
    "deletable": true,
    "editable": true
   },
   "source": [
    "<img src=\"../Figures/Slides/Pages from EMSC8023-B_2018-p65.png\" alt=\"Slide\" width=\"600\"/>"
   ]
  },
  {
   "cell_type": "code",
   "execution_count": 97,
   "metadata": {
    "collapsed": false,
    "deletable": true,
    "editable": true,
    "jupyter": {
     "outputs_hidden": false
    }
   },
   "outputs": [],
   "source": [
    "##############\n",
    "#    Then use Monte Carlo error propagation to calculate confidence ellipses\n",
    "##############\n"
   ]
  },
  {
   "cell_type": "code",
   "execution_count": 98,
   "metadata": {
    "collapsed": false,
    "deletable": true,
    "editable": true,
    "jupyter": {
     "outputs_hidden": false
    }
   },
   "outputs": [],
   "source": [
    "###### Calculate covariance solutions\n"
   ]
  },
  {
   "cell_type": "markdown",
   "metadata": {
    "deletable": true,
    "editable": true
   },
   "source": [
    "# Bootstrap methods for error propagation"
   ]
  },
  {
   "cell_type": "markdown",
   "metadata": {
    "deletable": true,
    "editable": true
   },
   "source": [
    "Using the bootstrap on the mean of some data"
   ]
  },
  {
   "cell_type": "markdown",
   "metadata": {
    "deletable": true,
    "editable": true
   },
   "source": [
    "<img src=\"../Figures/Slides/Pages from EMSC8023-B_2018-p73.png\" alt=\"Slide\" width=\"600\"/>"
   ]
  },
  {
   "cell_type": "code",
   "execution_count": 99,
   "metadata": {
    "collapsed": false,
    "deletable": true,
    "editable": true,
    "jupyter": {
     "outputs_hidden": false
    }
   },
   "outputs": [],
   "source": [
    "#################\n",
    "# Calculate the error in the mean estimator\n",
    "#################\n",
    " "
   ]
  },
  {
   "cell_type": "markdown",
   "metadata": {
    "deletable": true,
    "editable": true
   },
   "source": [
    "### Using the bootstrap to estimate the errors in earthquake location\n",
    "\n",
    "\n",
    "<img src=\"../Figures/Slides/Pages from EMSC8023-B_2018-p75.png\" alt=\"Slide\" width=\"600\"/>"
   ]
  },
  {
   "cell_type": "code",
   "execution_count": 100,
   "metadata": {
    "collapsed": false,
    "deletable": true,
    "editable": true,
    "jupyter": {
     "outputs_hidden": false
    }
   },
   "outputs": [],
   "source": [
    "#################\n",
    "# Calculate Bootstrap error propagation\n",
    "#################\n"
   ]
  },
  {
   "cell_type": "markdown",
   "metadata": {
    "deletable": true,
    "editable": true
   },
   "source": [
    "# Extended practicals"
   ]
  },
  {
   "cell_type": "markdown",
   "metadata": {
    "deletable": true,
    "editable": true
   },
   "source": [
    "Each of the following problems illustrate an example of parameter\n",
    "estimation, Goodness of ft tests, Linear error propagation, Monte Carlo\n",
    "error propagation, and Bayesian sampling. Each requires you to write\n",
    "some computer code, or run code already written. We’ll focus on doing\n",
    "them with Python, using the Jupyter server set up for the class.\n",
    "\n",
    "## Practical problem 1. Fitting a curve to noisy data\n",
    "\n",
    "Imagine that you have a parameter estimation problem where you wish to\n",
    "fit the following function to some observations of\n",
    "$x_i, y_i, (i=1\\dots,N)$\n",
    "\n",
    "$$ y(x) = \\frac{1}{100}\\left[ \\frac{m_1}{5} + \\frac{m_2}{5}x +\\frac{m_3}{16}(x^2 + 1600\\sin(\\frac{x}{2\\pi})) \\right ]. $$\n",
    "\n",
    "<img src=\"../Figures/Example-data-curve.png\" alt=\"Example of test data for regression problem with true curve (blue). Here the $x$ values are generated uniformly randomly between 0 and 120, while the $y$ values are equal to the curve height plus a Gaussian random error with $\\sigma_y = 0.75$, i.e. $y_{obs} = y_{true} + \\epsilon$, where $\\epsilon \\sim N(0, \\sigma_y^2)$.\" width=\"600\"/>\n",
    "\n",
    "Figure 1. Example of test data for regression problem with true curve (blue). Here the $x$ values are generated uniformly randomly between 0 and 120, while the $y$ values are equal to the curve height plus a Gaussian random error with $\\sigma_y = 0.75$, i.e. $y_{obs} = y_{true} + \\epsilon$, where $\\epsilon \\sim N(0, \\sigma_y^2)$.\n",
    "\n",
    "In Figure 1 I have used $m_1 = m_2 = m_3 = 1.0$ to generate the true curve."
   ]
  },
  {
   "cell_type": "markdown",
   "metadata": {
    "deletable": true,
    "editable": true,
    "local_metadata": {},
    "remote_metadata": {
     "deletable": true,
     "editable": true
    }
   },
   "source": [
    "### Tasks to complete:\n",
    "\n",
    "**Task 1** \n",
    "Choose values for $(m_1, m_2, m_3)$ and generate 12 data similar to\n",
    "    Figure 1 and plot them. To do this you should generate\n",
    "    your x values uniformly randomly over the range (0,120) and then\n",
    "    calculate $y$ values using the above expression. Add Gaussian random noise\n",
    "    to your $y$ values with standard deviation, $\\sigma_y,$ that you\n",
    "    choose. Plot the true curve with the data similar to Figure1. This\n",
    "    is the test data for your problem."
   ]
  },
  {
   "cell_type": "code",
   "execution_count": 6,
   "metadata": {
    "collapsed": false,
    "deletable": true,
    "editable": true,
    "jupyter": {
     "outputs_hidden": false
    }
   },
   "outputs": [],
   "source": [
    "# Write your answer in here\n",
    "import matplotlib.pyplot as plt\n",
    "from scipy import stats\n",
    "import numpy as np\n",
    "import math\n",
    "import anu_inversion_course.plotcovellipse as pc\n",
    "\n"
   ]
  },
  {
   "cell_type": "markdown",
   "metadata": {
    "deletable": true,
    "editable": true
   },
   "source": [
    "**Task 2**  \n",
    "We want to estimate the parameters $(m_1, m_2, m_3)$ from the\n",
    "    observations. This problem can be written in vector form as\n",
    "    ${\\bf d} = G {\\bf m}$. Describe what are ${\\bf d}$, ${\\bf m}$ and\n",
    "    $G$ for this problem? What dimensions does the $G$ matrix have? Is\n",
    "    this a linear or nonlinear parameter estimation problem? Calculate\n",
    "    the $G$ matrix for this problem.\n"
   ]
  },
  {
   "cell_type": "code",
   "execution_count": 102,
   "metadata": {
    "collapsed": true,
    "deletable": true,
    "editable": true,
    "jupyter": {
     "outputs_hidden": true
    }
   },
   "outputs": [],
   "source": [
    "# Write your answer in here\n"
   ]
  },
  {
   "cell_type": "markdown",
   "metadata": {
    "deletable": true,
    "editable": true
   },
   "source": [
    "**Task 3**  Use the $G$ matrix and your data to estimate a least squares\n",
    "    solution for the parameters $(m_1,m_2,m_3)$. Calculate the curve\n",
    "    that this solution predicts and plot it with the data with its\n",
    "    errors and the true curve."
   ]
  },
  {
   "cell_type": "code",
   "execution_count": 103,
   "metadata": {
    "collapsed": false,
    "deletable": true,
    "editable": true,
    "jupyter": {
     "outputs_hidden": false
    }
   },
   "outputs": [],
   "source": [
    "# Write your answer in here\n",
    "\n"
   ]
  },
  {
   "cell_type": "markdown",
   "metadata": {
    "deletable": true,
    "editable": true
   },
   "source": [
    "**Task 4**  \n",
    "Calculate the Chi-square value for this problem. Is this a good\n",
    "        enough fit to data? Calculate the p-value for this goodness of\n",
    "        fit. What do you conclude from the p-value?\n",
    "\n",
    "Repeat the calculation with the noise error, $\\sigma_y=0.25$.\n",
    "        How would this change the Chi-square and p-value? What would you\n",
    "        conclude in this case?\n",
    "\n",
    "Repeat the calculation with the noise error, $\\sigma_y=2.25$.\n",
    "        How would this change the Chi-square and p-value? What would you\n",
    "        conclude in this case?"
   ]
  },
  {
   "cell_type": "code",
   "execution_count": 104,
   "metadata": {
    "collapsed": false,
    "deletable": true,
    "editable": true,
    "jupyter": {
     "outputs_hidden": false
    }
   },
   "outputs": [],
   "source": [
    "# Write your answer in here\n",
    "\n",
    "# ----------------------------------------------------------------------------\n",
    "# Goodness of fit\n",
    "# ----------------------------------------------------------------------------\n"
   ]
  },
  {
   "cell_type": "code",
   "execution_count": 105,
   "metadata": {
    "collapsed": false,
    "deletable": true,
    "editable": true,
    "jupyter": {
     "outputs_hidden": false
    }
   },
   "outputs": [],
   "source": [
    "# case B \n"
   ]
  },
  {
   "cell_type": "code",
   "execution_count": 106,
   "metadata": {
    "collapsed": false,
    "deletable": true,
    "editable": true,
    "jupyter": {
     "outputs_hidden": false
    }
   },
   "outputs": [],
   "source": [
    "# case C\n"
   ]
  },
  {
   "cell_type": "markdown",
   "metadata": {
    "deletable": true,
    "editable": true
   },
   "source": [
    "**Task 5** Calculate model covariance matrix for the problem and from this find\n",
    "    the 95% confidence intervals for each parameter $m_1, m_2$ and\n",
    "    $m_3$. Calculate the model correlation matrix. Do you see any\n",
    "    significant trade-off in the model parameter errors? Plot the\n",
    "    confidence ellipses for the $(m_1, m_2)$, $(m_2, m_3)$ and\n",
    "    $(m_1, m_3)$ planes. How do any trade-offs you observed in the model\n",
    "    covariance matrix manifest themselves in the plots of the covariance\n",
    "    matrix?"
   ]
  },
  {
   "cell_type": "code",
   "execution_count": 107,
   "metadata": {
    "collapsed": false,
    "deletable": true,
    "editable": true,
    "jupyter": {
     "outputs_hidden": false
    }
   },
   "outputs": [],
   "source": [
    "# Write your answer in here\n",
    "# ----------------------------------------------------------------------------\n",
    "# Calculate and plot covariance matrix from error distribution for each pair of solution parameters\n",
    "# ----------------------------------------------------------------------------\n"
   ]
  },
  {
   "cell_type": "markdown",
   "metadata": {
    "deletable": true,
    "editable": true
   },
   "source": [
    "**Task 6** Generate 1000 feasible solutions for the model parameters and for\n",
    "    each one generate and plot the predicted curves, with the data and\n",
    "    the predicted curve from the least squares solution."
   ]
  },
  {
   "cell_type": "code",
   "execution_count": 108,
   "metadata": {
    "collapsed": false,
    "deletable": true,
    "editable": true,
    "jupyter": {
     "outputs_hidden": false
    }
   },
   "outputs": [],
   "source": [
    "# Write your answer in here\n",
    "# ----------------------------------------------------------------------------\n",
    "# Plot random draws from model error distribution for each pair of solution parameters\n",
    "# ----------------------------------------------------------------------------\n",
    "\n"
   ]
  },
  {
   "cell_type": "markdown",
   "metadata": {
    "deletable": true,
    "editable": true
   },
   "source": [
    "**Task 7**  Repeat the calculation of the model covariance matrix and 95%\n",
    "    Confidence intervals but with the assumption $\\sigma_y = 0.25$. What\n",
    "    do you notice about each these new error estimates? How would you\n",
    "    rectify the situation to get reasonable model parameter errors?"
   ]
  },
  {
   "cell_type": "code",
   "execution_count": 109,
   "metadata": {
    "collapsed": false,
    "deletable": true,
    "editable": true,
    "jupyter": {
     "outputs_hidden": false
    }
   },
   "outputs": [],
   "source": [
    "# Write your answer in here\n",
    "#Cm = GtGinv # Covariance matrix of solution errors\n"
   ]
  },
  {
   "cell_type": "markdown",
   "metadata": {
    "deletable": true,
    "editable": true
   },
   "source": [
    "## Practical problem 2. Uncertainty estimation using Monte Carlo error propagation"
   ]
  },
  {
   "cell_type": "markdown",
   "metadata": {
    "deletable": true,
    "editable": true
   },
   "source": [
    "Now repeat your uncertainty analysis of question 1 but instead use Monte\n",
    "Carlo error propagation.\n",
    "\n",
    "**Task 1**  Generate Gaussian random deviates with standard deviation\n",
    "    $\\sigma_y = 0.75$ as was assumed previously. Add these to your\n",
    "    observed y values $y_{obs}$. Then use these new y values and fit the\n",
    "    model in Figure 1 as many times as you think necessary. Make a 2-D scatter plots of pairs of parameters in the MC solutions and compare to the each covariance ellipses you plotted in Q1.5\n",
    "    above."
   ]
  },
  {
   "cell_type": "code",
   "execution_count": 110,
   "metadata": {
    "collapsed": false,
    "deletable": true,
    "editable": true,
    "jupyter": {
     "outputs_hidden": false
    }
   },
   "outputs": [],
   "source": [
    "# Write your answer in here\n",
    "# ----------------------------------------------------------------------------\n",
    "# Monte Carlo estimate of feasible solutions\n",
    "# ----------------------------------------------------------------------------\n",
    "\n"
   ]
  },
  {
   "cell_type": "markdown",
   "metadata": {
    "deletable": true,
    "editable": true
   },
   "source": [
    "**Task 2**  Plot the histogram of the Monte Carlo solutions for each parameter\n",
    "    $m_1,m_2$ and $m_3$. How do they compare to the 95% confidence\n",
    "    intervals calculated previously."
   ]
  },
  {
   "cell_type": "code",
   "execution_count": 111,
   "metadata": {
    "collapsed": false,
    "deletable": true,
    "editable": true,
    "jupyter": {
     "outputs_hidden": false
    }
   },
   "outputs": [],
   "source": [
    "# Write your answer in here\n",
    "\n"
   ]
  },
  {
   "cell_type": "markdown",
   "metadata": {
    "deletable": true,
    "editable": true
   },
   "source": [
    "**Task 3**  Calculate a model covariance matrix from the MC solutions and\n",
    "    compare to the model covariance matrix values found in Q1.5 above.\n",
    "    Plot ellipses for pairs of parameters, as before. How do these plots\n",
    "    compare to the covariance ellipses you plotted in Q1.5 above?"
   ]
  },
  {
   "cell_type": "code",
   "execution_count": 112,
   "metadata": {
    "collapsed": false,
    "deletable": true,
    "editable": true,
    "jupyter": {
     "outputs_hidden": false
    }
   },
   "outputs": [],
   "source": [
    "# Write your answer in here\n"
   ]
  },
  {
   "cell_type": "markdown",
   "metadata": {
    "deletable": true,
    "editable": true
   },
   "source": [
    "**Task 4**  Calculate 95% confidence intervals for each parameter using your MC\n",
    "    estimated model covariance matrix. How do these results compare to\n",
    "    the ones you obtained in Q1.5 above?"
   ]
  },
  {
   "cell_type": "code",
   "execution_count": 113,
   "metadata": {
    "collapsed": false,
    "deletable": true,
    "editable": true,
    "jupyter": {
     "outputs_hidden": false
    }
   },
   "outputs": [],
   "source": [
    "# Write your answer in here\n"
   ]
  },
  {
   "cell_type": "markdown",
   "metadata": {
    "deletable": true,
    "editable": true
   },
   "source": [
    "## Practical problem 3. Error propagation with the Bootstrap: The cannonball problem"
   ]
  },
  {
   "cell_type": "markdown",
   "metadata": {
    "deletable": true,
    "editable": true
   },
   "source": [
    "<img src=\"../Figures/ballistics.png\" alt=\"Cannonball figure\" width=\"600\"/>\n",
    "Figure 2. Cannonball heights as a function of time."
   ]
  },
  {
   "cell_type": "markdown",
   "metadata": {
    "deletable": true,
    "editable": true
   },
   "source": [
    " cannon ball is fired directly upwards from an unknown starting height\n",
    "above the surface, $m_1$, with unknown initial velocity, $m_2$ and\n",
    "unknown gravitational acceleration, $m_3$ . Newton’s laws of motion tell\n",
    "us that the relationship between position and time follows\n",
    "\n",
    "$$y(t) = m_1 + m_2t -\\frac{1}{2}m_3t^2.\n",
    "\\label{eq:cannon}$$\n",
    "\n",
    "An experiment has been performed and heights, $y_i$, $(i=1,\\dots,8)$ are\n",
    "collected at fixed time intervals of a second. We obtain the data\n",
    "$y = [26.94, 33.45, 40.72 , 42.32, 44.30 , 47.19 , 43.33 , 40.13 ]$,\n",
    "$t = [1.0,2.0,\\dots,8.0]$.\n",
    "\n",
    "To find the unknowns $(m_1, m_2, m_3)$ we must fit a quadratic curve\n",
    "(as above) to the observed data (see figure 2). This can be achieved\n",
    "by solving the linear system ${\\bf d} = G{\\bf m}$, where ${\\bf d}$ is\n",
    "the data, ${\\bf m}$ is the vector of unknowns and $G$ is the matrix\n",
    "connecting the two, determined by the expression above. The solution to this is\n",
    "in your course exercise, but is equivalent to evaluating the expression\n",
    "\n",
    "$${\\bf m} = (G^TG)^{-1} G^T {\\bf d}\n",
    "\\label{eq:LS}$$\n",
    "\n",
    "All terms on the right hand side of this equation are known and so\n",
    "its a simple case of plugging in values to determine the best fit\n",
    "estimates of $(m_1, m_2, m_3)$.\n",
    "\n",
    "Calculate the best fit values of the three unknowns (height, velocity\n",
    "and gravitational acceleration). We call these values\n",
    "$(m_1^0, m_2^0, m_3^0)$ our <span>**solution**</span>. Can you guess\n",
    "where this experiment took place?\n",
    "\n"
   ]
  },
  {
   "cell_type": "code",
   "execution_count": 114,
   "metadata": {
    "collapsed": false,
    "deletable": true,
    "editable": true,
    "jupyter": {
     "outputs_hidden": false
    }
   },
   "outputs": [],
   "source": [
    "# Write your answer in here\n",
    "\n"
   ]
  },
  {
   "cell_type": "markdown",
   "metadata": {
    "deletable": true,
    "editable": true
   },
   "source": [
    "The problem now is to use the <span>**bootstrap**</span> to determine\n",
    "how error in the data propagate into the estimated unknowns. We do not\n",
    "know the size of errors in the data but we can apply the bootstrap.\n",
    "Since the data are associated with increasing time it does not make\n",
    "sense to directly resample the data (because we could end up with two\n",
    "heights of the same value associated with different times). The data are\n",
    "not IID, since they belong to a trend. However we can still proceed by\n",
    "applying the bootstrap principle to the data residuals produced by the\n",
    "best fit solution., i.e. we have 8 residuals, $r_i$, where\n",
    "\n",
    "$$r_i = y_i - m^0_1 - m^0_2t_i +\\frac{1}{2}m^0_3t_i^2.\\quad (i=1,\\dots, 8).$$\n",
    "\n",
    "If we assume that the residuals are IID they can be re-sampled with\n",
    "replacement in the usual way to form multiple sets of 8 residual values\n",
    "$r^*_j, (j=1,\\dots,8)$ and new bootstrap data are constructed using this\n",
    "set of residuals by\n",
    "\n",
    "$$y^*_j = r^*_j + m^0_1 + m^0_2t_j -\\frac{1}{2}m^0_3t_j^2.\\quad (j=1,\\dots, 8).$$\n",
    "\n",
    "Using this approach the residuals are mixed between different data, and\n",
    "so each y values does not simply get its own residual back.\n",
    "\n",
    "<span>**Write a python script**</span> to build bootstrap data sets and\n",
    "for each of these insert them into the above expressions to calculate\n",
    "the bootstrap estimates of the unknowns. Lets call these\n",
    "$(m_1^i, m_2^i, m_3^i), (i=1,\\dots, B)$. The number of bootstrap samples\n",
    "$B$ is your choice but it should be at least 100.\n",
    "\n",
    "It can be instructive to <span>**plot the bootstrap samples**</span> as\n",
    "a scatter plot for the three pair of variables, i.e. $(m^i_1, m^i_2)$,\n",
    "$(m^i_2, m^i_3)$ and $(m^i_1, m^i_3)$, $(i=1,\\dots, B)$. They should\n",
    "look something like Figure 3."
   ]
  },
  {
   "cell_type": "markdown",
   "metadata": {
    "deletable": true,
    "editable": true
   },
   "source": [
    "<img src=\"../Figures/bootstrap.png\" alt=\"Bootstrap figure\" width=\"400\"/>\n",
    "Figure 3. Bootstrap solutions and confidence ellipses distributed about the best fit solution."
   ]
  },
  {
   "cell_type": "code",
   "execution_count": 115,
   "metadata": {
    "collapsed": false,
    "deletable": true,
    "editable": true,
    "jupyter": {
     "outputs_hidden": false
    }
   },
   "outputs": [],
   "source": [
    "# Write your answer in here\n"
   ]
  },
  {
   "cell_type": "markdown",
   "metadata": {
    "deletable": true,
    "editable": true
   },
   "source": [
    "\n",
    "\n",
    "From the bootstrap output samples\n",
    "$(m_1^i, m_2^i, m_3^i), (i=1,\\dots, B)$ and the formulae in the course\n",
    "slides, calculate the i) <span>**the mean**</span>, ii) <span>**the\n",
    "variance**</span>, iii) <span>**the bias corrected solution**</span>,\n",
    "and iv) <span>**the 95% confidence intervals**</span> for each of the\n",
    "three unknowns . The mean should look similar to the best fit values and\n",
    "the bias should be small. The variance and confidence intervals\n",
    "characterize the error in the estimated values of the unknowns."
   ]
  },
  {
   "cell_type": "code",
   "execution_count": 116,
   "metadata": {
    "collapsed": false,
    "deletable": true,
    "editable": true,
    "jupyter": {
     "outputs_hidden": false
    }
   },
   "outputs": [],
   "source": [
    "# Write your answer in here\n",
    "\n"
   ]
  },
  {
   "cell_type": "markdown",
   "metadata": {
    "deletable": true,
    "editable": true
   },
   "source": [
    "## Practical problem 4.1 Parameter search with nested grids"
   ]
  },
  {
   "cell_type": "markdown",
   "metadata": {
    "deletable": true,
    "editable": true
   },
   "source": [
    "Suppose we have two unknowns, $(x_1, x_2)$. We measure $x_1$ directly\n",
    "and obtain a value of $1\\pm\\sigma$ (where the measurement error is\n",
    "$\\sigma=10$). Suppose also that we know the following property should\n",
    "hold, $x^2_1 = x_2$. We wish to find the best compromise values of\n",
    "$(x_1, x_2)$ which both fit the data and the extra constraint. We could\n",
    "solve this problem by finding $(x_1, x_2)$ which minimizes the least\n",
    "squares misfit function\n",
    "\n",
    "$$f(x_1, x_2) = \\frac{(1-x_1)^2}{100} + (x_2-x_1^2)^2.$$\n",
    "\n",
    "This is hardly necessary because the solution is fairly obvious, i.e.\n",
    "$x_1 = x_2 = 1$, and indeed this solution corresponds to a global\n",
    "minimum in the misfit function $f(1,1) = 0$. The misfit surface is\n",
    "plotted in figure 4 and is known as the Rosenbrock function[^1].\n",
    "Although its global minimum is known it can be quite difficult to locate\n",
    "with an optimization algorithm (because it lies at the end of a long\n",
    "valley).\n",
    "\n"
   ]
  },
  {
   "cell_type": "markdown",
   "metadata": {
    "deletable": true,
    "editable": true
   },
   "source": [
    "<img src=\"../Figures/rosenbrock.png\" alt=\"Bootstrap figure\" width=\"400\"/>\n",
    "Figure 4. The Rosenbrock misfit function for a two parameter problem."
   ]
  },
  {
   "cell_type": "markdown",
   "metadata": {
    "deletable": true,
    "editable": true
   },
   "source": [
    "### Tasks to complete:\n",
    "**Task 1**  Find the global minimum of this function using simple uniform Monte\n",
    "    Carlo random search. <span>**Write a python script**</span> to\n",
    "    generate random points in a plane in the ranges\n",
    "    $-1.5 \\le x_1 \\le 1.5$, and $-1.5 \\le x_2 \\le 1.5$. Calculate\n",
    "    $f(x_1, x_2)$ for each of your points and plot the minimum as a\n",
    "    function of the number of points tested. How many do you need to\n",
    "    generate to get a good solution? It can be instructive to plot the\n",
    "    minimum in $f(x_1, x_2)$ as a function of the number of points that you\n",
    "    generate.\n"
   ]
  },
  {
   "cell_type": "code",
   "execution_count": 117,
   "metadata": {
    "collapsed": false,
    "deletable": true,
    "editable": true,
    "jupyter": {
     "outputs_hidden": false
    }
   },
   "outputs": [],
   "source": [
    "# Write your answer in here\n",
    "\n"
   ]
  },
  {
   "cell_type": "markdown",
   "metadata": {
    "deletable": true,
    "editable": true
   },
   "source": [
    "**Task 2**  Now repeat the exercise but stop the process after a fixed number of\n",
    "    samples, say $N_s$ (you choose $N_s$). Then centre a new smaller box\n",
    "    with side length $L$ (you choose $L$, e.g. 1/2 or 3/4 of the length\n",
    "    of the original) at your current best solution and repeat the\n",
    "    process. You have built a <span>**nested grid parameter search\n",
    "    scheme**</span>. Repeat this several times and see if the solution\n",
    "    is more accurate and the convergence any quicker than with the\n",
    "    single stage approach.\n"
   ]
  },
  {
   "cell_type": "code",
   "execution_count": 118,
   "metadata": {
    "collapsed": false,
    "deletable": true,
    "editable": true,
    "jupyter": {
     "outputs_hidden": false
    }
   },
   "outputs": [],
   "source": [
    "# Write your answer in here\n",
    "\n"
   ]
  },
  {
   "cell_type": "markdown",
   "metadata": {
    "deletable": true,
    "editable": true
   },
   "source": [
    "**Task 3**  \n",
    "If you want a challenge then repeat the problem with multiple\n",
    "    unknowns and data. The $N$ variable Rosenbrock function is\n",
    "\n",
    "$$f(x_1, x_2,\\dots,x_N) = \\sum_{i=1}^{N-1}(1-x_i)^2 + 100(x_{i+1}-x^2_i)^2.$$\n",
    "\n",
    "But beware this function has local minima as well as a global\n",
    "    minimum.\n"
   ]
  },
  {
   "cell_type": "markdown",
   "metadata": {
    "deletable": true,
    "editable": true
   },
   "source": [
    "## Practical problem 4.2 Fully nonlinear inversion of a seismic receiver function"
   ]
  },
  {
   "cell_type": "markdown",
   "metadata": {
    "deletable": true,
    "editable": true,
    "local_metadata": {},
    "remote_metadata": {
     "deletable": true,
     "editable": true
    }
   },
   "source": [
    "'Receiver functions' are a class of seismic data used to study discontinuities (layering) in the Earth's crust. At each discontinuity, P-to-S conversions occur, introducing complexity in the waveform. By deconvolving horizontal- and vertical-channel waveforms from earthquakes at teleseismic distances, we can isolate information about these conversions, and hence learn about the crustal structure. This deconvolved signal is the receiver function, and has a highly non-linear dependence on the local crustal properties."
   ]
  },
  {
   "cell_type": "code",
   "execution_count": 7,
   "metadata": {
    "collapsed": false,
    "deletable": true,
    "editable": true,
    "jupyter": {
     "outputs_hidden": false
    },
    "local_metadata": {
     "collapsed": false
    },
    "remote_metadata": {
     "collapsed": false,
     "deletable": true,
     "editable": true
    }
   },
   "outputs": [],
   "source": [
    "%matplotlib inline\n",
    "import numpy as np\n",
    "import matplotlib.pyplot as plt\n",
    "from anu_inversion_course import rf\n"
   ]
  },
  {
   "cell_type": "markdown",
   "metadata": {
    "deletable": true,
    "editable": true,
    "local_metadata": {},
    "remote_metadata": {
     "deletable": true,
     "editable": true
    }
   },
   "source": [
    "The function `rf.rfcalc()` computes synthetic receiver functions (using routines developed by Takuo Shibutani). It is called as follows:\n",
    "```python\n",
    "t,rfunc = rf.rfcalc(model)\n",
    "```\n",
    "where `model` is a NumPy array of dimension `[nlayers,3]`. The values in `model[:,0]` give the depths of discontinuities in the model, while `model[:,1]` contains the S-wave speed above the interface. `model[:,2]` is the ratio of S-wave speed to P-wave speed. The maximum depth of discontinuity that can be considered is 60km.\n",
    "\n",
    "For example, here is the Earth model."
   ]
  },
  {
   "cell_type": "code",
   "execution_count": 8,
   "metadata": {
    "deletable": true,
    "editable": true,
    "local_metadata": {
     "collapsed": false
    },
    "remote_metadata": {
     "collapsed": true,
     "deletable": true,
     "editable": true
    },
    "tags": []
   },
   "outputs": [],
   "source": [
    "model = np.array([[1,4.0,1.7],\n",
    "                  [3.5,4.3,1.7],\n",
    "                  [8.0,4.2,2.0],\n",
    "                  [20, 6,1.7],\n",
    "                  [45,6.2,1.7]])"
   ]
  },
  {
   "cell_type": "markdown",
   "metadata": {
    "deletable": true,
    "editable": true,
    "local_metadata": {},
    "remote_metadata": {
     "deletable": true,
     "editable": true
    }
   },
   "source": [
    "Lets plot the Earth model"
   ]
  },
  {
   "cell_type": "code",
   "execution_count": 9,
   "metadata": {
    "collapsed": false,
    "deletable": true,
    "editable": true,
    "jupyter": {
     "outputs_hidden": false
    },
    "local_metadata": {
     "collapsed": false
    },
    "remote_metadata": {
     "collapsed": false,
     "deletable": true,
     "editable": true
    }
   },
   "outputs": [
    {
     "data": {
      "image/png": "[encoded data removed]",
      "text/plain": [
       "<Figure size 288x432 with 1 Axes>"
      ]
     },
     "metadata": {
      "needs_background": "light"
     },
     "output_type": "display_data"
    }
   ],
   "source": [
    "px = np.zeros([2*len(model),2])\n",
    "py = np.zeros([2*len(model),2])\n",
    "n=len(model)\n",
    "px[0::2,0],px[1::2,0],px[1::2,1],px[2::2,1] = model[:,1],model[:,1],model[:,0],model[:-1,0]\n",
    "plt.figure(figsize=(4,6))\n",
    "plt.xlabel('Vs (km/s)')\n",
    "plt.ylabel('Depth (km)')\n",
    "plt.gca().invert_yaxis()\n",
    "plt.plot(px[:,0],px[:,1],'b-')\n",
    "plt.show()"
   ]
  },
  {
   "cell_type": "markdown",
   "metadata": {
    "deletable": true,
    "editable": true,
    "local_metadata": {},
    "remote_metadata": {
     "deletable": true,
     "editable": true
    }
   },
   "source": [
    "Now we calculate the receiver function and plot it."
   ]
  },
  {
   "cell_type": "code",
   "execution_count": 10,
   "metadata": {
    "collapsed": false,
    "deletable": true,
    "editable": true,
    "jupyter": {
     "outputs_hidden": false
    },
    "local_metadata": {
     "collapsed": true
    },
    "remote_metadata": {
     "collapsed": false,
     "deletable": true,
     "editable": true
    }
   },
   "outputs": [
    {
     "data": {
      "image/png": "[encoded data removed]",
      "text/plain": [
       "<Figure size 432x288 with 1 Axes>"
      ]
     },
     "metadata": {
      "needs_background": "light"
     },
     "output_type": "display_data"
    }
   ],
   "source": [
    "# calculate and plot receiver function\n",
    "t,rfunc = rf.rfcalc(model)          # Receiver function\n",
    "t2,rfunc2 = rf.rfcalc(model,sn=0.5) # Receiver function with added correlated noise\n",
    "plt.plot(t,rfunc,label='No noise RF')\n",
    "plt.plot(t2,rfunc2,'r-',label='Noisy RF')\n",
    "plt.xlabel('Time/s')\n",
    "plt.ylabel('Amplitude')\n",
    "plt.legend()\n",
    "plt.show()"
   ]
  },
  {
   "cell_type": "markdown",
   "metadata": {
    "deletable": true,
    "editable": true,
    "local_metadata": {},
    "remote_metadata": {
     "deletable": true,
     "editable": true
    }
   },
   "source": [
    "**Task 1:** Familiarise yourself with the function `rf.rfcalc()` and explore how the receiver function behaves as you change the model."
   ]
  },
  {
   "cell_type": "code",
   "execution_count": 123,
   "metadata": {
    "collapsed": false,
    "deletable": true,
    "editable": true,
    "jupyter": {
     "outputs_hidden": false
    },
    "local_metadata": {
     "collapsed": true
    },
    "remote_metadata": {
     "collapsed": true,
     "deletable": true,
     "editable": true
    }
   },
   "outputs": [],
   "source": [
    "# Try it here! You can insert more cells by selecting Cell > Insert Cell Above/Below from the menu\n",
    "# bar, or by pressing Esc to enter command mode and then hitting A or B (for above/below). \n",
    "\n",
    "# calculate and plot receiver function with different parameters\n",
    "\n"
   ]
  },
  {
   "cell_type": "markdown",
   "metadata": {
    "deletable": true,
    "editable": true,
    "local_metadata": {},
    "remote_metadata": {
     "deletable": true,
     "editable": true
    }
   },
   "source": [
    "**Task 2:** Invent a model with around 5 layers, plot it and then compute the corresponding receiver function with the noise parameter $sn$ set to some reasonable value, say $sn=0.5$. Plot the noisy and noiseless receiver functions together just as in the figure above. We are going to treat the noisy receiver function as data.\n",
    "\n",
    "To measure the fit of this observed receiver function to the receiver function predicted by any other model, ${\\mathbf d}_{pred}$, we need to compute the negative log of the Likelihood\n",
    "\n",
    "\\begin{equation*}\n",
    "-\\log (p({\\mathbf d}_{obs} | {\\mathbf m}) = ({\\mathbf d}_{obs}-{\\mathbf d}_{pred})^T C_D^{-1} ({\\mathbf d}_{obs}-{\\mathbf d}_{pred})\n",
    "\\end{equation*}\n",
    "\n",
    "where $C_D^{-1}$ is the inverse data covariance matrix describing correlated noise in the receiver function. You can do this using the supplied routine InvDataCov($\\sigma_t$,$\\sigma_a$,$n$), which builds an $nxn$ inverse data covariance matrix for a time signal with amplitude variance $\\sigma_a^2$ and time correlation length $\\sigma_t$, for receiver length of $n$ time samples. In this example you can use $\\sigma_t = 2.5$, $\\sigma_a=0.01$. Compute the negative log Likelihood between the noisy data and the predicted receiver function of the true model. "
   ]
  },
  {
   "cell_type": "code",
   "execution_count": 124,
   "metadata": {
    "collapsed": false,
    "deletable": true,
    "editable": true,
    "jupyter": {
     "outputs_hidden": false
    }
   },
   "outputs": [],
   "source": [
    "# generate new Earth model and plot it with receiver function\n",
    "\n"
   ]
  },
  {
   "cell_type": "code",
   "execution_count": 125,
   "metadata": {
    "collapsed": false,
    "deletable": true,
    "editable": true,
    "jupyter": {
     "outputs_hidden": false
    },
    "local_metadata": {
     "collapsed": true
    },
    "remote_metadata": {
     "collapsed": true,
     "deletable": true,
     "editable": true
    }
   },
   "outputs": [],
   "source": [
    "# Try it here! You can insert more cells by selecting Cell > Insert Cell Above/Below from the menu\n",
    "# bar, or by pressing Esc to enter command mode and then hitting A or B (for above/below). \n",
    "\n",
    "Cdinv = rf.InvDataCov(2.5,0.01,len(rfunc))\n",
    "# now compute the negative log Likelihood between the receiver functions of your two models.\n",
    "\n",
    "# Calculate waveform misfit between noisy and noiseless receiver functions\n"
   ]
  },
  {
   "cell_type": "markdown",
   "metadata": {
    "deletable": true,
    "editable": true,
    "local_metadata": {},
    "remote_metadata": {
     "deletable": true,
     "editable": true
    }
   },
   "source": [
    "**Task 3:** Now we're going to assume that we know everything about the model, except for the depth of one interface. Select one interface in your model which you will pretend is 'unknown', and plot how the agreement between 'data' and synthetics varies with this unknown. Choose ranges for each variable something like the following $(0,60 km)$ for a depth variable. Try and plot the negative log-Likelihood as a function of the depth variable. Is the minimum where you expected it to be? Does your plot give you the impression that this problem is highly nonlinear?"
   ]
  },
  {
   "cell_type": "code",
   "execution_count": 126,
   "metadata": {
    "collapsed": false,
    "deletable": true,
    "editable": true,
    "jupyter": {
     "outputs_hidden": false
    },
    "local_metadata": {
     "collapsed": true
    },
    "remote_metadata": {
     "collapsed": true,
     "deletable": true,
     "editable": true
    }
   },
   "outputs": [],
   "source": [
    "# Try it here! You can insert more cells by selecting Cell > Insert Cell Above/Below from the menu\n",
    "# bar, or by pressing Esc to enter command mode and then hitting A or B (for above/below). \n",
    "\n",
    "# Calculate misfit as a function of depth of a chosen layer\n"
   ]
  },
  {
   "cell_type": "markdown",
   "metadata": {
    "deletable": true,
    "editable": true,
    "local_metadata": {},
    "remote_metadata": {
     "deletable": true,
     "editable": true
    }
   },
   "source": [
    "**Task 4:** Explore what happens if the unknown parameter is $V_s$ in the layer, or its $V_p/V_s$ ratio, and its depth is known. Choose ranges for each variable something like $\\pm 1.0 km/s$ for a $V_s$ variable or $\\pm 0.5$ for $V_s/V_p$. "
   ]
  },
  {
   "cell_type": "code",
   "execution_count": 127,
   "metadata": {
    "collapsed": false,
    "deletable": true,
    "editable": true,
    "jupyter": {
     "outputs_hidden": false
    },
    "local_metadata": {
     "collapsed": true
    },
    "remote_metadata": {
     "collapsed": true,
     "deletable": true,
     "editable": true
    }
   },
   "outputs": [],
   "source": [
    "# Try it here! You can insert more cells by selecting Cell > Insert Cell Above/Below from the menu\n",
    "# bar, or by pressing Esc to enter command mode and then hitting A or B (for above/below). \n",
    "\n"
   ]
  },
  {
   "cell_type": "markdown",
   "metadata": {
    "deletable": true,
    "editable": true,
    "local_metadata": {},
    "remote_metadata": {
     "deletable": true,
     "editable": true
    }
   },
   "source": [
    "\n",
    "**Task 5:** Now, suppose we have two unknown parameters - the interface depth and associated $V_s$, perhaps, or two depth parameters. Map out how the agreement between 'data' and predicted receiver function varies as you change both parameters. Plot a contour map of this data misfit surface? How multi-modal is this?\n"
   ]
  },
  {
   "cell_type": "code",
   "execution_count": 128,
   "metadata": {
    "collapsed": false,
    "deletable": true,
    "editable": true,
    "jupyter": {
     "outputs_hidden": false
    },
    "local_metadata": {
     "collapsed": true
    },
    "remote_metadata": {
     "collapsed": true,
     "deletable": true,
     "editable": true
    }
   },
   "outputs": [],
   "source": [
    "# Try it here! You can insert more cells by selecting Cell > Insert Cell Above/Below from the menu\n",
    "# bar, or by pressing Esc to enter command mode and then hitting A or B (for above/below). \n",
    "\n"
   ]
  },
  {
   "cell_type": "markdown",
   "metadata": {
    "deletable": true,
    "editable": true,
    "local_metadata": {},
    "remote_metadata": {
     "deletable": true,
     "editable": true
    }
   },
   "source": [
    "**Task 6:** Now choose to search this 2-D space with either a (nested) grid search in a square or a (nested) Gaussian sampler. In each case you must choose the density of the sampling, adjust the centre of the sampling in each iteration and record the progress toward finding the best fit solution. How close do you get to the known true values? How does the distance between the best fit solution and the true solution change with numbers of random samples? Try and plot this."
   ]
  },
  {
   "cell_type": "code",
   "execution_count": 129,
   "metadata": {
    "collapsed": false,
    "deletable": true,
    "editable": true,
    "jupyter": {
     "outputs_hidden": false
    }
   },
   "outputs": [],
   "source": [
    "# Try it here! You can insert more cells by selecting Cell > Insert Cell Above/Below from the menu\n",
    "# bar, or by pressing Esc to enter command mode and then hitting A or B (for above/below). \n"
   ]
  },
  {
   "cell_type": "markdown",
   "metadata": {
    "deletable": true,
    "editable": true,
    "local_metadata": {},
    "remote_metadata": {
     "deletable": true,
     "editable": true
    }
   },
   "source": [
    "**Task 7:** What do you think would happen if you repeat this process and increase the number of unknown parameters in your inversion?"
   ]
  },
  {
   "cell_type": "code",
   "execution_count": 130,
   "metadata": {
    "collapsed": false,
    "deletable": true,
    "editable": true,
    "jupyter": {
     "outputs_hidden": false
    },
    "local_metadata": {
     "collapsed": true
    },
    "remote_metadata": {
     "collapsed": true,
     "deletable": true,
     "editable": true
    }
   },
   "outputs": [],
   "source": [
    "# Try it here! You can insert more cells by selecting Cell > Insert Cell Above/Below from the menu\n",
    "# bar, or by pressing Esc to enter command mode and then hitting A or B (for above/below). \n",
    "\n"
   ]
  },
  {
   "cell_type": "markdown",
   "metadata": {
    "deletable": true,
    "editable": true
   },
   "source": [
    "## Practical problem 5.1  Applying Bayesian inference to the biased coin problem"
   ]
  },
  {
   "cell_type": "markdown",
   "metadata": {
    "deletable": true,
    "editable": true
   },
   "source": [
    "In this practical, we will perform Bayesian inference for a single parameter, constrained by some obervational data, and examine how the posterior knowledge of the parameter changes as we collect new data.\n",
    "\n",
    "If $\\alpha$ is the probability that a head will occur when a coin is tossed, then a biased  coin is described by a value $\\alpha \\ne 0.5$. We have $0\\le \\alpha \\le 1$, where a value of $\\alpha=1$ means a head will always be the result of a coin toss and if $\\alpha=0$ a tail will always result.\n",
    " \n",
    "As in every Python program, we need to begin by loading some libraries. For Jupyter we also need the `%matplotlib inline` command, which ensures that figures are rendered properly within the Notebook. This could be omitted if you wanted to reproduce this practical as a 'standard' Python program.\n",
    "\n"
   ]
  },
  {
   "cell_type": "code",
   "execution_count": 11,
   "metadata": {
    "deletable": true,
    "editable": true,
    "tags": []
   },
   "outputs": [],
   "source": [
    "%matplotlib inline\n",
    "import numpy as np\n",
    "import matplotlib.pyplot as plt"
   ]
  },
  {
   "cell_type": "markdown",
   "metadata": {
    "deletable": true,
    "editable": true
   },
   "source": [
    "Now we read in the coin toss data as ones for heads and zeros for tails."
   ]
  },
  {
   "cell_type": "code",
   "execution_count": 12,
   "metadata": {
    "deletable": true,
    "editable": true,
    "tags": []
   },
   "outputs": [],
   "source": [
    "#initialise the list of coin flip results\n",
    "tosses = open('../Datasets/coin_data1-numeric.txt','r')\n",
    "tosses = tosses.readlines()\n",
    "tosses = np.array([int(flip) for flip in tosses])"
   ]
  },
  {
   "cell_type": "markdown",
   "metadata": {
    "deletable": true,
    "editable": true
   },
   "source": [
    "The Binomial theorem tells us the probability that there are $R$ heads in $N$ coin tosses for a coin where the the probability of a head is $\\alpha$ is given by\n",
    "\n",
    "\\begin{equation*}\n",
    "p(R|\\alpha,N) = \\frac{N!}{R!(N-R)!} \\alpha^R (1-\\alpha)^{N-R}\n",
    "\\end{equation*}\n",
    "\n",
    "**Task 1:** Decide on an appropriate Likelihood function to use the observed value of $R$ to constrain the unknown $\\alpha$ and write it down, $p(R | \\alpha)$. Assuming we have no particular prior preference for $\\alpha$ decide on a prior PDF, $p(\\alpha)$. From these determine the form of the posterior PDF, $p(\\alpha | R)$ and write these down. Remember you only need to know the posterior PDF up to a multiplicative constant, ignoring normalization terms that do not depend on $\\alpha$."
   ]
  },
  {
   "cell_type": "markdown",
   "metadata": {
    "deletable": true,
    "editable": true
   },
   "source": [
    "**Task 2:** Use the coin toss data to calculate the poster PDF, $p(\\alpha | R(N))$ for $N=1, 2, 3, 4, 8, 64, 1024$, and plot the PDF for each case. What do you conclude about the true value of $\\alpha$?\n",
    "\n",
    "Hint: In any computer program it is always best to calculate log p(njd)\n",
    "first and then take an exponent to evaluate the curve as a function\n",
    "of n. Stirling’s formulae for the approximation to n! may be useful."
   ]
  },
  {
   "cell_type": "code",
   "execution_count": 133,
   "metadata": {
    "collapsed": false,
    "deletable": true,
    "editable": true,
    "jupyter": {
     "outputs_hidden": false
    }
   },
   "outputs": [],
   "source": [
    "# Try it here! You can insert more cells by selecting Cell > Insert Cell Above/Below from the menu\n",
    "# bar, or by pressing Esc to enter command mode and then hitting A or B (for above/below). \n",
    "#\n",
    "#In any computer program it is always best to calculate log p(njd)\n",
    "#first and then take an exponent to evaluate the curve as a function\n",
    "#of n. Stirling’s formulae for the approximation to n! may be useful.\n"
   ]
  },
  {
   "cell_type": "markdown",
   "metadata": {
    "deletable": true,
    "editable": true
   },
   "source": [
    "**Task 3:** Now calculate an estimate of $\\alpha$ for each case using a Frequentist approach. Decide on what a good estimator of $\\alpha$ would be given $R$ and $N$. Calculate this estimator for each case and place on the same figure. How well does it compare to the Posterior PDF?"
   ]
  },
  {
   "cell_type": "code",
   "execution_count": 134,
   "metadata": {
    "collapsed": false,
    "deletable": true,
    "editable": true,
    "jupyter": {
     "outputs_hidden": false
    }
   },
   "outputs": [],
   "source": [
    "# Try it here! You can insert more cells by selecting Cell > Insert Cell Above/Below from the menu\n",
    "# bar, or by pressing Esc to enter command mode and then hitting A or B (for above/below). \n",
    "#\n"
   ]
  },
  {
   "cell_type": "markdown",
   "metadata": {
    "deletable": true,
    "editable": true
   },
   "source": [
    "**Task 4:** More formally a good Frequentist estimator is the maximum of the Likelihood. You can get an expression of the maximum Likelihood value for $\\alpha$, by finding $\\alpha$ such that $\\frac{d L}{d\\alpha} = 0$, where $L$ is your Likelihood expression. Try and differentiate your expression for the Likelihood and solve this equation for $\\alpha$. How does this expression compare to your estimator you produced in Task 3.\n",
    "\n",
    "Theory tells us that an estimated error in the Frequentist estimator is given by $\\sigma = \\left( \\frac{d^2 L_o}{d \\alpha^2}\\right)^{1/2}$, where $L_o = -\\log L$, the negative log-Likelihood. Calculate this error estimate for the Frequentist estimator and put on the figures above. How does the estimator and its error compare to the Posterior PDF for each case?"
   ]
  },
  {
   "cell_type": "code",
   "execution_count": 135,
   "metadata": {
    "collapsed": false,
    "deletable": true,
    "editable": true,
    "jupyter": {
     "outputs_hidden": false
    }
   },
   "outputs": [],
   "source": [
    "# Try it here! You can insert more cells by selecting Cell > Insert Cell Above/Below from the menu\n",
    "# bar, or by pressing Esc to enter command mode and then hitting A or B (for above/below). \n",
    "#\n",
    "\n"
   ]
  },
  {
   "cell_type": "markdown",
   "metadata": {
    "deletable": true,
    "editable": true
   },
   "source": [
    "**Task 5:** Repeat the above steps for the second data set. Do you notice a difference in the rate of convergence of the posterior PDF to the true solution? Why would this be?"
   ]
  },
  {
   "cell_type": "code",
   "execution_count": 13,
   "metadata": {
    "collapsed": false,
    "deletable": true,
    "editable": true,
    "jupyter": {
     "outputs_hidden": false
    }
   },
   "outputs": [],
   "source": [
    "# Try it here! You can insert more cells by selecting Cell > Insert Cell Above/Below from the menu\n",
    "# bar, or by pressing Esc to enter command mode and then hitting A or B (for above/below). \n",
    "#\n",
    "\n",
    "#initialise the list of coin flip results\n",
    "tosses = open('../Datasets/coin_data2-numeric.txt','r')\n",
    "tosses = tosses.readlines()\n",
    "tosses = np.array([int(flip) for flip in tosses])"
   ]
  },
  {
   "cell_type": "code",
   "execution_count": null,
   "metadata": {
    "collapsed": false,
    "deletable": true,
    "editable": true,
    "jupyter": {
     "outputs_hidden": false
    }
   },
   "outputs": [],
   "source": []
  },
  {
   "cell_type": "markdown",
   "metadata": {
    "deletable": true,
    "editable": true
   },
   "source": [
    "## Practical problem 5.2  Applying Bayesian inference to a lottery"
   ]
  },
  {
   "cell_type": "markdown",
   "metadata": {
    "deletable": true,
    "editable": true
   },
   "source": [
    "In this example we will compare Bayesian and Frequentist approaches to using published data to estimate the number of tickets sold in a national lottery. The single unknown in the problem is the total number of entries (i.e. sets of 6 numbers) sold, which we will call $n$. The data is the number of\n",
    "winning entries of each division $d_i, (i=1,\\dots,N_{div}) $, where $N_{div}$ is\n",
    "6 for the example below. These are given without error. Of\n",
    "course, since both the cost per entry and the total prize money are\n",
    "published then an estimate of $n$, allows a direct inference on the\n",
    "total profit before costs made by the lotto organisation. (In reality\n",
    "the real value of $n$ is never made public!)\n",
    "\n",
    "We will look at the problem both from a Frequentist viewpoint, using the\n",
    "data to make a single estimate of $n$, and also a Bayesian inference\n",
    "viewpoint where we use the data to construct a probability distribution\n",
    "for $n$.\n",
    "\n",
    "### Background theory\n",
    "\n",
    "The probability of winning each division, is independent of the total\n",
    "number of entries $n$, so these may be treated as a set of known\n",
    "constants, $p_i, (i=1,\\dots, N_{div})$, the value of which depends on\n",
    "the details of the game. \n",
    "\n",
    "<img src=\"../Figures/table.png\" alt=\"Bootstrap figure\" width=\"600\"/>\n",
    "\n",
    "Table 1. $p_i$ is the probability of winning division $i$ and $d_i$ are the number of actual winners in division $i$. Australian Tattslotto dividend results for draw number 3253 on 29/09/2012. Total prize pool of \\$49.92m, with division 1 prize of \\$22m. The cost of a single entry is about \\$0.65."
   ]
  },
  {
   "cell_type": "markdown",
   "metadata": {
    "deletable": true,
    "editable": true
   },
   "source": [
    "### Tasks to complete:\n",
    "**Task 1**  A Frequentist solution might be to take the number of winners of\n",
    "    each division and divide by the probability of winning to get\n",
    "    multiple estimates of $n$. These estimates are independent and we\n",
    "    could average them. Do this for the data above to get an estimate\n",
    "    for $n$. By how much do these estimates vary ?"
   ]
  },
  {
   "cell_type": "code",
   "execution_count": 137,
   "metadata": {
    "collapsed": false,
    "deletable": true,
    "editable": true,
    "jupyter": {
     "outputs_hidden": false
    }
   },
   "outputs": [],
   "source": [
    "# Write your answer in here\n",
    "\n",
    "ds = [14.,169.,3059.,149721.,369543.,802016.]\n",
    "pm1s = [8145060.,678756.,36696.,732.,300.,144.]\n",
    "\n"
   ]
  },
  {
   "cell_type": "markdown",
   "metadata": {
    "deletable": true,
    "editable": true
   },
   "source": [
    "**Task 2**  \n",
    "A Bayesian inference approach requires us to find the Likelihood and\n",
    "    prior and then multiply them together. Lets assume our prior is\n",
    "    uniform between $1< n < 3\\times 10^8$ which is a safe assumption.\n",
    "    The likelihood is the probability of the data given the model, i.e.\n",
    "    the probability that there would be $d_i$ winners of division $i$\n",
    "    and $n - d_i$ non winners when there are $n$ tickets sold. The\n",
    "    binomial theorem tells us that this probability, $p(d_i | n)$, is\n",
    "    given by\n",
    "$$p(d_i | n) = \\frac{n!}{d_i! (n-d_i)!} \\times p_i^{d_i} (1-p_i)^{n-d_i}$$\n",
    "\n",
    "All values in this expression are known except the value of\n",
    "    $n$. Since the number of winners in each division provides\n",
    "    independent data, the total likelihood is the product of similar\n",
    "    terms for each division, i.e.   \n",
    "$$p({\\bf d}| n) =\\prod_{i=1}^{N_{div}} p(d_i | n)$$\n",
    "\n",
    "Bayes’ theorem says that to find the <span>*a posteriori*</span>\n",
    "    probability distribution for the unknown $n$ we just multiply the\n",
    "    likelihood by the prior. Since the prior is a constant the result is\n",
    "$$p(n | {\\bf d}) \\propto  \\prod_{i=1}^{N_{div}} \\frac{n!}{(n-d_i)!} \\times (1-p_i)^{n-d_i}\n",
    "       $$\n",
    "\n",
    "which holds for $1 \\le n \\le 3\\times 10^8$. Outside this range the\n",
    "    posterior PDF is zero because the prior is zero. Our only interest\n",
    "    is in the unknown $n$ and so the constant of proportionality is used\n",
    "    to absorb all quantities independent of $n$.\n",
    "\n",
    "Your task is to use the values of $(d_i, p_i), i=1,\\dots, 6$ from\n",
    "    the table and plot the posterior probability distribution as a function of\n",
    "    $n$. Do this in the range 112.5m - 114.5m. Did you get the type of figure that you expected? \n",
    "    Compare this curve to the single frequentist estimate of $n$ you obtained in part 1, what do you\n",
    "    notice?\n",
    "    \n",
    "[Hint: In any computer program it is always best to calculate $\\log p(n | {\\bf d})$ first and then take an exponent to evaluate the curve as a function of $n$. Stirling's formulae for the approximation to $n!$ may be useful.]\n"
   ]
  },
  {
   "cell_type": "code",
   "execution_count": 138,
   "metadata": {
    "collapsed": false,
    "deletable": true,
    "editable": true,
    "jupyter": {
     "outputs_hidden": false
    }
   },
   "outputs": [],
   "source": [
    "# Write your answer in here\n",
    "import math as mt\n"
   ]
  },
  {
   "cell_type": "markdown",
   "metadata": {
    "deletable": true,
    "editable": true
   },
   "source": [
    "**Task 3**  \n",
    "Repeat the problem using the Maximum Likelihood (ML) approach. This\n",
    "    is done by finding the value of $n$ which maximises the \n",
    "    likelihood. Since the prior is a\n",
    "    constant for this problem the likelihood is proportional to the\n",
    "    curve you produced in part 2. You could probably do it visually.\n",
    "    Plot the average estimate you obtained in part 1 on top of the curve\n",
    "    from part 2. How does the ML solution compare to the Bayesian solution and the Frequentist solution?\n"
   ]
  },
  {
   "cell_type": "code",
   "execution_count": 139,
   "metadata": {
    "collapsed": false,
    "deletable": true,
    "editable": true,
    "jupyter": {
     "outputs_hidden": false
    }
   },
   "outputs": [],
   "source": [
    "# Write your answer in here\n",
    "\n"
   ]
  },
  {
   "cell_type": "markdown",
   "metadata": {
    "deletable": true,
    "editable": true
   },
   "source": [
    "## Pracitcal problem 5.3: Probabilistic sampling for mixture of Gaussian PDFs"
   ]
  },
  {
   "cell_type": "markdown",
   "metadata": {
    "deletable": true,
    "editable": true
   },
   "source": [
    "**Task 1:**\n",
    "In this example we will define a target PDF to be a mixture of three Gaussians\n",
    "\n",
    "$$p(x,y) \\propto \\sum_{i=1}^3w_i \\exp\\left\\{ -0.5 (\\bar {\\mathbf x}_i - {\\mathbf x})^TC_i^{-1} (\\bar {\\mathbf x}_i - {\\mathbf x})\\right\\}  $$\n",
    "\n",
    "where the means, covariances and weights of the three distributions are given by, $\\bar {\\mathbf x}_1 = (0.6,0.6), \\bar {\\mathbf x}_2 = (0.8,0.2), \\bar {\\mathbf x}_3 = (0.2,0.3)$; $C_1 = 0.02I, C_2 = \\left(\\begin{array}\n",
    " 0.1 & 0.08\\\\\n",
    "0.08 & 0.1\n",
    "\\end{array}\\right), C_3 = \\left(\\begin{array}\n",
    " 0.1 & -0.06\\\\\n",
    "-0.06 & 0.1\n",
    "\\end{array}\\right) $, and $w_1 = 0.1, w_2 = 0.4, w_3 = 0.5$, respectively.\n",
    "\n",
    "Your first task to write a function to evaluate this PDF and then contour it over the region $0<= x,y <= 1)$"
   ]
  },
  {
   "cell_type": "code",
   "execution_count": 140,
   "metadata": {
    "collapsed": true,
    "deletable": true,
    "editable": true,
    "jupyter": {
     "outputs_hidden": true
    }
   },
   "outputs": [],
   "source": [
    "# Try it here! You can insert more cells by selecting Cell > Insert Cell Above/Below from the menu\n",
    "# bar, or by pressing Esc to enter command mode and then hitting A or B (for above/below). \n",
    "\n"
   ]
  },
  {
   "cell_type": "markdown",
   "metadata": {
    "deletable": true,
    "editable": true
   },
   "source": [
    "**Task 2:** \n",
    "Write a simple McMC sampler to sample the target PDF . \n",
    "\n",
    "\n",
    "You could do this by implementing the following simple algorithm:\n",
    "- Step 0. Generate a  starting point for a random walk ${\\mathbf x} = (x_1,y_1)$ and calculate the value of the PDF $p( {\\mathbf x}) $.\n",
    "- Step 1. Generate a new position ${\\mathbf x}^{\\prime}$ as a random draw from a symmetric proposal distribution,\n",
    "$q({\\mathbf x}^{\\prime}|{\\mathbf x}) $. There is flexibility in choosing the form of this proposal distribution. \n",
    "Try using $q({\\mathbf x}^{\\prime}|{\\mathbf x}) = N({\\mathbf x}, \\sigma^2I$), where $\\sigma$ is some distance you choose, e.g. $\\sigma=0.05$.\n",
    "- Step 2. Evaluate the target PDF at the proposed location $p({\\mathbf x}^{\\prime})$.\n",
    "- Step 3. Generate $r$ as a random draw from $U[0,1]$. If $r < \\frac{p({\\mathbf x}^{\\prime})}{p({\\mathbf x})}$ accept the random step by setting ${\\mathbf x} = {\\mathbf x}^{\\prime}$; Otherwise discard ${\\mathbf x}^{\\prime}$.\n",
    "- Step 4. Record ${\\mathbf x}$ as an entry of your output ensemble and go to 1."
   ]
  },
  {
   "cell_type": "markdown",
   "metadata": {
    "deletable": true,
    "editable": true
   },
   "source": [
    "Use your Metropolis sampler to generate an ensemble of $N$ points, where you choose $N$, and compare them to a contour plot of the target PDF, $p({\\mathbf x})$. Does the density of samples reflect the target distribution?"
   ]
  },
  {
   "cell_type": "code",
   "execution_count": null,
   "metadata": {
    "collapsed": false,
    "deletable": true,
    "editable": true,
    "jupyter": {
     "outputs_hidden": false
    }
   },
   "outputs": [],
   "source": []
  },
  {
   "cell_type": "markdown",
   "metadata": {
    "deletable": true,
    "editable": true
   },
   "source": [
    "**Task 3** Compare your samples to the original by plotting 1-D and 2-D marginal distributions for $x$ and $y$. You may find using the seaborn library very useful for this task."
   ]
  },
  {
   "cell_type": "code",
   "execution_count": 141,
   "metadata": {
    "collapsed": false,
    "deletable": true,
    "editable": true,
    "jupyter": {
     "outputs_hidden": false
    }
   },
   "outputs": [],
   "source": [
    "# Try it here! You can insert more cells by selecting Cell > Insert Cell Above/Below from the menu\n",
    "# bar, or by pressing Esc to enter command mode and then hitting A or B (for above/below). \n",
    "\n",
    "import seaborn as sns; \n",
    "sns.set(style=\"white\",color_codes=True)\n",
    "\n",
    "# you can use seaborn.jointplot to plot density of samples together with marginals\n"
   ]
  },
  {
   "cell_type": "markdown",
   "metadata": {
    "deletable": true,
    "editable": true
   },
   "source": [
    "Change the proposal distribution by increasing or decreasing $\\sigma$. What do you notice?"
   ]
  },
  {
   "cell_type": "code",
   "execution_count": 142,
   "metadata": {
    "collapsed": false,
    "deletable": true,
    "editable": true,
    "jupyter": {
     "outputs_hidden": false
    }
   },
   "outputs": [],
   "source": [
    "# Try it here! You can insert more cells by selecting Cell > Insert Cell Above/Below from the menu\n",
    "# bar, or by pressing Esc to enter command mode and then hitting A or B (for above/below). \n",
    "\n"
   ]
  },
  {
   "cell_type": "code",
   "execution_count": 143,
   "metadata": {
    "collapsed": false,
    "deletable": true,
    "editable": true,
    "jupyter": {
     "outputs_hidden": false
    }
   },
   "outputs": [],
   "source": [
    "# Try it here! You can insert more cells by selecting Cell > Insert Cell Above/Below from the menu\n",
    "# bar, or by pressing Esc to enter command mode and then hitting A or B (for above/below). \n"
   ]
  },
  {
   "cell_type": "markdown",
   "metadata": {
    "deletable": true,
    "editable": true
   },
   "source": [
    "## Pracitcal problem 5.4: Probabilistic sampling for a seismic Earth model"
   ]
  },
  {
   "cell_type": "markdown",
   "metadata": {
    "deletable": true,
    "editable": true
   },
   "source": [
    "'Receiver functions' are a class of seismic data used to study discontinuities (layering) in the Earth's crust. At each discontinuity, P-to-S conversions occur, introducing complexity in the waveform. By deconvolving horizontal- and vertical-channel waveforms from earthquakes at teleseismic distances, we can isolate information about these conversions, and hence learn about the crustal structure. This deconvolved signal is the receiver function, and has a highly non-linear dependence on the local crustal properties."
   ]
  },
  {
   "cell_type": "code",
   "execution_count": 15,
   "metadata": {
    "deletable": true,
    "editable": true,
    "tags": []
   },
   "outputs": [],
   "source": [
    "#%matplotlib inline\n",
    "import numpy as np\n",
    "import matplotlib.pyplot as plt\n",
    "from anu_inversion_course import rf\n",
    "import anu_inversion_course.plotcovellipse as pc"
   ]
  },
  {
   "cell_type": "markdown",
   "metadata": {
    "deletable": true,
    "editable": true
   },
   "source": [
    "The function `rf.rfcalc()` computes synthetic receiver functions (using routines developed by Dr. Takuo Shibutani). It is called as follows:\n",
    "```python\n",
    "t,rfunc = rf.rfcalc(model)\n",
    "```\n",
    "where `model` is a NumPy array of dimension `[nlayers,3]`. The values in `model[:,0]` give the depths of discontinuities in the model, while `model[:,1]` contains the S-wave speed above the interface. `model[:,2]` is the ratio of S-wave speed to P-wave speed. The maximum depth of discontinuity that can be considered is 60km.\n",
    "\n",
    "For example, here is the Earth model."
   ]
  },
  {
   "cell_type": "code",
   "execution_count": 16,
   "metadata": {
    "deletable": true,
    "editable": true,
    "tags": []
   },
   "outputs": [],
   "source": [
    "model = np.array([[1,4.0,1.7],\n",
    "                  [3.5,4.3,1.7],\n",
    "                  [8.0,4.2,2.0],\n",
    "                  [20, 6,1.7],\n",
    "                  [45,6.2,1.7]])"
   ]
  },
  {
   "cell_type": "markdown",
   "metadata": {
    "deletable": true,
    "editable": true
   },
   "source": [
    "Lets plot the Earth model"
   ]
  },
  {
   "cell_type": "code",
   "execution_count": 17,
   "metadata": {
    "collapsed": false,
    "deletable": true,
    "editable": true,
    "jupyter": {
     "outputs_hidden": false
    }
   },
   "outputs": [
    {
     "data": {
      "image/png": "[encoded data removed]",
      "text/plain": [
       "<Figure size 288x432 with 1 Axes>"
      ]
     },
     "metadata": {
      "needs_background": "light"
     },
     "output_type": "display_data"
    }
   ],
   "source": [
    "px = np.zeros([2*len(model),2])\n",
    "py = np.zeros([2*len(model),2])\n",
    "n=len(model)\n",
    "px[0::2,0],px[1::2,0],px[1::2,1],px[2::2,1] = model[:,1],model[:,1],model[:,0],model[:-1,0]\n",
    "plt.figure(figsize=(4,6))\n",
    "plt.xlabel('Vs (km/s)')\n",
    "plt.ylabel('Depth (km)')\n",
    "plt.gca().invert_yaxis()\n",
    "plt.plot(px[:,0],px[:,1],'b-')\n",
    "plt.show()"
   ]
  },
  {
   "cell_type": "markdown",
   "metadata": {
    "deletable": true,
    "editable": true
   },
   "source": [
    "Now we calculate the receiver function and plot it."
   ]
  },
  {
   "cell_type": "code",
   "execution_count": 18,
   "metadata": {
    "collapsed": false,
    "deletable": true,
    "editable": true,
    "jupyter": {
     "outputs_hidden": false
    }
   },
   "outputs": [
    {
     "data": {
      "image/png": "[encoded data removed]",
      "text/plain": [
       "<Figure size 432x288 with 1 Axes>"
      ]
     },
     "metadata": {
      "needs_background": "light"
     },
     "output_type": "display_data"
    }
   ],
   "source": [
    "# calculate and plot receiver function\n",
    "t,RFp = rf.rfcalc(model)          # Receiver function\n",
    "t2,RFo = rf.rfcalc(model,sn=0.5) # Receiver function with added correlated noise\n",
    "plt.plot(t,RFp,label='No noise RF')\n",
    "plt.plot(t2,RFo,'r-',label='Noisy RF')\n",
    "plt.xlabel('Time/s')\n",
    "plt.ylabel('Amplitude')\n",
    "plt.legend()\n",
    "plt.show()"
   ]
  },
  {
   "cell_type": "markdown",
   "metadata": {
    "deletable": true,
    "editable": true
   },
   "source": [
    "**Task 1:** Familiarise yourself with the function `rf.rfcalc()` and explore how the receiver function behaves as you change the model."
   ]
  },
  {
   "cell_type": "markdown",
   "metadata": {
    "deletable": true,
    "editable": true
   },
   "source": [
    "**Task 2:** Invent a model with around 5 layers, plot it and then compute the corresponding receiver function with the noise parameter $sn$ set to some reasonable value, say $sn=0.5$. Plot the noisy and noiseless receiver functions together just as in the figure above. We are going to treat the noisy receiver function as data.\n"
   ]
  },
  {
   "cell_type": "code",
   "execution_count": 19,
   "metadata": {
    "collapsed": false,
    "deletable": true,
    "editable": true,
    "jupyter": {
     "outputs_hidden": false
    }
   },
   "outputs": [],
   "source": [
    "# Try it here! You can insert more cells by selecting Cell > Insert Cell Above/Below from the menu\n",
    "# bar, or by pressing Esc to enter command mode and then hitting A or B (for above/below). \n",
    "\n",
    "# generate new Earth model and plot it with receiver function\n"
   ]
  },
  {
   "cell_type": "markdown",
   "metadata": {
    "deletable": true,
    "editable": true
   },
   "source": [
    "**Task 3:** To measure the fit of the observed and calculationed Receiver function we specify a Likelihood function $p({\\mathbf d}_{obs}| {\\mathbf m})$ \n",
    "\n",
    "\\begin{equation*}\n",
    "p({\\mathbf d}_{obs} | {\\mathbf m}) \\propto \\exp \\left\\{- \\frac{1}{2} ({\\mathbf d}_{obs}-{\\mathbf d}_{pred}({\\mathbf m}))^T C_D^{-1} ({\\mathbf d}_{obs}-{\\mathbf d}_{pred}({\\mathbf m})) \\right\\}\n",
    "\\end{equation*}\n",
    "\n",
    "where ${\\mathbf d}_{obs}$ is the observed receiver function and ${\\mathbf d}_{pred}({\\mathbf m})$ is the one predicted by model $({\\mathbf m})$. Teh Likelihood is defined as the probability of observing the data actually observed, given an Earth model.\n",
    "\n",
    "In practice we usually need to evaluate the negative log of the Likelihood\n",
    "which involves the inverse data covariance matrix describing correlated noise in the receiver function, $C_D^{-1}$ . For this problem you can evaluate $C_D^{-1}$ using the supplied routine InvDataCov($\\sigma_t$,$\\sigma_a$,$n$), which builds an $nxn$ inverse data covariance matrix for a time signal with amplitude variance $\\sigma_a^2$ and time correlation length $\\sigma_t$, for receiver length of $n$ time samples. In this example you can use $\\sigma_t = 2.5$, $\\sigma_a=0.01$. \n",
    "\n",
    "In this example we will also temper the Likelihood by rescaling the data covariance matrix by a temperature value, $T$, i.e. use $C_D^{-1}/T$ as the data covariance matrix in all calculations. This effectively reduces the size of `peakiness' of the posterior PDF to a simpler more manageable distribution. For this example set $T=100$.\n",
    "\n",
    "Write a routine to compute the Likelihood of any test model using the above expression tempered by $T$."
   ]
  },
  {
   "cell_type": "code",
   "execution_count": 149,
   "metadata": {
    "collapsed": false,
    "deletable": true,
    "editable": true,
    "jupyter": {
     "outputs_hidden": false
    }
   },
   "outputs": [],
   "source": [
    "# Try it here! You can insert more cells by selecting Cell > Insert Cell Above/Below from the menu\n",
    "# bar, or by pressing Esc to enter command mode and then hitting A or B (for above/below). \n"
   ]
  },
  {
   "cell_type": "markdown",
   "metadata": {
    "deletable": true,
    "editable": true
   },
   "source": [
    "**Task 4:** Select two interface depth parameters in your model, i.e. 2 amd 3 would be a good pair. We will now pretend that the true depths of these two interfaces in the Earth model are 'unknown'. We will use McMC to try and sample the 2-D multi-modal PDF for these eparameters.\n",
    "\n",
    "Choose a reasonable prior $p({\\mathbf m})$ for this problem that you can generate samples from. A simple one might be uniform between fixed bounds. \n",
    "\n",
    "Suitable ranges for each variable would be $(0,60km)$ for an interface depth, $\\pm 1.0 km/s$ for a $V_s$ variable and $\\pm 0.5$ for $V_s/V_p$. \n",
    "\n",
    "Write a simple McMC sampler to determine the posterior distribution over these two parameters. \n",
    "\n",
    "You could do this by implementing the following simple algorithm:\n",
    "- Step 0. Generate a  set of depths for your two interfaces ${\\mathbf m} = (z_1,z_2)$ and calculate the Likelihood $L = p({\\mathbf d}_{obs} | {\\mathbf m}) $\n",
    "- Step 1. Generate a new proposed model ${\\mathbf m}^{\\prime}$ as a random draw from the prior, and calculate its Likelihood, $L^{\\prime}=p({\\mathbf d}_{obs} | {\\mathbf m}^{\\prime}) $.\n",
    "- Step 2. Generate $r$ as a random draw from $U[0,1]$. If $r < \\frac{L^{\\prime}}{L}$ set ${\\mathbf m} = {\\mathbf m}^{\\prime}$.\n",
    "- Step 3. Record ${\\mathbf m}$ as an entry of your output ensemble and go to 1.\n",
    "\n",
    "To do this you are advise to write routines to evaluate the Likelihood for a given model and data; and to draw a model from the prior."
   ]
  },
  {
   "cell_type": "markdown",
   "metadata": {
    "deletable": true,
    "editable": true
   },
   "source": [
    "To run your McMC sampler you will need to choose the length of the McMC chain. perhaps 100 for testing and at least $10^4$ for a reasonable run. Calculate and print out the percentage of accepted steps in the McMC chain. This number measured how efficient your chain is in drawing samples from the posterior PDF. It depends on the complexity of the target PDF. Ideally we would like values around 20%, but can live with > 5%. The lower it is the fewer useful samples you will have in the output chain and the more likely you will have to thin the output chain before calculating properties of your ensemble."
   ]
  },
  {
   "cell_type": "code",
   "execution_count": 150,
   "metadata": {
    "collapsed": false,
    "deletable": true,
    "editable": true,
    "jupyter": {
     "outputs_hidden": false
    }
   },
   "outputs": [],
   "source": [
    "# Try it here! You can insert more cells by selecting Cell > Insert Cell Above/Below from the menu\n",
    "# bar, or by pressing Esc to enter command mode and then hitting A or B (for above/below). \n",
    "\n"
   ]
  },
  {
   "cell_type": "markdown",
   "metadata": {
    "deletable": true,
    "editable": true
   },
   "source": [
    "**Task 5:** Adjust your Markov chain until you are satsified that it has converged and use the output to select an ensemble of samples that you feel are reasonably distributed according to the posterior PDF for your two variables.\n",
    "You may need to thin out the ensemble by subsampling. \n",
    "\n",
    "Plot the density of your McMC samples as a function of the two interface depths together with 1-D marginals for each interface. Compare these to a contour plot of the posterior distribution over the 2D model space."
   ]
  },
  {
   "cell_type": "code",
   "execution_count": 151,
   "metadata": {
    "collapsed": false,
    "deletable": true,
    "editable": true,
    "jupyter": {
     "outputs_hidden": false
    }
   },
   "outputs": [],
   "source": [
    "# Try it here! You can insert more cells by selecting Cell > Insert Cell Above/Below from the menu\n",
    "# bar, or by pressing Esc to enter command mode and then hitting A or B (for above/below). \n"
   ]
  },
  {
   "cell_type": "markdown",
   "metadata": {
    "deletable": true,
    "editable": true
   },
   "source": [
    "**Task 6:** Calculate the MAP and mean models of the posterior ensemble."
   ]
  },
  {
   "cell_type": "code",
   "execution_count": 152,
   "metadata": {
    "collapsed": false,
    "deletable": true,
    "editable": true,
    "jupyter": {
     "outputs_hidden": false
    }
   },
   "outputs": [],
   "source": [
    "# Try it here! You can insert more cells by selecting Cell > Insert Cell Above/Below from the menu\n",
    "# bar, or by pressing Esc to enter command mode and then hitting A or B (for above/below). \n",
    "\n"
   ]
  },
  {
   "cell_type": "markdown",
   "metadata": {
    "deletable": true,
    "editable": true
   },
   "source": [
    "**Task 7:** Calculate the posterior model covariance matrix and standard devistions of each depth parameter from this ensemble."
   ]
  },
  {
   "cell_type": "code",
   "execution_count": 153,
   "metadata": {
    "collapsed": false,
    "deletable": true,
    "editable": true,
    "jupyter": {
     "outputs_hidden": false
    }
   },
   "outputs": [],
   "source": [
    "# Try it here! You can insert more cells by selecting Cell > Insert Cell Above/Below from the menu\n",
    "# bar, or by pressing Esc to enter command mode and then hitting A or B (for above/below). \n"
   ]
  },
  {
   "cell_type": "markdown",
   "metadata": {
    "deletable": true,
    "editable": true
   },
   "source": [
    "**Task 8:** Plot the 68% and 95 Credible ellipses for this posterior model covariance matrix and compare to the density plot you obtained in task4."
   ]
  },
  {
   "cell_type": "code",
   "execution_count": 154,
   "metadata": {
    "collapsed": false,
    "deletable": true,
    "editable": true,
    "jupyter": {
     "outputs_hidden": false
    }
   },
   "outputs": [],
   "source": [
    "# plot credible intervals from posterior ensemble\n",
    "\n",
    "\n"
   ]
  },
  {
   "cell_type": "markdown",
   "metadata": {
    "deletable": true,
    "editable": true
   },
   "source": [
    "Some further things to think about with your results\n",
    "- What fraction of your proposed samples are accepted?\n",
    "- How does the level of noise assumed in the Likelihood function impact results? You can test this by repeating with a different data covariance matrix. Can you explain the features that you observe?\n",
    "- How many samples do you need to generate to get good results? Is your Markov chain stable (i.e., do two different portions of your chain share the same distribution)?"
   ]
  },
  {
   "cell_type": "markdown",
   "metadata": {
    "deletable": true,
    "editable": true
   },
   "source": [
    "## Pracitcal problem 6. Bayesian inference for Regression"
   ]
  },
  {
   "cell_type": "markdown",
   "metadata": {
    "deletable": true,
    "editable": true
   },
   "source": [
    "Suppose we have a 2-D data set of noisy $(x,y)$ values and have no idea\n",
    "about the underlying function which produced it (Figure 6). The task is\n",
    "to recover information about the (red) function from the observations.\n",
    "In this exercise you can do this without fixing the complexity\n",
    "(polynomial order) of the curve in advance. Instead the data is used to\n",
    "constrain the number of degrees of freedom in the curve using\n",
    "(transdimensional) Bayesian sampling."
   ]
  },
  {
   "cell_type": "markdown",
   "metadata": {
    "deletable": true,
    "editable": true
   },
   "source": [
    "<img src=\"../Figures/rjmcmc_single/ch0-exampledata.png\" alt=\"RJMCMC figure\" width=\"400\"/>\n",
    "Figure 5. 2-D data set. Red curve is the true function, dots are the observed data."
   ]
  },
  {
   "cell_type": "markdown",
   "metadata": {
    "deletable": true,
    "editable": true
   },
   "source": [
    "This exercise makes use of Bayesian Markov chain Monte Carlo sampling\n",
    "software contained in the <span>*ilab*</span> inversion software\n",
    "library. The library is available as Fortran or C source code with a\n",
    "python interface. A PDF tutorial to the python routines is available and called\n",
    "<span>*tutorial_single.pdf*</span>\n",
    "[available here](files/Figures/tutorial_single.pdf).\n",
    "The tutorial can be used as a guide to carry out the\n",
    "following exercises with detailed descriptions of what each component does. Here you can either try and write python scripts\n",
    "yourself to carry out the exercises below, or just load the solutions written in the tutorial,\n",
    "run them and examine what they do.\n",
    "\n",
    "The task is to estimate the red curve, as well as its uncertainty using\n",
    "the Partition Modelling algorithm. This is\n",
    "implemented in the python software library <span>*rjmcmc*</span>.\n",
    "\n",
    "For this tutorial we will use a non-trivial (in the sense that it will\n",
    "require a higher order polynomial to fit the function correctly) synthetic\n",
    "dataset with added noise.\n",
    "The function that is used is an exponentially increasing sine wave\n",
    "over the domain 0 . . . 10, i.e.\n",
    "\n",
    "$$y = e^{x/3} \\sin \\frac{2x}{3}$$\n",
    "\n",
    "Lets assume that the errors are independent and only in the\n",
    "y-co-ordinate and have a Gaussian distribution, with variance\n",
    "$\\sigma_i^2$. If the data are $y_i, (i=1,\\dots, n)$ and the model\n",
    "predictions at the same locations are $y_i, (i=1,\\dots, n)$, then the\n",
    "Likelihood function which measures the success of the model in fitting\n",
    "the data is given by\n",
    "\n",
    "$$p({\\bf d} | {\\bf m}) = \\frac{1}{(2\\pi)^{n/2}\\prod_{i=1}^n \\sigma_i} e ^{-\\sum_{i=1}^n [y^{obs}_i - y_i({\\bf m})]^2/\\sigma_i^2}.$$\n",
    "\n",
    "### Tasks to complete:\n",
    "\n",
    "**Task 1**.  First load the given data set of $(x^{obs}_i, y^{obs}_i)$ values and\n",
    "    plot the data. You should see a figure similar to the one above.\n"
   ]
  },
  {
   "cell_type": "code",
   "execution_count": 20,
   "metadata": {
    "collapsed": false,
    "deletable": true,
    "editable": true,
    "jupyter": {
     "outputs_hidden": false
    }
   },
   "outputs": [
    {
     "data": {
      "image/png": "[encoded data removed]",
      "text/plain": [
       "<Figure size 432x288 with 1 Axes>"
      ]
     },
     "metadata": {
      "needs_background": "light"
     },
     "output_type": "display_data"
    }
   ],
   "source": [
    "# Write your answer in here\n",
    "#\n",
    "# Open our data file which consists of one (x, y) coordinater per line\n",
    "# separated by whitespace\n",
    "#\n",
    "f = open('../Datasets/rjmcmc_single_data.txt', 'r')\n",
    "lines = f.readlines()\n",
    "\n",
    "x = []\n",
    "y = []\n",
    "\n",
    "for line in lines:\n",
    "    columns = line.split()\n",
    "\n",
    "    x.append(float(columns[0]))\n",
    "    y.append(float(columns[1]))\n",
    "\n",
    "f.close()\n",
    "\n",
    "# plot the data\n",
    "fig = plt.figure()\n",
    "plt.plot(x, y, 'ko',markersize=5)\n",
    "plt.ylim(-15,10)\n",
    "plt.show()\n"
   ]
  },
  {
   "cell_type": "markdown",
   "metadata": {
    "deletable": true,
    "editable": true
   },
   "source": [
    "**Task 2**. In this exercise we assume a polynomial representation for the\n",
    "    unknown function (red curve) with maximum order 5 and a uniform\n",
    "    prior PDF.\n",
    "\n",
    "\n",
    "For performing a regression analysis on a continuous dataset the\n",
    "function is called <span> *regression_single1d </span>. The parameters for this\n",
    "function are as follows with default values shown where applicable:\n",
    "\n",
    "dataset The dataset object to run the analysis on. This is an rjmcmc.\n",
    "dataset1d object which wraps the x and y vectors you load\n",
    "from the file and includes individual point noise values. This is the\n",
    "only parameter which doesn’t have a default value.\n",
    "\n",
    "burnin = 10000 The number of initial samples to throw away.\n",
    "\n",
    "total = 50000 The total number of samples to use for the analysis.\n",
    "\n",
    "max_order = 5 The maximum order of polynomial to use to fit the\n",
    "data.\n",
    "\n",
    "xsamples = 100 The number of points to sample along the x direction\n",
    "for the curve.\n",
    "\n",
    "ysamples = 100 The number of points to sample along the y directory\n",
    "for the statistics such as mode, median and confidence intervals.\n",
    "This is the number of bins for the histograms in the y direction.\n",
    "\n",
    "confidence_interval = 0.95 The confidence interval to use for minimum\n",
    "and maximum confidence intervals. This should be a value\n",
    "between 0 and 1.\n",
    "single partition regression analysis 3\n",
    "\n",
    "For this analysis we are only going to use the default values\n",
    "\n",
    "Use the 1-D Partition modelling software to generate\n",
    "    50000 curves and take the mean. It should look like the figure below.\n",
    "\n"
   ]
  },
  {
   "cell_type": "markdown",
   "metadata": {
    "deletable": true,
    "editable": true
   },
   "source": [
    "<img src=\"../Figures/rjmcmc_single/ch2-analyse.png\" alt=\"RJMCMC figure\" width=\"400\"/>\n",
    "Figure 6. 2-D data set with mean reconstructed model from 50000 McMC samples."
   ]
  },
  {
   "cell_type": "code",
   "execution_count": 156,
   "metadata": {
    "collapsed": false,
    "deletable": true,
    "editable": true,
    "jupyter": {
     "outputs_hidden": false
    }
   },
   "outputs": [
    {
     "ename": "ImportError",
     "evalue": "No module named 'rjmcmc'",
     "output_type": "error",
     "traceback": [
      "\u001b[0;31m---------------------------------------------------------------------------\u001b[0m",
      "\u001b[0;31mImportError\u001b[0m                               Traceback (most recent call last)",
      "\u001b[0;32m<ipython-input-156-e43779b4fcb4>\u001b[0m in \u001b[0;36m<module>\u001b[0;34m()\u001b[0m\n\u001b[0;32m----> 1\u001b[0;31m \u001b[0;32mimport\u001b[0m \u001b[0mrjmcmc\u001b[0m\u001b[0;34m\u001b[0m\u001b[0m\n\u001b[0m\u001b[1;32m      2\u001b[0m \u001b[0;34m\u001b[0m\u001b[0m\n\u001b[1;32m      3\u001b[0m \u001b[0;31m#\u001b[0m\u001b[0;34m\u001b[0m\u001b[0;34m\u001b[0m\u001b[0m\n\u001b[1;32m      4\u001b[0m \u001b[0;31m# Estimate our error standard deviation\u001b[0m\u001b[0;34m\u001b[0m\u001b[0;34m\u001b[0m\u001b[0m\n\u001b[1;32m      5\u001b[0m \u001b[0;31m#\u001b[0m\u001b[0;34m\u001b[0m\u001b[0;34m\u001b[0m\u001b[0m\n",
      "\u001b[0;31mImportError\u001b[0m: No module named 'rjmcmc'"
     ]
    }
   ],
   "source": [
    "import rjmcmc \n",
    "\n",
    "#\n",
    "# Estimate our error standard deviation\n",
    "#\n",
    "sigma = 3.0\n",
    "n = [sigma] * len(x)\n",
    "\n",
    "#\n",
    "# Create the rjmcmc dataset\n",
    "#\n",
    "data = rjmcmc.dataset1d(x, y, n)\n",
    "\n",
    "# Write your answer in here\n"
   ]
  },
  {
   "cell_type": "markdown",
   "metadata": {
    "deletable": true,
    "editable": true
   },
   "source": [
    "\n",
    "\n",
    "**Task 3**  \n",
    "In this example the maximum order of the polynomial has been fixed\n",
    "    at 5. Adjust the\n",
    "    maximum order between 0 and 5 and plot the posterior distribution of\n",
    "    the order. Plot the two figures showing the mean predicted curve\n",
    "    for each case and the posterior PDF on the order of the\n",
    "    polynomial, as below. The shows how the data support has detected\n",
    "    the degree of the polynomial.\n",
    "    \n",
    " <img src=\"../Figures/rjmcmc_single/ch3-orderanalysis.png\" alt=\"RJMCMC figure\" width=\"400\"/>\n",
    " <img src=\"../Figures/rjmcmc_single/ch3-orderanalysishist.png\" alt=\"RJMCMC figure\" width=\"400\"/>\n",
    "Figure {a) (Upper panel) Mean models for 6 separate McMC runs with different maximum order of polynomial, 0 to 5; b) (Lower panel) Posterior probability distribution showing the support of the data for different polynomial orders as a function of maximum order.   "
   ]
  },
  {
   "cell_type": "code",
   "execution_count": null,
   "metadata": {
    "collapsed": false,
    "deletable": true,
    "editable": true,
    "jupyter": {
     "outputs_hidden": false
    }
   },
   "outputs": [],
   "source": [
    "# Write your answer in here\n",
    "from mpl_toolkits.mplot3d import Axes3D\n",
    "\n",
    "# Run a series of analyses with varying maximum allowed order\n",
    "#\n"
   ]
  },
  {
   "cell_type": "code",
   "execution_count": null,
   "metadata": {
    "collapsed": false,
    "deletable": true,
    "editable": true,
    "jupyter": {
     "outputs_hidden": false
    }
   },
   "outputs": [],
   "source": [
    "#\n",
    "# Plot a 3D bar chart showing the progression of the order histogram\n",
    "# as the analysis maximum order is increased.\n",
    "#\n"
   ]
  },
  {
   "cell_type": "markdown",
   "metadata": {
    "deletable": true,
    "editable": true
   },
   "source": [
    "**Task 4** \n",
    "Repeat the run with maximum order 5 to generate an ensemble of\n",
    "    solutions, just as in exercise 2 above, only this time use the\n",
    "    library routines to plot a density model of the entire ensemble. In\n",
    "    this way we get a visual impression of the error in the predicted\n",
    "    curve. You can use script Use script <span>ch4-confidence.py</span>\n",
    "    to do this and you should get a plot similar to Figure 8.\n",
    "    \n",
    "<img src=\"../Figures/rjmcmc_single/ch4-confidence.png\" alt=\"RJMCMC figure\" width=\"400\"/>\n",
    "Figure  Grayscale image of probability density of all curves in the ensemble when assuming maximum polynomial order equal to 5"
   ]
  },
  {
   "cell_type": "code",
   "execution_count": null,
   "metadata": {
    "collapsed": false,
    "deletable": true,
    "editable": true,
    "jupyter": {
     "outputs_hidden": false
    }
   },
   "outputs": [],
   "source": [
    "# Write your answer in here\n",
    "#\n",
    "# This is a callback function which can be passed to rjmcmc routines to sample the curves generated \n",
    "# during the analysis\n",
    "#\n",
    "sample_x = None\n",
    "sample_curves = []\n",
    "sample_i = 0\n",
    "sample_rate = 5\n",
    "def sampler_cb(x, y):\n",
    "    global sample_x, sample_curves, sample_i, sample_rate\n",
    "\n",
    "    if sample_i == 0:\n",
    "        sample_x = x\n",
    "\n",
    "    if sample_i % sample_rate == 0:\n",
    "        sample_curves.append(y)\n",
    "\n",
    "    sample_i = sample_i + 1\n",
    "\n",
    "#\n",
    "# Run a series of analyses with varying maximum allowed order\n",
    "#\n"
   ]
  },
  {
   "cell_type": "markdown",
   "metadata": {
    "deletable": true,
    "editable": true
   },
   "source": [
    "**Task 5** \n",
    "Use the routines to try and estimate\n",
    "    the standard deviation of the noise in the data. In fact we invert\n",
    "    for a parameter $\\lambda$ which is the ratio of the estimated noise\n",
    "    (i.e. $\\sigma$ in eqn. 10) to the true noise. Plot a histogram of\n",
    "    the results and see how well the Bayesian sampling is able to\n",
    "    constrain the level of noise in the data. Your results should be\n",
    "    similiar to Figure below. If the data were estimated with $\\sigma=3$,\n",
    "    what do you think the true value was ?\n",
    "\n",
    "<img src=\"../Figures/rjmcmc_single/ch5-hierarchical.png\" alt=\"RJMCMC figure\" width=\"400\"/>\n",
    "Figure  Posterior PDF of the data noise parameter λ values found from sampling."
   ]
  },
  {
   "cell_type": "code",
   "execution_count": 21,
   "metadata": {
    "collapsed": false,
    "deletable": true,
    "editable": true,
    "jupyter": {
     "outputs_hidden": false
    }
   },
   "outputs": [
    {
     "ename": "NameError",
     "evalue": "name 'data' is not defined",
     "output_type": "error",
     "traceback": [
      "\u001b[0;31m---------------------------------------------------------------------------\u001b[0m",
      "\u001b[0;31mNameError\u001b[0m                                 Traceback (most recent call last)",
      "\u001b[0;32m/var/folders/90/6d5yfdt17_g1gy25611w80p40000gn/T/ipykernel_7104/781937979.py\u001b[0m in \u001b[0;36m<module>\u001b[0;34m\u001b[0m\n\u001b[1;32m      4\u001b[0m \u001b[0mlambda_std\u001b[0m \u001b[0;34m=\u001b[0m \u001b[0;36m0.05\u001b[0m\u001b[0;34m\u001b[0m\u001b[0;34m\u001b[0m\u001b[0m\n\u001b[1;32m      5\u001b[0m \u001b[0;34m\u001b[0m\u001b[0m\n\u001b[0;32m----> 6\u001b[0;31m \u001b[0mdata\u001b[0m\u001b[0;34m.\u001b[0m\u001b[0mset_lambda_range\u001b[0m\u001b[0;34m(\u001b[0m\u001b[0mlambda_min\u001b[0m\u001b[0;34m,\u001b[0m \u001b[0mlambda_max\u001b[0m\u001b[0;34m)\u001b[0m\u001b[0;34m\u001b[0m\u001b[0;34m\u001b[0m\u001b[0m\n\u001b[0m\u001b[1;32m      7\u001b[0m \u001b[0mdata\u001b[0m\u001b[0;34m.\u001b[0m\u001b[0mset_lambda_std\u001b[0m\u001b[0;34m(\u001b[0m\u001b[0mlambda_std\u001b[0m\u001b[0;34m)\u001b[0m\u001b[0;34m\u001b[0m\u001b[0;34m\u001b[0m\u001b[0m\n\u001b[1;32m      8\u001b[0m \u001b[0;34m\u001b[0m\u001b[0m\n",
      "\u001b[0;31mNameError\u001b[0m: name 'data' is not defined"
     ]
    }
   ],
   "source": [
    "# set up lambda ranges\n",
    "lambda_min = 0.5\n",
    "lambda_max = 2.0\n",
    "lambda_std = 0.05\n",
    "\n",
    "data.set_lambda_range(lambda_min, lambda_max)\n",
    "data.set_lambda_std(lambda_std)\n",
    "\n"
   ]
  },
  {
   "cell_type": "markdown",
   "metadata": {
    "deletable": true,
    "editable": true
   },
   "source": [
    "### Problem 6: Bayesian inference: Regression with discontinuities \n",
    "\n",
    "Now consider a new data set of noisy $(x,y)$ values only this time with\n",
    "discontinuities evident (See figure below). The task is again to recover\n",
    "information about the (red) function from the observations, but this\n",
    "time the data must also be used to constrain the number and position of\n",
    "discontinuities.\n",
    "\n",
    "<img src=\"../Figures/rjmcmc_multi/ch0-exampledata.png\" alt=\"RJMCMC figure\" width=\"400\"/>\n",
    "Figure 10.  2-D data set. Red curve is the true function, dots are observed data.\n",
    "\n",
    "This exercise is an expanded version of the previous one only now we\n",
    "allow for multiple polynomial functions separated into partitions along\n",
    "the x axis. We do not know where the discontinuities occur, nor how many\n",
    "there are. Algorithms for constructing solutions using the Partition\n",
    "modelling approach are in the python software library\n",
    "<span>*rjmcmc*</span>. Again you can either  follow the\n",
    "<span>*rjmcmc library tutorial guide*</span> [[available here](files/Figures/tutorial_multi.pdf)]\n",
    "to get the solutions to each section and run them, or you can attempt to write solutions yourself using the rjmcmc package.\n",
    "\n",
    "The same Likelihood function and prior is assumed as in the previous problem, only\n",
    "now we introduce the number of partitions as unknowns and this also has\n",
    "a flat prior.\n",
    "\n",
    "### Tasks to complete:\n",
    "\n",
    "**Task 1**.  First load the given data set of $(x^{obs}_i, y^{obs}_i)$ values and\n",
    "    plot the data. You should see a figure similar to the one above.\n"
   ]
  },
  {
   "cell_type": "code",
   "execution_count": 161,
   "metadata": {
    "collapsed": false,
    "deletable": true,
    "editable": true,
    "jupyter": {
     "outputs_hidden": false
    }
   },
   "outputs": [
    {
     "data": {
      "image/png": "[encoded data removed]",
      "text/plain": [
       "<matplotlib.figure.Figure at 0x11d157dd8>"
      ]
     },
     "metadata": {},
     "output_type": "display_data"
    }
   ],
   "source": [
    "# Write your answer in here\n",
    "\n",
    "#\n",
    "# Open our data file which consists of one (x, y) coordinater per line\n",
    "# separated by whitespace\n",
    "#\n",
    "f = open('Datasets/rjmcmc_multi_data.txt', 'r')\n",
    "lines = f.readlines()\n",
    "\n",
    "x = []\n",
    "y = []\n",
    "\n",
    "for line in lines:\n",
    "    columns = line.split()\n",
    "\n",
    "    x.append(float(columns[0]))\n",
    "    y.append(float(columns[1]))\n",
    "\n",
    "f.close()\n",
    "\n",
    "fig = plt.figure()\n",
    "\n",
    "plt.plot(x, y, 'ko')\n",
    "\n",
    "plt.show()"
   ]
  },
  {
   "cell_type": "markdown",
   "metadata": {
    "deletable": true,
    "editable": true
   },
   "source": [
    "**Task 2**. \n",
    "In this exercise we assume a polynomial representation for the\n",
    "    unknown function (red curve) with maximum order 1 and a uniform\n",
    "    prior PDF, and also sample over the number of partitions and the\n",
    "    locations of the discontinuities.\n",
    "\n",
    "Use the 1-D Partition modelling software to generate\n",
    "    50000 curves and take the mean.  Plot the a) the mean curve, b)\n",
    "    the posterior PDF of the discontinuity locations and c) the\n",
    "    posterior PDF of the number of partitions. Your figures should be\n",
    "    similar to the one below.\n",
    "  \n",
    "<img src=\"../Figures/rjmcmc_multi/ch2-analyse.png\" alt=\"RJMCMC figure\" width=\"400\"/>\n",
    "<img src=\"../Figures/rjmcmc_multi/ch2-analyse-partcount.png\" alt=\"RJMCMC figure\" width=\"400\"/>\n",
    "Figure (Upper panel) 2-D data set with mean reconstructed model from\n",
    "    50000 McMC samples; b) (Middel panel) the posterior PDF of the\n",
    "    location of discontinuities in the data (notice the two peaks); c) (Lower panel)\n",
    "    the posterior PDF of the number of partitions detected in the\n",
    "    data.\n",
    "\n",
    " "
   ]
  },
  {
   "cell_type": "code",
   "execution_count": null,
   "metadata": {
    "collapsed": false,
    "deletable": true,
    "editable": true,
    "jupyter": {
     "outputs_hidden": false
    }
   },
   "outputs": [],
   "source": [
    "# Write your answer in here\n",
    "\n"
   ]
  },
  {
   "cell_type": "markdown",
   "metadata": {
    "deletable": true,
    "editable": true
   },
   "source": [
    "Looking at the results of the Bayesian sampling try and answer the\n",
    "    following: How many partitions have been detected ? Where are the\n",
    "    most likely location of the partition boundaries/discontinuities ?\n",
    "    Can you see a difference in how well the data is able to detect\n",
    "    boundaries of each partition ? What would you estimate as the likely\n",
    "    position and error of the discontinuities ?"
   ]
  },
  {
   "cell_type": "markdown",
   "metadata": {
    "deletable": true,
    "editable": true
   },
   "source": [
    "\n",
    "**Task 3**.   In the previous example linear polynomials were used in each\n",
    "    partition. We now increase the maximum order of the polynomial to 5,\n",
    "    meaning that up to quintic polynomials are used within each\n",
    "    partition. Plot the same figures as in the\n",
    "    previous exercise showing a) the mean curve, b) the posterior PDF of\n",
    "    the discontinuity locations and c) the posterior PDF of the number\n",
    "    of partitions. See how they have changed at the inference process\n",
    "    now picks out the discontinuity number and location much better.\n",
    "    Your figures should be similar to Figure below. Using these\n",
    "    probabilistic sampling results we might draw different conclusions\n",
    "    than in Q2, but remember here the maximum polynomial order provided\n",
    "    as prior information to the Bayesian procedure is different from in\n",
    "    the previous case.\n",
    "\n",
    "<img src=\"../Figures/rjmcmc_multi/ch3-order.png\" alt=\"RJMCMC figure\" width=\"400\"/>\n",
    "<img src=\"../Figures/rjmcmc_multi/ch3-orderpartcount.png\" alt=\"RJMCMC figure\" width=\"400\"/>\n",
    "Figure. (Top panel) 2-D data set with mean reconstructed model from\n",
    "    50000 McMC samples, with maximum order of polynomial set to 5; b) \n",
    "    (Middle panel) the posterior PDF of the location of discontinuities\n",
    "    in the data (notice the two peaks); c) (Lower panel) the posterior PDF of the\n",
    "    number of partitions detected in the\n",
    "    data.]"
   ]
  },
  {
   "cell_type": "code",
   "execution_count": null,
   "metadata": {
    "collapsed": false,
    "deletable": true,
    "editable": true,
    "jupyter": {
     "outputs_hidden": false
    }
   },
   "outputs": [],
   "source": [
    "# Write your answer in here\n"
   ]
  },
  {
   "cell_type": "markdown",
   "metadata": {
    "deletable": true,
    "editable": true
   },
   "source": [
    "**Task 4**. Repeat the run, only this time use the library routines to plot a\n",
    "    density model of the entire ensemble of curves and 95% confidence\n",
    "    intervals at each point along the axes. In this way we get a visual\n",
    "    impression of the error in the predicted curve. You should\n",
    "    get a plot similar to Figure below. This gives an indication of the\n",
    "    confidence in the predictive capability of the ensemble of curves.\n",
    "\n",
    "<img src=\"../Figures/rjmcmc_multi/ch4-confidence.png\" alt=\"RJMCMC figure\" width=\"400\"/>\n",
    "<img src=\"../Figures/rjmcmc_multi/ch4-confidenceintervals.png\" alt=\"RJMCMC figure\" width=\"400\"/>\n",
    "Figure (Upper panel) Grayscale image of probability density of all curves in\n",
    "    the ensemble when maximum polynomial order equal to 5 inside each\n",
    "    partition; b) ((Lower panel) 95% (point by point) confidence intervals from\n",
    "    the ensemble of solutions.]"
   ]
  },
  {
   "cell_type": "code",
   "execution_count": null,
   "metadata": {
    "collapsed": false,
    "deletable": true,
    "editable": true,
    "jupyter": {
     "outputs_hidden": false
    }
   },
   "outputs": [],
   "source": [
    "# Write your answer in here\n",
    "\n",
    "#\n",
    "# This is a callback function which can be passed to rjmcmc routines to sample the curves generated \n",
    "# during the analysis\n",
    "#\n",
    "sample_x = None\n",
    "sample_curves = []\n",
    "sample_i = 0\n",
    "sample_rate = 250\n",
    "def sampler_cb(x, y):\n",
    "    global sample_x, sample_curves, sample_i, sample_rate\n",
    "\n",
    "    if sample_i == 0:\n",
    "        sample_x = x\n",
    "\n",
    "    if sample_i % sample_rate == 0:\n",
    "        sample_curves.append(y)\n",
    "\n",
    "    sample_i = sample_i + 1\n"
   ]
  },
  {
   "cell_type": "markdown",
   "metadata": {
    "deletable": true,
    "editable": true
   },
   "source": [
    "**Task 5** \n",
    "Use the routines to try and estimate\n",
    "    the standard deviation of the noise in the data. In fact we invert\n",
    "    for a parameter $\\lambda$ which is the ratio of the estimated noise\n",
    "    (i.e. $\\sigma$ in the Likelihood expression above) to the true noise. Plot a histogram of\n",
    "    the results and see how well the Bayesian sampling is able to\n",
    "    constrain the level of noise in the data. Your results should be\n",
    "    similiar to Figure below. If the data were estimated with $\\sigma=3$,\n",
    "    what do you think the true value was ?\n",
    "\n",
    "<img src=\"../Figures/rjmcmc_multi/ch5-hierarchical.png\" alt=\"RJMCMC figure\" width=\"400\"/>\n",
    "Figure  Posterior PDF of the data noise parameter λ values found from sampling."
   ]
  },
  {
   "cell_type": "code",
   "execution_count": null,
   "metadata": {
    "collapsed": false,
    "deletable": true,
    "editable": true,
    "jupyter": {
     "outputs_hidden": false
    }
   },
   "outputs": [],
   "source": [
    "#\n",
    "# Set a range of where we think the error should be\n",
    "#\n",
    "lambda_min = 0.5\n",
    "lambda_max = 3.0\n",
    "lambda_std = 0.1\n",
    "\n",
    "data.set_lambda_range(lambda_min, lambda_max)\n",
    "data.set_lambda_std(lambda_std)\n"
   ]
  },
  {
   "cell_type": "markdown",
   "metadata": {},
   "source": [
    "----"
   ]
  }
 ],
 "metadata": {
  "kernelspec": {
   "display_name": "Python 3 (ipykernel)",
   "language": "python",
   "name": "python3"
  },
  "language_info": {
   "codemirror_mode": {
    "name": "ipython",
    "version": 3
   },
   "file_extension": ".py",
   "mimetype": "text/x-python",
   "name": "python",
   "nbconvert_exporter": "python",
   "pygments_lexer": "ipython3",
   "version": "3.9.7"
  }
 },
 "nbformat": 4,
 "nbformat_minor": 4
}
