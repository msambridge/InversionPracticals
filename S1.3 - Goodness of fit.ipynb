{
 "cells": [
  {
   "cell_type": "markdown",
   "metadata": {
    "deletable": true,
    "editable": true
   },
   "source": [
    "# 1.3 - Goodness of fit of a least-squares solution #"
   ]
  },
  {
   "cell_type": "markdown",
   "metadata": {
    "deletable": true,
    "editable": true
   },
   "source": [
    "*Written by Andrew Valentine and Malcolm Sambridge*"
   ]
  },
  {
   "cell_type": "markdown",
   "metadata": {},
   "source": [
    "<!--<badge>--><a href=\"https://colab.research.google.com/github/msambridge/InversionPracticals/blob/main/S1.3 - Goodness of fit.ipynb\" target=\"_parent\"><img src=\"https://colab.research.google.com/assets/colab-badge.svg\" alt=\"Open In Colab\"/></a><!--</badge>-->"
   ]
  },
  {
   "cell_type": "markdown",
   "metadata": {
    "deletable": true,
    "editable": true
   },
   "source": [
    "In this practical, you will fit a linear model to given data and perform goodness of fit tests on the solution.\n",
    "\n",
    "\n",
    " \n",
    "A cannon ball is fired directly upwards from an unknown position above the surface, $m_1$, with unknown initial velocity, $m_2$ and unknown gravitational acceleration, $m_3$ . Newton's laws of motion tell us that the \n",
    "relationship between position and time follows\n",
    "\\begin{equation*}\n",
    "y(t) = m_1 + m_2t -\\frac{1}{2}m_3t^2.\n",
    "\\end{equation*}\n",
    "\n",
    "Heights, $y_i$, $(i=1,\\dots,8)$ are measured at fixed time intervals of a second, starting from $t=1s$. The observations are\n",
    "\n",
    "\\begin{equation*}\n",
    "{\\bf y} = \\left [34.29,58.14,79.51,97.48,115.97,132.55,146.52,158.69\n",
    "\\right ]\n",
    "\\end{equation*}\n",
    "\n",
    "In lectures, we talked about linear discrete inverse problems of the form $\\mathbf{d}=\\mathbf{Gm}$. We saw that the sum-of-squares misfit measure $\\phi(\\mathbf{m}) = \\left\\|\\mathbf{d}-\\mathbf{f(m)}\\right\\|_2^2$ has a minimum at the point $\\mathbf{m} = \\left(\\mathbf{G^T G}\\right)^\\mathbf{-1}\\mathbf{G^T d}$, and that this denotes the 'best-fitting' model as measured by $\\phi$. \n"
   ]
  },
  {
   "cell_type": "markdown",
   "metadata": {
    "deletable": true,
    "editable": true
   },
   "source": [
    "Again, we first load some libraries."
   ]
  },
  {
   "cell_type": "code",
   "execution_count": 1,
   "metadata": {},
   "outputs": [],
   "source": [
    "# -------------------------------------------------------- #\n",
    "#                                                          #\n",
    "#     Uncomment below to set up environment on \"colab\"     #\n",
    "#                                                          #\n",
    "# -------------------------------------------------------- #\n",
    "\n",
    "# !git clone https://github.com/msambridge/InversionPracticals\n",
    "# %cd InversionPracticals"
   ]
  },
  {
   "cell_type": "code",
   "execution_count": 3,
   "metadata": {
    "deletable": true,
    "editable": true,
    "tags": []
   },
   "outputs": [],
   "source": [
    "%matplotlib inline\n",
    "import numpy as np\n",
    "import matplotlib.pyplot as plt\n",
    "import sys\n",
    "sys.path.append(\"software\")\n",
    "import curveFitting as cf"
   ]
  },
  {
   "cell_type": "markdown",
   "metadata": {
    "deletable": true,
    "editable": true
   },
   "source": [
    "Lets set up the data and plot it."
   ]
  },
  {
   "cell_type": "code",
   "execution_count": 4,
   "metadata": {
    "collapsed": false,
    "deletable": true,
    "editable": true,
    "jupyter": {
     "outputs_hidden": false
    }
   },
   "outputs": [
    {
     "data": {
      "text/plain": [
       "Text(0, 0.5, 'Height (m)')"
      ]
     },
     "execution_count": 4,
     "metadata": {},
     "output_type": "execute_result"
    },
    {
     "data": {
      "image/png": "[encoded data removed]",
      "text/plain": [
       "<Figure size 800x600 with 1 Axes>"
      ]
     },
     "metadata": {},
     "output_type": "display_data"
    }
   ],
   "source": [
    "ydata = np.array([34.29,58.14,79.51,97.48,115.97,132.55,146.52,158.69])\n",
    "t = np.linspace(1,8,8)\n",
    "plt.figure(figsize=(8,6))\n",
    "plt.plot(t,ydata,'x')\n",
    "plt.xlabel('Time (s)')\n",
    "plt.ylabel('Height (m)')\n"
   ]
  },
  {
   "cell_type": "markdown",
   "metadata": {
    "deletable": true,
    "editable": true
   },
   "source": [
    "**Task 1:** Use what you know to perform a least squares fit of an appropriate model to find the parameters $(m_1,m_2,m_3)$. Plot the result together with the data in a plot similar that above."
   ]
  },
  {
   "cell_type": "code",
   "execution_count": 5,
   "metadata": {
    "deletable": true,
    "editable": true,
    "tags": []
   },
   "outputs": [],
   "source": [
    "# Try it here! You can insert more cells by selecting Cell > Insert Cell Above/Below from the menu\n",
    "# bar, or by pressing Esc to enter command mode and then hitting A or B (for above/below). \n",
    "\n"
   ]
  },
  {
   "cell_type": "markdown",
   "metadata": {
    "deletable": true,
    "editable": true
   },
   "source": [
    "**Task 2:** Assuming that the observationals errors follow the Gaussian distribution $N(0,\\sigma{^2}I)$, where $\\sigma= 0.8m$, calculate the value of $\\chi^2({\\bf m})$. What are the number of degrees of freedom for this problem? Perform a goodness of fit test and calculate a $p$ value. What do you conclude?\n",
    "\n",
    "Note here you will need the python routine to calculate a $p$ value from the chi-square value and the number of degrees of freedom, $\\nu$. Python routine $\\tt stats.chi2.cdf ~(\\chi^2_{obs},\\nu)$ calculates the probability that the observed $\\chi^2$ will be greater than or equal to value actually observed $\\chi^2_{obs}$. Hence the $p$ value is given by \n",
    "\\begin{equation*}\n",
    "p = 1 - {\\tt stats.chi2.cdf} ~(\\chi^2_{obs},\\nu)\n",
    "\\end{equation*}"
   ]
  },
  {
   "cell_type": "code",
   "execution_count": 4,
   "metadata": {
    "collapsed": false,
    "deletable": true,
    "editable": true,
    "jupyter": {
     "outputs_hidden": false
    }
   },
   "outputs": [],
   "source": [
    "# Try it here! You can insert more cells by selecting Cell > Insert Cell Above/Below from the menu\n",
    "# bar, or by pressing Esc to enter command mode and then hitting A or B (for above/below). \n",
    "\n"
   ]
  },
  {
   "cell_type": "markdown",
   "metadata": {
    "deletable": true,
    "editable": true
   },
   "source": [
    "**Task 3:** If your conclusion is that there is something wrong. What can you do to your assumed data errors to pass the goodness of fit test? Why might this be a useful thing to do? Adjust your data errors and perform the goodness of fit test again. What do you conclude now?"
   ]
  },
  {
   "cell_type": "code",
   "execution_count": 5,
   "metadata": {
    "deletable": true,
    "editable": true,
    "tags": []
   },
   "outputs": [],
   "source": [
    "# Try it here! You can insert more cells by selecting Cell > Insert Cell Above/Below from the menu\n",
    "# bar, or by pressing Esc to enter command mode and then hitting A or B (for above/below). \n",
    "\n"
   ]
  },
  {
   "cell_type": "markdown",
   "metadata": {},
   "source": [
    "----"
   ]
  }
 ],
 "metadata": {
  "kernelspec": {
   "display_name": "Python 3 (ipykernel)",
   "language": "python",
   "name": "python3"
  },
  "language_info": {
   "codemirror_mode": {
    "name": "ipython",
    "version": 3
   },
   "file_extension": ".py",
   "mimetype": "text/x-python",
   "name": "python",
   "nbconvert_exporter": "python",
   "pygments_lexer": "ipython3",
   "version": "3.9.6"
  },
  "vscode": {
   "interpreter": {
    "hash": "aee8b7b246df8f9039afb4144a1f6fd8d2ca17a180786b69acc140d282b71a49"
   }
  }
 },
 "nbformat": 4,
 "nbformat_minor": 4
}
