{
 "cells": [
  {
   "cell_type": "markdown",
   "metadata": {
    "deletable": true,
    "editable": true
   },
   "source": [
    "# 4.1: Bayesian Inference: The biased coin problem #"
   ]
  },
  {
   "cell_type": "markdown",
   "metadata": {},
   "source": [
    "<!--<badge>--><a href=\"https://colab.research.google.com/github/msambridge/InversionPracticals/blob/main/S4.1 - Bayesian Inference of a biased coin.ipynb\" target=\"_parent\"><img src=\"https://colab.research.google.com/assets/colab-badge.svg\" alt=\"Open In Colab\"/></a><!--</badge>-->"
   ]
  },
  {
   "cell_type": "markdown",
   "metadata": {
    "deletable": true,
    "editable": true
   },
   "source": [
    "In this practical, we will perform Bayesian inference for a single parameter, constrained by some obervational data, and examine how the posterior knowledge of the parameter changes as we collect new data.\n",
    "\n",
    "If $\\alpha$ is the probability that a head will occur when a coin is tossed, then a biased  coin is described by a value $\\alpha \\ne 0.5$. We have $0\\le \\alpha \\le 1$, where a value of $\\alpha=1$ means a head will always be the result of a coin toss and if $\\alpha=0$ a tail will always result.\n",
    " \n",
    "As in every Python program, we need to begin by loading some libraries. For Jupyter we also need the `%matplotlib inline` command, which ensures that figures are rendered properly within the Notebook. This could be omitted if you wanted to reproduce this practical as a 'standard' Python program.\n",
    "\n"
   ]
  },
  {
   "cell_type": "code",
   "execution_count": 1,
   "metadata": {},
   "outputs": [],
   "source": [
    "# -------------------------------------------------------- #\n",
    "#                                                          #\n",
    "#     Uncomment below to set up environment on \"colab\"     #\n",
    "#                                                          #\n",
    "# -------------------------------------------------------- #\n",
    "\n",
    "# !git clone https://github.com/msambridge/InversionPracticals\n",
    "# %cd InversionPracticals"
   ]
  },
  {
   "cell_type": "code",
   "execution_count": 2,
   "metadata": {
    "deletable": true,
    "editable": true,
    "tags": []
   },
   "outputs": [],
   "source": [
    "%matplotlib inline\n",
    "import numpy as np\n",
    "import matplotlib.pyplot as plt"
   ]
  },
  {
   "cell_type": "markdown",
   "metadata": {
    "deletable": true,
    "editable": true
   },
   "source": [
    "Now we read in the coin toss data as ones for heads and zeros for tails."
   ]
  },
  {
   "cell_type": "code",
   "execution_count": 3,
   "metadata": {
    "collapsed": false,
    "deletable": true,
    "editable": true,
    "jupyter": {
     "outputs_hidden": false
    }
   },
   "outputs": [],
   "source": [
    "#initialise the list of coin flip results\n",
    "tosses = open('datasets/coin_data1-numeric.txt','r')\n",
    "tosses = tosses.readlines()\n",
    "tosses = np.array([int(flip) for flip in tosses])"
   ]
  },
  {
   "cell_type": "markdown",
   "metadata": {
    "deletable": true,
    "editable": true
   },
   "source": [
    "The Binomial theorem tells us the probability that there are $R$ heads in $N$ coin tosses for a coin where the the probability of a head is $\\alpha$ is given by\n",
    "\n",
    "\\begin{equation*}\n",
    "p(R|\\alpha,N) = \\frac{N!}{R!(N-R)!} \\alpha^R (1-\\alpha)^{N-R}\n",
    "\\end{equation*}\n",
    "\n",
    "**Task 1:** Decide on an appropriate Likelihood function to use the observed value of $R$ to constrain the unknown $\\alpha$ and write it down, $p(R | \\alpha)$. Assuming we have no particular prior preference for $\\alpha$ decide on a prior PDF, $p(\\alpha)$. From these determine the form of the posterior PDF, $p(\\alpha | R)$ and write these down. Remember you only need to know the posterior PDF up to a multiplicative constant, ignoring normalization terms that do not depend on $\\alpha$."
   ]
  },
  {
   "cell_type": "markdown",
   "metadata": {
    "deletable": true,
    "editable": true
   },
   "source": [
    "**Task 2:** Use the coin toss data to calculate the poster PDF, $p(\\alpha | R(N))$ for $N=1, 2, 3, 4, 8, 64, 1024$, and plot the PDF for each case. What do you conclude about the true value of $\\alpha$?\n",
    "\n",
    "Hint: In any computer program it is always best to calculate log p(njd)\n",
    "first and then take an exponent to evaluate the curve as a function\n",
    "of n. Stirling’s formulae for the approximation to n! may be useful."
   ]
  },
  {
   "cell_type": "code",
   "execution_count": 4,
   "metadata": {
    "deletable": true,
    "editable": true,
    "tags": []
   },
   "outputs": [],
   "source": [
    "# Try it here! You can insert more cells by selecting Cell > Insert Cell Above/Below from the menu\n",
    "# bar, or by pressing Esc to enter command mode and then hitting A or B (for above/below). \n",
    "#\n",
    "\n"
   ]
  },
  {
   "cell_type": "markdown",
   "metadata": {
    "deletable": true,
    "editable": true
   },
   "source": [
    "**Task 3:** Now calculate an estimate of $\\alpha$ for each case using a Frequentist approach. Decide on what a good estimator of $\\alpha$ would be given $R$ and $N$. Calculate this estimator for each case and place on the same figure. How well does it compare to the Posterior PDF?"
   ]
  },
  {
   "cell_type": "code",
   "execution_count": 5,
   "metadata": {
    "deletable": true,
    "editable": true,
    "tags": []
   },
   "outputs": [],
   "source": [
    "# Try it here! You can insert more cells by selecting Cell > Insert Cell Above/Below from the menu\n",
    "# bar, or by pressing Esc to enter command mode and then hitting A or B (for above/below). \n",
    "#\n"
   ]
  },
  {
   "cell_type": "markdown",
   "metadata": {
    "deletable": true,
    "editable": true
   },
   "source": [
    "**Task 4:** More formally a good Frequentist estimator is the maximum of the Likelihood. You can get an expression of the maximum Likelihood value for $\\alpha$, by finding $\\alpha$ such that $\\frac{d L_o}{d\\alpha} = 0$, where $L$ is your Likelihood expression. Try and differentiate your expression for the Likelihood and solve this equation for $\\alpha$. How does this expression compare to your estimator you produced in Task 3.\n",
    "\n",
    "Theory tells us that an estimated error in the Frequentist estimator is given by $\\sigma = \\left( \\frac{d^2 L_o}{d \\alpha^2}\\right)^{-1/2}$, where $L_o = -\\log L$, the negative log-Likelihood. Calculate this error estimate for the Frequentist estimator and put on the figures above. How does the estimator and its error compare to the Posterior PDF for each case?"
   ]
  },
  {
   "cell_type": "code",
   "execution_count": 6,
   "metadata": {
    "deletable": true,
    "editable": true,
    "tags": []
   },
   "outputs": [],
   "source": [
    "# Try it here! You can insert more cells by selecting Cell > Insert Cell Above/Below from the menu\n",
    "# bar, or by pressing Esc to enter command mode and then hitting A or B (for above/below). \n",
    "#\n"
   ]
  },
  {
   "cell_type": "markdown",
   "metadata": {
    "deletable": true,
    "editable": true
   },
   "source": [
    "**Task 5:** Repeat the above steps for the second data set. Do you notice a difference in the rate of convergence of the posterior PDF to the true solution? Why would this be?"
   ]
  },
  {
   "cell_type": "code",
   "execution_count": 7,
   "metadata": {
    "collapsed": false,
    "deletable": true,
    "editable": true,
    "jupyter": {
     "outputs_hidden": false
    }
   },
   "outputs": [],
   "source": [
    "# Try it here! You can insert more cells by selecting Cell > Insert Cell Above/Below from the menu\n",
    "# bar, or by pressing Esc to enter command mode and then hitting A or B (for above/below). \n",
    "#\n",
    "#initialise the list of coin flip results\n",
    "tosses = open('Datasets/coin_data2-numeric.txt','r')\n",
    "tosses = tosses.readlines()\n",
    "tosses = np.array([int(flip) for flip in tosses])"
   ]
  },
  {
   "cell_type": "markdown",
   "metadata": {
    "collapsed": true,
    "deletable": true,
    "editable": true,
    "jupyter": {
     "outputs_hidden": true
    }
   },
   "source": [
    "----"
   ]
  }
 ],
 "metadata": {
  "kernelspec": {
   "display_name": "Python 3 (ipykernel)",
   "language": "python",
   "name": "python3"
  },
  "language_info": {
   "codemirror_mode": {
    "name": "ipython",
    "version": 3
   },
   "file_extension": ".py",
   "mimetype": "text/x-python",
   "name": "python",
   "nbconvert_exporter": "python",
   "pygments_lexer": "ipython3",
   "version": "3.9.6"
  },
  "vscode": {
   "interpreter": {
    "hash": "aee8b7b246df8f9039afb4144a1f6fd8d2ca17a180786b69acc140d282b71a49"
   }
  }
 },
 "nbformat": 4,
 "nbformat_minor": 4
}
