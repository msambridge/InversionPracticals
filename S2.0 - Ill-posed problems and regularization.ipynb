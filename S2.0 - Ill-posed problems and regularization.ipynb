{
 "cells": [
  {
   "cell_type": "markdown",
   "id": "8af93864-f151-421b-95fe-8f3c38a43252",
   "metadata": {},
   "source": [
    "# 2.0: Ill-posed problems and regularization - Shaw's problem"
   ]
  },
  {
   "cell_type": "markdown",
   "id": "11392f03-939a-4993-8158-b90797fb665e",
   "metadata": {},
   "source": [
    "*Written by Malcolm Sambridge.*"
   ]
  },
  {
   "cell_type": "markdown",
   "id": "c0f3f093-7697-427b-a20f-bce32e2bb8ab",
   "metadata": {},
   "source": [
    "<!--<badge>--><a href=\"https://colab.research.google.com/github/msambridge/InversionPracticals/blob/main/Solutions/S2.0 - Ill-posed problems and regularization-solution.ipynb\" target=\"_parent\"><img src=\"https://colab.research.google.com/assets/colab-badge.svg\" alt=\"Open In Colab\"/></a><!--</badge>-->"
   ]
  },
  {
   "cell_type": "markdown",
   "id": "c3634155-958f-4eaa-8517-5fc5e7b0eddd",
   "metadata": {},
   "source": [
    "When light passes through a thin slit it is diffracted. The \n",
    "distribution of light intensity as a function of incidence angle $\\theta$ is represented by \n",
    "$m(\\theta)$. After passing through the slit it becomes $d(\\phi)$, where $\\phi$ is the angle as defined in the \n",
    "figure.\n",
    "\n",
    "<img src=\"Figures/shaw.png\" alt=\"Diffraction of a light beam passing through a thin slit.\" width=\"300\"/>\n",
    "\n"
   ]
  },
  {
   "cell_type": "markdown",
   "id": "cc78e3a7-0043-49ca-bca0-f7705ce5d2b2",
   "metadata": {},
   "source": [
    "The intensity before, $m(\\theta)$, and after, $d(\\phi)$, passing through the slit and  are related by the expression\n",
    "\n",
    "\n",
    "$$\n",
    "d(\\phi) = \\int_{-\\pi/2}^{\\pi/2} (\\cos(\\phi) + \\cos(\\theta))^2 \\left( \n",
    "{\\sin(\\pi(\\sin(\\phi) + \\sin(\\theta)))\\over\\pi(\\sin(\\phi) + \\sin(\\theta))}\n",
    "\\right)^2m(\\theta)d\\theta\n",
    "$$\n",
    "\n",
    "\n",
    "Here the data are measured intensity $d(\\phi)$ at N equal intervals, \n",
    "\n",
    "$$d(\\phi_i) = d_i, (i=1,\\dots,N)$$\n",
    "\n",
    "where $- \\frac{\\pi}{2} <= \\phi_i <= \\frac{\\pi}{2}$, and the model is the incident intensity $m(\\theta)$ discretized over the same angular intervals, \n",
    "\n",
    "$$m(\\theta_j) = m_j, (j=1,\\dots,N).$$\n",
    "\n",
    "This leads to a discrete linear system of $N\\times N$ equations, ${\\bf d} = G {\\bf m}$, where\n",
    "\n",
    "$$\n",
    "G_{i,j} = \\Delta \\phi (\\cos(\\phi_i) + \\cos(\\theta_j))^2 \\left( \n",
    "{\\sin(\\pi(\\sin(\\phi_i) + \\sin(\\theta_j)))\\over\\pi(\\sin(\\phi_i) + \\sin(\\theta_j))}\n",
    "\\right)^2\n",
    "$$\n",
    "\n",
    "As we shall see, the resulting inverse problems is severely ill-posed. Routine `G,m,d=shaw(20)` computes the G matrix along with a sample model and data for this problem with $N=20$. \n",
    "\n",
    "\n",
    "#### Reference\n",
    "C. B. Shaw, Jr., \"Improvements of the resolution of an instrument by numerical solution of an integral equation\", *J. Math. Anal. Appl.* 37 (1972), 83-112. "
   ]
  },
  {
   "cell_type": "markdown",
   "id": "8b2f5237-41cc-4bcf-81a2-2907e62cba9a",
   "metadata": {},
   "source": [
    "----------"
   ]
  },
  {
   "cell_type": "markdown",
   "id": "1c7688a6-524b-4f96-953b-144fc4f67a6f",
   "metadata": {},
   "source": [
    "First load some libraries."
   ]
  },
  {
   "cell_type": "code",
   "execution_count": 11,
   "id": "cc84a265-fb93-484d-ae76-583ce5733587",
   "metadata": {},
   "outputs": [],
   "source": [
    "# -------------------------------------------------------- #\n",
    "#                                                          #\n",
    "#     Uncomment below to set up environment on \"colab\"     #\n",
    "#                                                          #\n",
    "# -------------------------------------------------------- #\n",
    "\n",
    "# !git clone https://github.com/msambridge/InversionPracticals\n",
    "# %cd InversionPracticals"
   ]
  },
  {
   "cell_type": "code",
   "execution_count": 12,
   "id": "6e308cee-1c10-417b-9902-d736c774e726",
   "metadata": {},
   "outputs": [],
   "source": [
    "import matplotlib.pyplot as plt\n",
    "from scipy import stats\n",
    "import numpy as np\n",
    "import math\n",
    "import sys\n",
    "sys.path.append(\"software\")\n",
    "import plotcovellipse as pc\n",
    "from shaw import shaw, pseudo_inverse"
   ]
  },
  {
   "cell_type": "code",
   "execution_count": 13,
   "id": "042a8d5f-c2e6-4392-a91f-846cf0986c5e",
   "metadata": {},
   "outputs": [],
   "source": [
    "n = 18      # number of points to discretize the model and data functions\n",
    "G = shaw(n) # Calculate the G matrix for this discretization"
   ]
  },
  {
   "cell_type": "markdown",
   "id": "fa768512-d95e-471c-b7d7-cc5cede70b6f",
   "metadata": {},
   "source": [
    "Here we defne a simple test model $m(\\theta)$ consisting of a single spike."
   ]
  },
  {
   "cell_type": "code",
   "execution_count": 14,
   "id": "3ae710c7-2462-4833-ba43-e18811f9f521",
   "metadata": {},
   "outputs": [],
   "source": [
    "spikemodel = np.zeros(n)\n",
    "spikecentre = int(n/2)                              # location of spike\n",
    "spikemodel[spikecentre] = 1.                        # amplitude of spike model\n",
    "spikeangles = -np.pi/2+np.arange(.5,n+.5,1)*np.pi/n # angles of input "
   ]
  },
  {
   "cell_type": "markdown",
   "id": "6e63ab8c-732b-4990-aa91-50aabcb75b43",
   "metadata": {},
   "source": [
    "And now lets plot the test model."
   ]
  },
  {
   "cell_type": "code",
   "execution_count": 15,
   "id": "331c7e63-2c25-49c5-af2d-5686bd3f21f9",
   "metadata": {},
   "outputs": [
    {
     "data": {
      "image/png": "[encoded data removed]",
      "text/plain": [
       "<Figure size 600x500 with 1 Axes>"
      ]
     },
     "metadata": {},
     "output_type": "display_data"
    }
   ],
   "source": [
    "fig, ax = plt.subplots(figsize=(6,5))\n",
    "plt.fill_between(spikeangles, spikemodel,step='mid',alpha=0.3,color='green',edgecolor='k')\n",
    "plt.title('Input spike model for Shaw problem')\n",
    "plt.xlabel('Theta (radians)')\n",
    "plt.ylabel('Amplitude')\n",
    "plt.show()"
   ]
  },
  {
   "cell_type": "markdown",
   "id": "098674af-0469-4e94-be1a-68c9448a9adb",
   "metadata": {},
   "source": [
    "Now lets calculate the corresponding data for the spike test model for each angle, $d(\\phi)$, and plot it."
   ]
  },
  {
   "cell_type": "code",
   "execution_count": 16,
   "id": "4be7cfba-f606-4aa2-ae58-ce5826929ed0",
   "metadata": {},
   "outputs": [],
   "source": [
    "spikedata = np.dot(G,spikemodel)"
   ]
  },
  {
   "cell_type": "code",
   "execution_count": 17,
   "id": "91aacadf-7528-40fd-b65b-c09bd0517353",
   "metadata": {},
   "outputs": [
    {
     "data": {
      "image/png": "[encoded data removed]",
      "text/plain": [
       "<Figure size 600x500 with 1 Axes>"
      ]
     },
     "metadata": {},
     "output_type": "display_data"
    }
   ],
   "source": [
    "fig, ax = plt.subplots(figsize=(6,5))\n",
    "plt.plot(spikeangles,spikedata,'r.-',label='Spike data')\n",
    "plt.title('Data from input spike model for Shaw problem')\n",
    "plt.xlabel('Phi (radians)')\n",
    "plt.ylabel('Amplitude')\n",
    "plt.show()"
   ]
  },
  {
   "cell_type": "markdown",
   "id": "06b23567-99e7-4b3a-907a-05c752cecf95",
   "metadata": {},
   "source": [
    "**Task 1** Calcuate the Least squares solution and plot it. For this dataset the true solution is the test spike model. How does this solution compare in terms of amplitude and shape?\n",
    "\n",
    "Hint: The routine `sol = LSsolver(data,G)` will be useful here."
   ]
  },
  {
   "cell_type": "code",
   "execution_count": 18,
   "id": "157374bd-ad0e-4dc1-bd3a-4660412c1d86",
   "metadata": {},
   "outputs": [],
   "source": [
    "def LSsolver(y,G,Cdinv=None):\n",
    "    if(Cdinv==None): Cdinv = np.eye(len(y))\n",
    "    A = np.dot(np.transpose(G), Cdinv)\n",
    "    GtG = np.dot(A, G) # G^T C_inv G^T\n",
    "    GtGinv = np.linalg.inv(GtG) # Inverse of G^TC_inv G\n",
    "    B = np.dot(A,y)\n",
    "    mls = np.dot(GtGinv, B) # Least squares solution \n",
    "    return mls"
   ]
  },
  {
   "cell_type": "code",
   "execution_count": 19,
   "id": "634039d5-6131-4c5d-af30-04b935e9e1fb",
   "metadata": {},
   "outputs": [],
   "source": [
    "# Try it here! You can insert more cells by selecting Cell > Insert Cell Above/Below from the menu\n",
    "# bar, or by pressing Esc to enter command mode and then hitting A or B (for above/below). \n",
    "\n"
   ]
  },
  {
   "cell_type": "markdown",
   "id": "874f297d-652a-48a1-b674-bf2dfdfed8eb",
   "metadata": {},
   "source": [
    "### Singular value decomposition"
   ]
  },
  {
   "cell_type": "markdown",
   "id": "13d28640-7e7d-4c85-a732-707fda02d97a",
   "metadata": {},
   "source": [
    "Any matrix $N\\times M$ matrix $G$ can be written in terms of its singular value decomposition. \n",
    "\n",
    "$$\n",
    "G = U S V^T,\n",
    "$$\n",
    "where \n",
    "\n",
    "$V$ is the $M\\times M$ matrix of orthogonal singular vectors spanning the model parameter space;\n",
    "\n",
    "$U$ is the $N\\times N$ matrix of orthogonal singular vectors spanning the data space;\n",
    "\n",
    "and $S_p$ is the $M\\times N$ matrix with all zeros except the $p$ singular values of $G$ along its first diagonal.\n",
    "\n",
    "If $p$ is the rank of the matrix $G$, then this immediately reduces to \n",
    "$$\n",
    "G = U_p S_p V_p^T,\n",
    "$$\n",
    "where $U_p$ is the $N\\times p$ matrix formed by taking the first $p$ columns of $U$; $V_p$ is the $M\\times p$ matrix formed by taking the first $p$ columns of $V$; and $S_p$ is the diagonal $p\\times p$ matrix of singular values, $s_i, (i=1,\\dots,p)$ of the matrix $G$.\n",
    "\n",
    "In python, the command `U,s,Vt = np.linalg.svd(G)` will calculate the singular vectors as matrices $(U,V)$ and singular values . (Here Vt is the transpose of V.) "
   ]
  },
  {
   "cell_type": "markdown",
   "id": "e74dcc0f-fbd4-41b3-9f4d-7fc63ef17f52",
   "metadata": {},
   "source": [
    "**Task 2** Calculate the singular values of the $G$ matrix. Plot singular values $s_i$ as a function of index $i$ on a semi-log plot using `plt.semilogy()`. What do you notice about the shape ?"
   ]
  },
  {
   "cell_type": "code",
   "execution_count": 20,
   "id": "b390d816-0491-4a4d-bb6a-08bd8a119687",
   "metadata": {},
   "outputs": [],
   "source": [
    "# Try it here! You can insert more cells by selecting Cell > Insert Cell Above/Below from the menu\n",
    "# bar, or by pressing Esc to enter command mode and then hitting A or B (for above/below). \n",
    "\n"
   ]
  },
  {
   "cell_type": "markdown",
   "id": "adf3ac41-7b35-4059-9975-519fb4647893",
   "metadata": {},
   "source": [
    "**Task 3** Calculate the rank and condition number of $G$.\n",
    "\n",
    "Hint: numpy has a routine for this, `np.linalg.matrix_rank(A)` gives the rank of the matrix A; while\n",
    "`np.linalg.cond(A)` gives it conidtion number.\n",
    "\n",
    "What do these terms mean ? How do these terms depend on the singular values, $s$ ? "
   ]
  },
  {
   "cell_type": "code",
   "execution_count": 21,
   "id": "ea5217d5-a30e-4509-9b12-2eb14e3c4257",
   "metadata": {},
   "outputs": [],
   "source": [
    "# Try it here! You can insert more cells by selecting Cell > Insert Cell Above/Below from the menu\n",
    "# bar, or by pressing Esc to enter command mode and then hitting A or B (for above/below). \n",
    "\n"
   ]
  },
  {
   "cell_type": "markdown",
   "id": "e966d7d3-88d8-43e0-ab7a-f724513e9a5b",
   "metadata": {},
   "source": [
    "#### The pseudo inverse of $G$"
   ]
  },
  {
   "cell_type": "markdown",
   "id": "6e4093da-ee7b-4ae6-ac3f-766ef1da1088",
   "metadata": {},
   "source": [
    "The pseudo inverse solution of ${\\mathbf d} = G {\\mathbf m}$ is given by \n",
    "$$\n",
    "{\\mathbf m}^{\\dagger} = G^{\\dagger}{\\mathbf d},\n",
    "$$\n",
    "where $G^{\\dagger}$ is the pseudo inverse of the matrix $G$\n",
    "$$\n",
    "G^{\\dagger} = V_p S_p^{-1} U_p^T,\n",
    "$$\n",
    "\n",
    "For the Shaw problem the discretization of data and model functions is the same and so $M=N$. For convenience the routine `Gdagger = pseudo_inverse(G,k)` returns the pseudo inverse of $G$ using the first $k$ singular values."
   ]
  },
  {
   "cell_type": "markdown",
   "id": "ebe747e6-d30e-4847-a01f-1487c9e5c8a6",
   "metadata": {},
   "source": [
    "**Task 4** Calculate the pseduo inverse and apply it to the spike data to tray and recover the spike model. Do this using all 18 singular values."
   ]
  },
  {
   "cell_type": "code",
   "execution_count": 22,
   "id": "87af5d1b-34ea-4b48-9923-f39aa5ad94cc",
   "metadata": {},
   "outputs": [],
   "source": [
    "# Try it here! You can insert more cells by selecting Cell > Insert Cell Above/Below from the menu\n",
    "# bar, or by pressing Esc to enter command mode and then hitting A or B (for above/below). \n",
    "\n"
   ]
  },
  {
   "cell_type": "markdown",
   "id": "fed89d41-db12-499d-90b3-6ee3312e543a",
   "metadata": {},
   "source": [
    "**Task 5** Now add a very small amount of IID Gaussian random noise to the data with zero mean ${\\cal N}(0,\\sigma^2I_N)$ and plot the original data together with the noisy data. Choose $\\sigma=10^{-6}$.\n",
    "\n",
    "Is there any discernable difference between the noiseless and the noisy data?"
   ]
  },
  {
   "cell_type": "code",
   "execution_count": 23,
   "id": "9e189587-bba1-4a48-983d-eb6f7100b393",
   "metadata": {},
   "outputs": [],
   "source": [
    "sigma = 1.0E-6 # small standard deviation of noise.\n",
    "spikedata_noisy = spikedata + np.random.multivariate_normal(np.zeros(n), (sigma**2)*np.eye(n))"
   ]
  },
  {
   "cell_type": "code",
   "execution_count": 24,
   "id": "fb44e5b7-653f-4b72-ab1e-35daf161b945",
   "metadata": {},
   "outputs": [],
   "source": [
    "# Try it here! You can insert more cells by selecting Cell > Insert Cell Above/Below from the menu\n",
    "# bar, or by pressing Esc to enter command mode and then hitting A or B (for above/below). \n",
    "\n"
   ]
  },
  {
   "cell_type": "markdown",
   "id": "e4fdde5a-effa-43c4-b4d0-c2ff3f3a3b0f",
   "metadata": {},
   "source": [
    "Now plot the noisy and perfect data together."
   ]
  },
  {
   "cell_type": "markdown",
   "id": "2c132446-96cd-4cb7-accd-bf31ba86c9fb",
   "metadata": {},
   "source": [
    "**Task 6** Now calculate the solution using the pseudo inverse solution for the noisy data. Plot it together with the true spike model. What do you notice?"
   ]
  },
  {
   "cell_type": "code",
   "execution_count": 25,
   "id": "db23222f-d3e9-45b3-8490-abc0bf97decc",
   "metadata": {},
   "outputs": [],
   "source": [
    "# Try it here! You can insert more cells by selecting Cell > Insert Cell Above/Below from the menu\n",
    "# bar, or by pressing Esc to enter command mode and then hitting A or B (for above/below). \n",
    "\n"
   ]
  },
  {
   "cell_type": "markdown",
   "id": "3c3f6477-5ed3-40e0-8a98-d9da3e9cc831",
   "metadata": {},
   "source": [
    "**Task 7** To see where this shape comes from plot the singular vector for the smallest singular value included in the solution. This would be the 18th singular vector, or the 18th column of the matrix $V$."
   ]
  },
  {
   "cell_type": "code",
   "execution_count": 26,
   "id": "4956187d-eb4e-4340-92c6-0ab36095d1b7",
   "metadata": {},
   "outputs": [],
   "source": [
    "# Try it here! You can insert more cells by selecting Cell > Insert Cell Above/Below from the menu\n",
    "# bar, or by pressing Esc to enter command mode and then hitting A or B (for above/below). \n",
    "\n"
   ]
  },
  {
   "cell_type": "markdown",
   "id": "7620861d-5b4b-479b-b48e-11c2dfee334e",
   "metadata": {},
   "source": [
    "**Task 8** Now plot singular vectors for the 1st, 5th, 11th and 18th singular values."
   ]
  },
  {
   "cell_type": "code",
   "execution_count": 27,
   "id": "37312b82-a7c6-472f-89a0-1dabc06e942e",
   "metadata": {},
   "outputs": [],
   "source": [
    "# Try it here! You can insert more cells by selecting Cell > Insert Cell Above/Below from the menu\n",
    "# bar, or by pressing Esc to enter command mode and then hitting A or B (for above/below). \n",
    "\n"
   ]
  },
  {
   "cell_type": "markdown",
   "id": "eade7c04-dc22-4d9f-a266-71086a5f7faa",
   "metadata": {},
   "source": [
    "**Task 9** Find a $p$ value for which you judge the pseudo inverse solution best recovers the true spike model. By reducing the maximum number of singular values in the solution,  what have you managed to do to the inverse problem? What has been sacrificed to achieve this?"
   ]
  },
  {
   "cell_type": "code",
   "execution_count": 28,
   "id": "5bc4969f-cabb-48a1-8cf6-cf1b29986036",
   "metadata": {},
   "outputs": [],
   "source": [
    "# Try it here! You can insert more cells by selecting Cell > Insert Cell Above/Below from the menu\n",
    "# bar, or by pressing Esc to enter command mode and then hitting A or B (for above/below). \n",
    "\n"
   ]
  },
  {
   "cell_type": "markdown",
   "id": "c110f096-27c2-4d5c-86d4-a3ecdc53607f",
   "metadata": {},
   "source": [
    "#### Uncertainty in the pseudo solution"
   ]
  },
  {
   "cell_type": "markdown",
   "id": "438be2e6-9b32-4b94-adb9-71b7eb3832c4",
   "metadata": {},
   "source": [
    "The model covariance matrix for the pseudo inverse is given by\n",
    "\n",
    "$$\n",
    "C_M = G^{\\dagger} C_D (G^{\\dagger})^T =  \\sigma^2 G^{\\dagger} (G^{\\dagger})^T = \\sigma^2 V_p S^{-2} V_p^T\n",
    "$$\n",
    "\n",
    "\n",
    "**Task 10** Calculate the model covariance matrix for your chosen value of $p$ and plot the 95% confidence intervals for each parameter as upper and lower bounds about your chosen solution. Note that the 95% confidence interval about the $i$th model parameter value is given by $\\pm 1.96*[(C_M)_{i,i}]^{1/2}$, i.e. the square root of the corresponding diagonal element of $C_M$.\n",
    "\n",
    "\n",
    "\n",
    "How do these error bars compare to the distance between your estimated and true spike model solution?"
   ]
  },
  {
   "cell_type": "code",
   "execution_count": 29,
   "id": "05d29dbe-25c7-4aa7-9d84-f116d977082f",
   "metadata": {},
   "outputs": [],
   "source": [
    "# Try it here! You can insert more cells by selecting Cell > Insert Cell Above/Below from the menu\n",
    "# bar, or by pressing Esc to enter command mode and then hitting A or B (for above/below). \n",
    "\n"
   ]
  },
  {
   "cell_type": "code",
   "execution_count": null,
   "id": "c9800425-0e2d-4023-8824-9b50095d081a",
   "metadata": {},
   "outputs": [],
   "source": []
  }
 ],
 "metadata": {
  "kernelspec": {
   "display_name": "Python 3 (ipykernel)",
   "language": "python",
   "name": "python3"
  },
  "language_info": {
   "codemirror_mode": {
    "name": "ipython",
    "version": 3
   },
   "file_extension": ".py",
   "mimetype": "text/x-python",
   "name": "python",
   "nbconvert_exporter": "python",
   "pygments_lexer": "ipython3",
   "version": "3.13.1"
  }
 },
 "nbformat": 4,
 "nbformat_minor": 5
}
