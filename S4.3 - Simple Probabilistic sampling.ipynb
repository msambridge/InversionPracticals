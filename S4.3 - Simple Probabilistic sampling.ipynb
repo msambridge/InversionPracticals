{
 "cells": [
  {
   "cell_type": "markdown",
   "metadata": {
    "deletable": true,
    "editable": true
   },
   "source": [
    "# 4.3 - Probabilistic sampling of a sum of Gaussians#"
   ]
  },
  {
   "cell_type": "markdown",
   "metadata": {},
   "source": [
    "<!--<badge>--><a href=\"https://colab.research.google.com/github/anu-ilab/JupyterPracticals/blob/main/S4.3 - Simple Probabilistic sampling.ipynb\" target=\"_parent\"><img src=\"https://colab.research.google.com/assets/colab-badge.svg\" alt=\"Open In Colab\"/></a><!--</badge>-->"
   ]
  },
  {
   "cell_type": "markdown",
   "metadata": {
    "deletable": true,
    "editable": true
   },
   "source": [
    "In this practical we will define a target PDF to be a mixture of three Gaussians\n",
    "\n",
    "$$p(x,y) \\propto \\sum_{i=1}^3w_i \\exp\\left\\{ -0.5 (\\bar {\\mathbf x}_i - {\\mathbf x})^TC_i^{-1} (\\bar {\\mathbf x}_i - {\\mathbf x})\\right\\}  $$\n",
    "\n",
    "where the means, covariances and weights of the three distributions are given by, $\\bar {\\mathbf x}_1 = (0.6,0.6), \\bar {\\mathbf x}_2 = (0.8,0.2), \\bar {\\mathbf x}_3 = (0.2,0.3)$; $C_1 = 0.02I, C_2 = \\left(\\begin{array}\n",
    " 0.1 & 0.08\\\\\n",
    "0.08 & 0.1\n",
    "\\end{array}\\right), C_3 = \\left(\\begin{array}\n",
    " 0.1 & -0.06\\\\\n",
    "-0.06 & 0.1\n",
    "\\end{array}\\right) $, and $w_1 = 0.1, w_2 = 0.4, w_3 = 0.5$, respectively."
   ]
  },
  {
   "cell_type": "markdown",
   "metadata": {
    "deletable": true,
    "editable": true
   },
   "source": [
    "Load some plibraries"
   ]
  },
  {
   "cell_type": "code",
   "execution_count": 1,
   "metadata": {},
   "outputs": [],
   "source": [
    "# -------------------------------------------------------- #\n",
    "#                                                          #\n",
    "#     Uncomment below to set up environment on \"colab\"     #\n",
    "#                                                          #\n",
    "# -------------------------------------------------------- #\n",
    "\n",
    "# !pip install -U anu-inversion-course"
   ]
  },
  {
   "cell_type": "code",
   "execution_count": 2,
   "metadata": {
    "deletable": true,
    "editable": true,
    "tags": []
   },
   "outputs": [],
   "source": [
    "%matplotlib inline\n",
    "import numpy as np\n",
    "import matplotlib.pyplot as plt\n",
    "from scipy.stats import multivariate_normal\n",
    "import seaborn as sns"
   ]
  },
  {
   "cell_type": "code",
   "execution_count": 3,
   "metadata": {},
   "outputs": [],
   "source": [
    "def target(X,Y):\n",
    "    x1,x2,x3 = np.array([0.6,0.6]),np.array([0.8,0.2]),np.array([0.2,0.3])\n",
    "    cov1,cov2,cov3 = 0.02*np.eye(2), np.array([[0.1,0.08],[0.08,0.1]]), np.array([[0.1,-0.06],[-0.06,0.1]])\n",
    "    p1 = multivariate_normal(x1,cov1)\n",
    "    p2 = multivariate_normal(x2,cov2)\n",
    "    p3 = multivariate_normal(x3,cov3)\n",
    "    #print(np.shape(X))\n",
    "    if(np.ndim(X) == 0): \n",
    "        #print('Ndim of X is zero')\n",
    "        pos = [X,Y]\n",
    "    else:\n",
    "        pos = np.empty(X.shape + (2,))\n",
    "        print(np.shape(pos))\n",
    "        pos[:, :, 0] = X; pos[:, :, 1] = Y\n",
    "    pdf = 0.1*p1.pdf(pos) + 0.4*p2.pdf(pos) + 0.5*p3.pdf(pos)\n",
    "    return pdf\n"
   ]
  },
  {
   "cell_type": "markdown",
   "metadata": {
    "deletable": true,
    "editable": true
   },
   "source": [
    "**Task 1:** Your first task to use the evaluation of the **target** PDF function above to plot and  contour it over the region $0<= x,y <= 1)$. You should get a function that looks something lie the one below.\n",
    "\n",
    "<img src=\"../Figures/Gaussian3.png\" alt=\"Slide\" width=\"400\"/>"
   ]
  },
  {
   "cell_type": "code",
   "execution_count": 4,
   "metadata": {
    "collapsed": false,
    "deletable": true,
    "editable": true,
    "jupyter": {
     "outputs_hidden": false
    }
   },
   "outputs": [],
   "source": [
    "# Try it here! You can insert more cells by selecting Cell > Insert Cell Above/Below from the menu\n",
    "# bar, or by pressing Esc to enter command mode and then hitting A or B (for above/below). \n",
    "\n"
   ]
  },
  {
   "cell_type": "markdown",
   "metadata": {
    "deletable": true,
    "editable": true
   },
   "source": [
    "**Task 2:** Write a simple Metropolis McMC sampler to sample the target PDF . \n",
    "\n",
    "\n",
    "You could do this by implementing the following algorithm:\n",
    "- Step 0. Generate a  starting point for a random walk ${\\mathbf x} = (x_1,y_1)$ and calculate the value of the PDF $p( {\\mathbf x}) $.\n",
    "- Step 1. Generate a new position ${\\mathbf x}^{\\prime}$ as a random draw from a symmetric proposal distribution,\n",
    "$q({\\mathbf x}^{\\prime}|{\\mathbf x}) $. There is flexibility in choosing the form of this proposal distribution. \n",
    "Try using $q({\\mathbf x}^{\\prime}|{\\mathbf x}) = N({\\mathbf x}, \\sigma^2I$), where $\\sigma$ is some distance you choose, e.g. $\\sigma=0.05$.\n",
    "- Step 2. Evaluate the target PDF at the proposed location $p({\\mathbf x}^{\\prime})$.\n",
    "- Step 3. Generate $r$ as a random draw from $U[0,1]$. If $r < \\frac{p({\\mathbf x}^{\\prime})}{p({\\mathbf x})}$ accept the random step by setting ${\\mathbf x} = {\\mathbf x}^{\\prime}$; Otherwise discard ${\\mathbf x}^{\\prime}$.\n",
    "- Step 4. Record ${\\mathbf x}$ as an entry of your output ensemble and go to 1.\n",
    "\n",
    "Use your Metropolis sampler to generate an ensemble of $N$ points, where you choose $N$, and compare them to a contour plot of the target PDF, $p({\\mathbf x})$. What is the ratio of the number of proposals to the number of acceptances in your McMC waler? Does the density of samples reflect the target distribution?\n",
    "\n",
    "You should get something like the figure below which was generated with the seaborn library.\n",
    "\n",
    "<img src=\"../Figures/walk_heat_map.png\" alt=\"Slide\" width=\"800\"/>"
   ]
  },
  {
   "cell_type": "code",
   "execution_count": 5,
   "metadata": {
    "collapsed": false,
    "deletable": true,
    "editable": true,
    "jupyter": {
     "outputs_hidden": false
    }
   },
   "outputs": [],
   "source": [
    "# Try it here! You can insert more cells by selecting Cell > Insert Cell Above/Below from the menu\n",
    "# bar, or by pressing Esc to enter command mode and then hitting A or B (for above/below). \n",
    "\n"
   ]
  },
  {
   "cell_type": "markdown",
   "metadata": {
    "deletable": true,
    "editable": true
   },
   "source": [
    "**Task 3** Compare your samples to the original by plotting 1-D and 2-D marginal distributions for $x$ and $y$. You may find using the seaborn library very useful for this task.\n"
   ]
  },
  {
   "cell_type": "code",
   "execution_count": 6,
   "metadata": {
    "collapsed": false,
    "deletable": true,
    "editable": true,
    "jupyter": {
     "outputs_hidden": false
    }
   },
   "outputs": [],
   "source": [
    "# Try it here! You can insert more cells by selecting Cell > Insert Cell Above/Below from the menu\n",
    "# bar, or by pressing Esc to enter command mode and then hitting A or B (for above/below). \n",
    "\n"
   ]
  },
  {
   "cell_type": "markdown",
   "metadata": {
    "deletable": true,
    "editable": true
   },
   "source": [
    "**Task 4:** Change the proposal distribution by increasing or decreasing $\\sigma$. What do you notice about the acceptance ratio and the distribution of samples?"
   ]
  },
  {
   "cell_type": "code",
   "execution_count": 7,
   "metadata": {
    "collapsed": false,
    "deletable": true,
    "editable": true,
    "jupyter": {
     "outputs_hidden": false
    }
   },
   "outputs": [],
   "source": [
    "# Try it here! You can insert more cells by selecting Cell > Insert Cell Above/Below from the menu\n",
    "# bar, or by pressing Esc to enter command mode and then hitting A or B (for above/below). \n",
    "\n"
   ]
  },
  {
   "cell_type": "markdown",
   "metadata": {
    "deletable": true,
    "editable": true,
    "jupyter": {
     "outputs_hidden": true
    }
   },
   "source": [
    "----"
   ]
  }
 ],
 "metadata": {
  "kernelspec": {
   "display_name": "Python 3 (ipykernel)",
   "language": "python",
   "name": "python3"
  },
  "language_info": {
   "codemirror_mode": {
    "name": "ipython",
    "version": 3
   },
   "file_extension": ".py",
   "mimetype": "text/x-python",
   "name": "python",
   "nbconvert_exporter": "python",
   "pygments_lexer": "ipython3",
   "version": "3.9.6"
  },
  "vscode": {
   "interpreter": {
    "hash": "aee8b7b246df8f9039afb4144a1f6fd8d2ca17a180786b69acc140d282b71a49"
   }
  }
 },
 "nbformat": 4,
 "nbformat_minor": 4
}
