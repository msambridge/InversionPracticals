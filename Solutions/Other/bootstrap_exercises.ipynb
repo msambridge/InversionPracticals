{
 "cells": [
  {
   "cell_type": "markdown",
   "id": "8789cd0e-2d52-40bf-a965-245cdf4913dd",
   "metadata": {},
   "source": [
    "## Bootstrap exercises"
   ]
  },
  {
   "cell_type": "code",
   "execution_count": 1,
   "id": "caf66c48-842a-490b-860b-75e512a8ad09",
   "metadata": {},
   "outputs": [],
   "source": [
    "%matplotlib inline\n",
    "import matplotlib.pyplot as plt\n",
    "import numpy as np"
   ]
  },
  {
   "cell_type": "code",
   "execution_count": 9,
   "id": "915b969e-5a61-460d-894f-e37fdfb9867b",
   "metadata": {},
   "outputs": [
    {
     "name": "stdout",
     "output_type": "stream",
     "text": [
      "Original estimator         : 9.358832530936624\n",
      "Bootstrap mean             : 9.350752736363924\n",
      "Bootstrap error estimate   : 1.0673727864875322\n",
      "Bootstrap correction       : -0.008079794572699583\n",
      "Estimate of corrected mean : 9.366912325509324\n"
     ]
    }
   ],
   "source": [
    "# Bootstrap applied to the mean of Gaussian deviates\n",
    "ndata, xtrue, xsigma = 10,10.,3.\n",
    "data = xtrue + xsigma *np.random.randn(ndata)\n",
    "f = np.mean(data)\n",
    "f_boot = []\n",
    "\n",
    "for i in range(1000):\n",
    "    data_boot = np.random.choice(data,size=ndata,replace=True)\n",
    "    f_boot.append(np.mean(data_boot))\n",
    "f_boot_mean = np.mean(f_boot)\n",
    "f_boot_std = np.std(f_boot)\n",
    "bias = f_boot_mean - f\n",
    "fcorr = f - bias\n",
    "\n",
    "print('Original estimator         :',f)\n",
    "print('Bootstrap mean             :',f_boot_mean)\n",
    "print('Bootstrap error estimate   :',f_boot_std)\n",
    "print('Bootstrap correction       :',bias)\n",
    "print('Estimate of corrected mean :',fcorr)"
   ]
  },
  {
   "cell_type": "code",
   "execution_count": 16,
   "id": "c61bbc8c-b7d7-4eb0-a629-3eeef4daf5ad",
   "metadata": {},
   "outputs": [
    {
     "name": "stdout",
     "output_type": "stream",
     "text": [
      "Original estimator         : 8.519042425988394\n",
      "Bootstrap mean             : 7.656666717992647\n",
      "Bootstrap error estimate   : 2.972047077999551\n",
      "Bootstrap correction       : -0.8623757079957466\n",
      "Estimate of corrected mean : 9.381418133984141\n",
      "Unbiased variance          : 9.46560269554266\n"
     ]
    }
   ],
   "source": [
    "# Bootstrap applied to variance of Gaussian deviates\n",
    "ndata, xtrue, xsigma = 10,10.,3.\n",
    "data = xtrue + xsigma *np.random.randn(ndata)\n",
    "data_mean = np.mean(data)\n",
    "f = 1/ndata * np.sum((data-data_mean)**2)\n",
    "f_boot = []\n",
    "\n",
    "for i in range(1000):\n",
    "    data_boot = np.random.choice(data,size=ndata,replace=True)\n",
    "    data_boot_mean = np.mean(data_boot)\n",
    "    fb = 1/ndata * np.sum((data_boot-data_boot_mean)**2)\n",
    "    f_boot.append(fb)\n",
    "    \n",
    "f_boot_mean = np.mean(f_boot)\n",
    "f_boot_std = np.std(f_boot)\n",
    "bias = f_boot_mean - f\n",
    "fcorr = f - bias\n",
    "f_var = np.var(data,ddof=1)\n",
    "\n",
    "print('Original estimator         :',f)\n",
    "print('Bootstrap mean             :',f_boot_mean)\n",
    "print('Bootstrap error estimate   :',f_boot_std)\n",
    "print('Bootstrap correction       :',bias)\n",
    "print('Estimate of corrected mean :',fcorr)\n",
    "print('Unbiased variance          :',f_var)"
   ]
  },
  {
   "cell_type": "code",
   "execution_count": null,
   "id": "b564e8f5-738f-4ba5-8cb9-3fde3cc682bf",
   "metadata": {},
   "outputs": [],
   "source": []
  },
  {
   "cell_type": "code",
   "execution_count": null,
   "id": "a51a13b6-ba05-46e8-be4d-b5e6385cf1d1",
   "metadata": {},
   "outputs": [],
   "source": []
  }
 ],
 "metadata": {
  "kernelspec": {
   "display_name": "Python 3 (ipykernel)",
   "language": "python",
   "name": "python3"
  },
  "language_info": {
   "codemirror_mode": {
    "name": "ipython",
    "version": 3
   },
   "file_extension": ".py",
   "mimetype": "text/x-python",
   "name": "python",
   "nbconvert_exporter": "python",
   "pygments_lexer": "ipython3",
   "version": "3.12.4"
  }
 },
 "nbformat": 4,
 "nbformat_minor": 5
}
