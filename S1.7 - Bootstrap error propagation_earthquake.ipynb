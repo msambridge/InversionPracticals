{
 "cells": [
  {
   "cell_type": "markdown",
   "metadata": {},
   "source": [
    "# 1.7:  Uncertainty estimation with the bootstrap - Earthquake location"
   ]
  },
  {
   "cell_type": "markdown",
   "metadata": {},
   "source": [
    "*Andrew Valentine & Malcolm Sambridge - Research School of Earth Sciences, The Australian National University - Last updated Oct. 2020*"
   ]
  },
  {
   "cell_type": "markdown",
   "metadata": {},
   "source": [
    "<!--<badge>--><a href=\"https://colab.research.google.com/github/anu-ilab/JupyterPracticals/blob/main/S1.7 - Bootstrap error propagation_earthquake.ipynb\" target=\"_parent\"><img src=\"https://colab.research.google.com/assets/colab-badge.svg\" alt=\"Open In Colab\"/></a><!--</badge>-->"
   ]
  },
  {
   "cell_type": "markdown",
   "metadata": {},
   "source": [
    "This practical explores the use of the Bootstrap method for uncertainty estimation. Recall that both linear theory error estimation as well as Monte Carlo error propagation required nowledge of the size of the data errors in the form of a data covariance matrix.   The bootstrap can be used to estimate error in a solution without knowledge of  size of errors in the data. Instead it can be applied by assuming that the data errors, or data residuals more usually, are independently, identically distributed, IID. This can be a reasonable assumption if data error correlation is minimal.\n",
    "\n",
    "Here we apply the bootstrap to a nonlinear inverse problem that requires an iterative solution. \n",
    "\n",
    "As an example, we will consider is earthquake location.\n",
    "\n",
    "Here we make use of a ready made python script to iteratively update an earthquake location for the $(x,y,z)$ and origin time, $t$.  We use a homogeneous crustal Earth model with wave speed, v=5.8 km/s. \n"
   ]
  },
  {
   "cell_type": "markdown",
   "metadata": {},
   "source": [
    "First load some libraries."
   ]
  },
  {
   "cell_type": "code",
   "execution_count": null,
   "metadata": {},
   "outputs": [],
   "source": [
    "# -------------------------------------------------------- #\n",
    "#                                                          #\n",
    "#     Uncomment below to set up environment on \"colab\"     #\n",
    "#                                                          #\n",
    "# -------------------------------------------------------- #\n",
    "\n",
    "# !pip install -U anu-inversion-course\n",
    "# !git clone https://github.com/anu-ilab/JupyterPracticals\n",
    "# %cd JupyterPracticals"
   ]
  },
  {
   "cell_type": "code",
   "execution_count": 1,
   "metadata": {},
   "outputs": [],
   "source": [
    "%matplotlib inline\n",
    "import matplotlib.pyplot as plt\n",
    "from scipy import stats\n",
    "import numpy as np\n",
    "import math\n",
    "import pickle\n",
    "from anu_inversion_course import plotcovellipse as pc\n",
    "from anu_inversion_course import eqlocate as eq\n"
   ]
  },
  {
   "cell_type": "markdown",
   "metadata": {},
   "source": [
    "Now read in the seismic station locations and the arrival times of the earthquake at these stations. Also we read in a border for a plot of the iterative solution."
   ]
  },
  {
   "cell_type": "code",
   "execution_count": 2,
   "metadata": {},
   "outputs": [],
   "source": [
    "pickle_eq = open(\"Datasets/loctim.pickle\",\"rb\")\n",
    "[la,lo,el,ts] = pickle.load(pickle_eq)\n",
    "\n",
    "vp0=5.8 # seismic wavespeed of halfspace Earth model\n",
    "vp = np.ones(la.shape[0])\n",
    "\n",
    "# load border.xy\n",
    "pickle_b = open(\"Datasets/border.pickle\",\"rb\")\n",
    "[borderx,bordery] = pickle.load(pickle_b)"
   ]
  },
  {
   "cell_type": "markdown",
   "metadata": {},
   "source": [
    "**Task 1** \n",
    "\n",
    "Use the earthquake location routine *eqlocate.py* to find the best fit location from the data.\n",
    "\n",
    "The format of the routine eqlocate is as follows:\n",
    "```\n",
    "\n",
    "sols, res =eq.eqlocate(x0,y0,z0,ts,la,lo,el,vp,tol) # here sols are the iterative solutions found, \n",
    "                                                    # If solvedep=True is given as an argument it will solve for depth\n",
    "                                                    # Otherwise depth is fixed at the input guess value.\n",
    "Output of the routine is as follows:\n",
    "\n",
    "res = the observed minus predicted arrival time of the final solution.\n",
    "sols returns each iteration of the location procedure. Hence sols[-1] gives the final solution.\n",
    "\n",
    "Parameters are arranged as follows:\n",
    "tfinal = sols[-1,0] # First parameter is the origin time\n",
    "xfinal = sols[-1,1] # Second parameter is the Longitude \n",
    "yfinal = sols[-1,2] # Third parameter is the Latitude \n",
    "zfinal = sols[-1,3] # Fourth parameter is the Depth \n",
    "\n",
    "```"
   ]
  },
  {
   "cell_type": "code",
   "execution_count": 3,
   "metadata": {},
   "outputs": [],
   "source": [
    "# Try it here! You can insert more cells by selecting Cell > Insert Cell Above/Below from the menu\n",
    "# bar, or by pressing Esc to enter command mode and then hitting A or B (for above/below). \n"
   ]
  },
  {
   "cell_type": "markdown",
   "metadata": {},
   "source": [
    "**Task 2** \n",
    "\n",
    "Describe how you would apply the bootstrap to calculate errors in the earthquake location parameters? "
   ]
  },
  {
   "cell_type": "markdown",
   "metadata": {},
   "source": [
    "##### Enter your answer here.  You can use Markdown to format text.\n"
   ]
  },
  {
   "cell_type": "markdown",
   "metadata": {},
   "source": [
    "**Task 3** \n",
    "\n",
    "Use the bootstrap to calculate 5000 bootstrap solutions and then plot these about the original solution."
   ]
  },
  {
   "cell_type": "markdown",
   "metadata": {},
   "source": [
    "Answer: We perform 5000 bootstrap samples of the arrival time residuals and add these to the predicted arrival times, then relocate the event each time. "
   ]
  },
  {
   "cell_type": "code",
   "execution_count": 4,
   "metadata": {},
   "outputs": [],
   "source": [
    "# Try it here! You can insert more cells by selecting Cell > Insert Cell Above/Below from the menu\n",
    "# bar, or by pressing Esc to enter command mode and then hitting A or B (for above/below). \n",
    "\n"
   ]
  },
  {
   "cell_type": "code",
   "execution_count": 5,
   "metadata": {},
   "outputs": [],
   "source": [
    "# Try it here! You can insert more cells by selecting Cell > Insert Cell Above/Below from the menu\n",
    "# bar, or by pressing Esc to enter command mode and then hitting A or B (for above/below). \n"
   ]
  },
  {
   "cell_type": "markdown",
   "metadata": {},
   "source": [
    "Answer: A covariance matrix can be calculated from the ensemble of solutions."
   ]
  },
  {
   "cell_type": "markdown",
   "metadata": {},
   "source": [
    "**Task 4:** \n",
    "\n",
    "From the bootstrap output samples\n",
    "$(x_1^i, y_2^i, z_3^i), (i=1,\\dots, B)$ calculate the i) <span>**the mean bootstrap solution**</span>, ii) <span>**the model\n",
    "co-variance**</span>, iii) <span>**the bias corrected solution**</span>,\n",
    "and iv) <span>**the 95% confidence intervals**</span> for each of the unknowns. The bias correction is the mean of the differences between each Bootstrap solution and the estimator itself, which in this case is the best fit solution. This is subtracted from the best fit to produce the  <span>**the bias corrected solution**</span> as described in the notes.\n",
    "\n",
    "The mean should look similar to the best fit values and\n",
    "the bias should be small. The variance and confidence intervals\n",
    "characterize the error in the estimated values of the unknowns.\n",
    "\n"
   ]
  },
  {
   "cell_type": "code",
   "execution_count": 6,
   "metadata": {},
   "outputs": [],
   "source": [
    "# Try it here! You can insert more cells by selecting Cell > Insert Cell Above/Below from the menu\n",
    "# bar, or by pressing Esc to enter command mode and then hitting A or B (for above/below). \n",
    "\n"
   ]
  },
  {
   "cell_type": "markdown",
   "metadata": {},
   "source": [
    "----"
   ]
  }
 ],
 "metadata": {
  "kernelspec": {
   "display_name": "Python 3.10.1 64-bit",
   "language": "python",
   "name": "python3"
  },
  "language_info": {
   "codemirror_mode": {
    "name": "ipython",
    "version": 3
   },
   "file_extension": ".py",
   "mimetype": "text/x-python",
   "name": "python",
   "nbconvert_exporter": "python",
   "pygments_lexer": "ipython3",
   "version": "3.10.1"
  },
  "vscode": {
   "interpreter": {
    "hash": "aee8b7b246df8f9039afb4144a1f6fd8d2ca17a180786b69acc140d282b71a49"
   }
  }
 },
 "nbformat": 4,
 "nbformat_minor": 4
}
