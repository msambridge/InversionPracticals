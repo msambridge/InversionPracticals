{
 "cells": [
  {
   "cell_type": "markdown",
   "metadata": {},
   "source": [
    "# 6.2 - Trans-D partition sampling: Regression with discontinuities  #"
   ]
  },
  {
   "cell_type": "markdown",
   "metadata": {},
   "source": [
    "<!--<badge>--><a href=\"https://colab.research.google.com/github/msambridge/InversionPracticals/blob/main/S6.2 - TransD sampling partition modelling.ipynb\" target=\"_parent\"><img src=\"https://colab.research.google.com/assets/colab-badge.svg\" alt=\"Open In Colab\"/></a><!--</badge>-->"
   ]
  },
  {
   "cell_type": "markdown",
   "metadata": {},
   "source": [
    "*This tutorial was originally developed by Rhys Hawkins.*"
   ]
  },
  {
   "cell_type": "markdown",
   "metadata": {},
   "source": [
    "In this practical we consider a data set of noisy $(x,y)$ values with\n",
    "discontinuities (See figure below). The task is again to recover\n",
    "information about the (red) function from the observations, but this\n",
    "time the data must also be used to constrain the number and position of\n",
    "discontinuities.\n",
    "\n",
    "<img src=\"Figures/rjmcmc_multi/ch0-exampledata.png\" alt=\"RJMCMC figure\" width=\"400\"/>\n",
    "2-D data set. Red curve is the true function, dots are observed data.\n",
    "\n",
    "This exercise is an expanded version of the previous one only now we\n",
    "allow for multiple polynomial functions separated into partitions along\n",
    "the x axis. We do not know where the discontinuities occur, nor how many\n",
    "there are. Algorithms for constructing solutions using the Partition\n",
    "modelling approach are in the python software library\n",
    "<span>*rjmcmc*</span> available from [here](http://www.iearth.edu.au/codes/). Again you can either  follow the\n",
    "<span>*rjmcmc library tutorial guide*</span> [[available here](files/Figures/tutorial_multi.pdf)]\n",
    "to get the solutions to each section and run them, or you can attempt to write solutions yourself using the rjmcmc package.\n",
    "\n",
    "The same Likelihood function and prior is assumed as in the previous problem, only\n",
    "now we introduce the number of partitions as unknowns and this also has\n",
    "a flat prior.\n",
    "\n",
    "First we load some libraries."
   ]
  },
  {
   "cell_type": "code",
   "execution_count": 1,
   "metadata": {},
   "outputs": [],
   "source": [
    "# -------------------------------------------------------- #\n",
    "#                                                          #\n",
    "#     Uncomment below to set up environment on \"colab\"     #\n",
    "#                                                          #\n",
    "# -------------------------------------------------------- #\n",
    "\n",
    "# !git clone https://github.com/msambridge/InversionPracticals\n",
    "# %cd InversionPracticals"
   ]
  },
  {
   "cell_type": "code",
   "execution_count": 2,
   "metadata": {},
   "outputs": [
    {
     "ename": "ModuleNotFoundError",
     "evalue": "No module named 'anu_inversion_course'",
     "output_type": "error",
     "traceback": [
      "\u001b[0;31m---------------------------------------------------------------------------\u001b[0m",
      "\u001b[0;31mModuleNotFoundError\u001b[0m                       Traceback (most recent call last)",
      "Cell \u001b[0;32mIn[2], line 5\u001b[0m\n\u001b[1;32m      3\u001b[0m \u001b[38;5;28;01mfrom\u001b[39;00m\u001b[38;5;250m \u001b[39m\u001b[38;5;21;01mscipy\u001b[39;00m\u001b[38;5;250m \u001b[39m\u001b[38;5;28;01mimport\u001b[39;00m stats\n\u001b[1;32m      4\u001b[0m \u001b[38;5;28;01mimport\u001b[39;00m\u001b[38;5;250m \u001b[39m\u001b[38;5;21;01mnumpy\u001b[39;00m\u001b[38;5;250m \u001b[39m\u001b[38;5;28;01mas\u001b[39;00m\u001b[38;5;250m \u001b[39m\u001b[38;5;21;01mnp\u001b[39;00m\n\u001b[0;32m----> 5\u001b[0m \u001b[38;5;28;01mfrom\u001b[39;00m\u001b[38;5;250m \u001b[39m\u001b[38;5;21;01manu_inversion_course\u001b[39;00m\u001b[38;5;250m \u001b[39m\u001b[38;5;28;01mimport\u001b[39;00m rjmcmc \n",
      "\u001b[0;31mModuleNotFoundError\u001b[0m: No module named 'anu_inversion_course'"
     ]
    }
   ],
   "source": [
    "# load libraries\n",
    "import matplotlib.pyplot as plt\n",
    "from scipy import stats\n",
    "import numpy as np\n",
    "#from anu_inversion_course import rjmcmc "
   ]
  },
  {
   "cell_type": "markdown",
   "metadata": {},
   "source": [
    "Similar to the single partition tutorial we will use a non-trivial synthetic dataset with added noise. The difference this time is that\n",
    "we will add a series of discontinuities or step functions and a sign\n",
    "change.\n",
    "\n",
    "The base function that is used is an exponentially increasing sine\n",
    "wave over the domain 0 . . . 10, ie:\n",
    "\n",
    "$$y = {\\rm stepsign(x)} \\times e^{x/3} \\sin \\frac{2x}{3} + {\\rm step(x)}$$\n",
    "\n",
    "Where the step and stepsign functions are defined as follows:\n",
    "\n",
    "$$\n",
    "  {\\rm step}(x)=\\begin{cases}\n",
    "    15, & \\text{ $x<2.5$}\\\\\n",
    "    -20, & \\text{$2.5\\le x<5$}\\\\\n",
    "    0, & \\text{otherwise}.\n",
    "  \\end{cases}\n",
    "$$\n",
    "\n",
    "$$\n",
    "  {\\rm stepsign}(x)=\\begin{cases}\n",
    "    -1, & \\text{ $x<2.5$}\\\\\n",
    "    1, & \\text{$2.5\\le x<5$}\\\\\n",
    "    -1, & \\text{otherwise}.\n",
    "  \\end{cases}\n",
    "$$\n",
    "\n",
    "The actual dataset unevenly (though with fairly good coverage)\n",
    "samples this function and adds some Gaussian noise and these values are save to an ASCII text file. A plot of the synthetic data points\n",
    "with the true function is shown in the figure above."
   ]
  },
  {
   "cell_type": "markdown",
   "metadata": {},
   "source": [
    "**Task 1**.  First load the given data set of $(x^{obs}_i, y^{obs}_i)$ values and\n",
    "    plot the data. You should see a figure similar to the one above."
   ]
  },
  {
   "cell_type": "code",
   "execution_count": null,
   "metadata": {},
   "outputs": [],
   "source": [
    "# Open our data file which consists of one (x, y) coordinater per line\n",
    "# separated by whitespace\n",
    "#\n",
    "f = open('datasets/rjmcmc_multi_data.txt', 'r')\n",
    "lines = f.readlines()\n",
    "\n",
    "x = []\n",
    "y = []\n",
    "\n",
    "for line in lines:\n",
    "    columns = line.split()\n",
    "\n",
    "    x.append(float(columns[0]))\n",
    "    y.append(float(columns[1]))\n",
    "\n",
    "f.close()\n",
    "\n",
    "fig = plt.figure()\n",
    "\n",
    "plt.plot(x, y, 'ko')\n",
    "\n",
    "plt.show()"
   ]
  },
  {
   "cell_type": "markdown",
   "metadata": {},
   "source": [
    "**Task 2**. \n",
    "In this exercise we assume a polynomial representation for the\n",
    "    unknown function (red curve) with maximum order 1 and a uniform\n",
    "    prior PDF, and also sample over the number of partitions and the\n",
    "    locations of the discontinuities.\n",
    "\n",
    "Use the 1-D Partition modelling software to generate\n",
    "    50000 curves and take the mean.  Plot the a) the mean curve, b)\n",
    "    the posterior PDF of the discontinuity locations and c) the\n",
    "    posterior PDF of the number of partitions. In this exercise you will need to use routines `data = rjmcmc.dataset1d()` to build the data object, \n",
    "    and `results = rjmcmc.regression_part1d(data, pd, burnin, total, max_partitions, max_order)` to carry out the analysis and return the results object.\n",
    "    \n",
    "Your figures should be\n",
    "    similar to the one below.\n",
    "  \n",
    "<img src=\"Figures/rjmcmc_multi/ch2-analyse.png\" alt=\"RJMCMC figure\" width=\"400\"/>\n",
    "<img src=\"Figures/rjmcmc_multi/ch2-analyse-partcount.png\" alt=\"RJMCMC figure\" width=\"400\"/>\n",
    "Figures:\n",
    "\n",
    "- (Upper panel) 2-D data set with mean reconstructed model from 50000 McMC samples;\n",
    "- (Middel panel) the posterior PDF of the location of discontinuities in the data (notice the two peaks); \n",
    "- (Lower panel) the posterior PDF of the number of partitions detected in the data."
   ]
  },
  {
   "cell_type": "code",
   "execution_count": null,
   "metadata": {},
   "outputs": [],
   "source": [
    "# Write your answer in here\n"
   ]
  },
  {
   "cell_type": "markdown",
   "metadata": {},
   "source": [
    "Looking at the results of the Bayesian sampling try and answer the\n",
    "    following: How many partitions have been detected? Where are the\n",
    "    most likely location of the partition boundaries/discontinuities?\n",
    "    Can you see a difference in how well the data is able to detect\n",
    "    boundaries of each partition? What would you estimate as the likely\n",
    "    position and error of the discontinuities?"
   ]
  },
  {
   "cell_type": "markdown",
   "metadata": {},
   "source": [
    "**Task 3**.   In the previous example linear polynomials were used in each\n",
    "    partition. We now increase the maximum order of the polynomial to 5,\n",
    "    meaning that up to quintic polynomials are used within each\n",
    "    partition. For this exercise you will need routine `rjmcmc.regression_part1d(data, pd)` to perform the analysis.\n",
    "    \n",
    "Plot the same figures as in the previous exercise showing:\n",
    "1. the mean curve, \n",
    "2. the posterior PDF of the discontinuity locations and \n",
    "3. the posterior PDF of the number of partitions. \n",
    "\n",
    "See how they have changed at the inference process\n",
    "now picks out the discontinuity number and location much better.\n",
    "Your figures should be similar to Figure below. Using these\n",
    "probabilistic sampling results we might draw different conclusions\n",
    "than in Q2, but remember here the maximum polynomial order provided\n",
    "as prior information to the Bayesian procedure is different from in\n",
    "the previous case.\n",
    "\n",
    "<img src=\"Figures/rjmcmc_multi/ch3-order.png\" alt=\"RJMCMC figure\" width=\"400\"/>\n",
    "<img src=\"Figures/rjmcmc_multi/ch3-orderpartcount.png\" alt=\"RJMCMC figure\" width=\"400\"/>\n",
    "Figures:\n",
    "\n",
    "- (Top panel) 2-D data set with mean reconstructed model from 50000 McMC samples, with maximum order of polynomial set to 5; \n",
    "- (Middle panel) the posterior PDF of the location of discontinuities in the data (notice the two peaks); \n",
    "- (Lower panel) the posterior PDF of the number of partitions detected in the data."
   ]
  },
  {
   "cell_type": "markdown",
   "metadata": {},
   "source": [
    "**Task 4**. Repeat the run, only this time use the library routines to plot a\n",
    "    density model of the entire ensemble of curves and 95% confidence\n",
    "    intervals at each point along the axes. In this way we get a visual\n",
    "    impression of the error in the predicted curve. You should\n",
    "    get a plot similar to Figure below. This gives an indication of the\n",
    "    confidence in the predictive capability of the ensemble of curves.\n",
    "    \n",
    "For this exercise you will need to use `rjmcmc.regression_part1d_sampled(data, sampler_cb, pd, burnin, total, max_partitions, max_order)`to perform the analysis.\n",
    "\n",
    "<img src=\"Figures/rjmcmc_multi/ch4-confidence.png\" alt=\"RJMCMC figure\" width=\"400\"/>\n",
    "<img src=\"Figures/rjmcmc_multi/ch4-confidenceintervals.png\" alt=\"RJMCMC figure\" width=\"400\"/>\n",
    "Figures:\n",
    "\n",
    "- (Upper panel) Grayscale image of probability density of all curves in the ensemble when maximum polynomial order equal to 5 inside each partition; \n",
    "- (Lower panel) 95% (point by point) confidence intervals from the ensemble of solutions.]"
   ]
  },
  {
   "cell_type": "code",
   "execution_count": null,
   "metadata": {},
   "outputs": [],
   "source": [
    "# Write your answer in here\n",
    "\n",
    "#\n",
    "# This is an example of the callback function which can be passed to rjmcmc routines to sample the curves generated \n",
    "# during the analysis\n",
    "#\n",
    "sample_x = None\n",
    "sample_curves = []\n",
    "sample_i = 0\n",
    "sample_rate = 250\n",
    "def sampler_cb(x, y):\n",
    "    global sample_x, sample_curves, sample_i, sample_rate\n",
    "\n",
    "    if sample_i == 0:\n",
    "        sample_x = x\n",
    "\n",
    "    if sample_i % sample_rate == 0:\n",
    "        sample_curves.append(y)\n",
    "\n",
    "    sample_i = sample_i + 1\n",
    "\n",
    "    #"
   ]
  },
  {
   "cell_type": "code",
   "execution_count": null,
   "metadata": {},
   "outputs": [],
   "source": [
    "# Run a series of analyses with varying maximum allowed order\n",
    "#\n",
    "#"
   ]
  },
  {
   "cell_type": "markdown",
   "metadata": {},
   "source": [
    "**Task 5** \n",
    "Use the routines to try and estimate\n",
    "    the standard deviation of the noise in the data. In fact we invert\n",
    "    for a parameter $\\lambda$ which is the ratio of the estimated noise\n",
    "    (i.e. $\\sigma$ in the Likelihood expression above) to the true noise. \n",
    "    \n",
    "For this exercise you will need to set the range and standard deviation of the $\\lambda$ values with the routines `data.set_lambda_range(lambda_min, lambda_max)`, and `data.set_lambda_std(lambda_std)`, where the data object has been obtained from the setup routine `data = rjmcmc.dataset1d(x, y, n)`. Then you will need to perform the analysis with  `results = rjmcmc.regression_part1d(data, pd)`, after which you can obtain various diagnostics using\n",
    "`results.partition_location_histogram(), results.partitions(), results.proposed(), results.acceptance(), results.lambda_history()`\n",
    "    \n",
    "Plot a histogram of\n",
    "    the results and see how well the Bayesian sampling is able to\n",
    "    constrain the level of noise in the data. Your results should be\n",
    "    similiar to Figure below. If the data were estimated with $\\sigma=3$,\n",
    "    what do you think the true value was?\n",
    "\n",
    "<img src=\"Figures/rjmcmc_multi/ch5-hierarchical.png\" alt=\"RJMCMC figure\" width=\"400\"/>\n",
    "Figure: Posterior PDF of the data noise parameter λ values found from sampling."
   ]
  },
  {
   "cell_type": "code",
   "execution_count": null,
   "metadata": {},
   "outputs": [],
   "source": [
    "#\n",
    "# Set a range of where we think the error should be and try to estimate a pdf for lambda.\n",
    "#\n",
    "lambda_min = 0.5\n",
    "lambda_max = 3.0\n",
    "lambda_std = 0.1\n"
   ]
  },
  {
   "cell_type": "markdown",
   "metadata": {},
   "source": [
    "----"
   ]
  }
 ],
 "metadata": {
  "kernelspec": {
   "display_name": "Python 3 (ipykernel)",
   "language": "python",
   "name": "python3"
  },
  "language_info": {
   "codemirror_mode": {
    "name": "ipython",
    "version": 3
   },
   "file_extension": ".py",
   "mimetype": "text/x-python",
   "name": "python",
   "nbconvert_exporter": "python",
   "pygments_lexer": "ipython3",
   "version": "3.9.6"
  }
 },
 "nbformat": 4,
 "nbformat_minor": 4
}
