{
 "cells": [
  {
   "cell_type": "markdown",
   "metadata": {
    "deletable": true,
    "editable": true
   },
   "source": [
    "# 2.3: Nonlinear parameter estimation: Iterative Earthquake location#"
   ]
  },
  {
   "cell_type": "markdown",
   "metadata": {},
   "source": [
    "*Written by Andrew Valentine and Malcolm Sambridge*"
   ]
  },
  {
   "cell_type": "markdown",
   "metadata": {},
   "source": [
    "<!--<badge>--><a href=\"https://colab.research.google.com/github/msambridge/InversionPracticals/blob/main/S2.3 - Iterative Earthquake location.ipynb\" target=\"_parent\"><img src=\"https://colab.research.google.com/assets/colab-badge.svg\" alt=\"Open In Colab\"/></a><!--</badge>-->"
   ]
  },
  {
   "cell_type": "markdown",
   "metadata": {
    "deletable": true,
    "editable": true
   },
   "source": [
    "In this practical, we will look at a nonlinear inverse problem that requires an iterative solution. \n",
    "\n",
    "As an example, we will consider is earthquake location.\n",
    "\n",
    "Specifically, the practical is to write a python script to iteratively update an earthquake location for the $(x,y,z)$ and origin time, $t$.  Use a homogeneous crustal Earth model with wave speed, v=5.4 km/s. The tasks to be performed are:\n",
    "\n",
    "1. Read in 10 seismic stations at locations on a +-30km box in (x,y) at the earth’s surface together with two sets of arrival times from the source to each station, one with noise added and one without.\n",
    "\n",
    "2. Choose a random starting guess inside the box and determine expressions for each entry of the 10 x 4 Derivative matrix and build the G matrix. Build the data covariance matrix for independent Gaussian errors with $\\sigma=0.2$\n",
    "\n",
    "3. Apply the least squares iterative solution to both the noisy and noiseless data sets. Decide how many iterations to let it run for.\n",
    "\n",
    "4. Make a plot showing the source location at each iteration for each case.\n",
    "\n",
    "5. Make a table of the residuals vs iteration for each case.\n",
    "\n",
    "6. Calculate and plot the model covariance matrices for each pair of parameters at your final solution.\n",
    "\n",
    "Things to consider. Does the iterative algorithm converge to a good enough solution? Does this solution fit the data adequately? How many iterations does it take? What happens if you put the starting solution far from the actual earthquake location? "
   ]
  },
  {
   "cell_type": "code",
   "execution_count": 2,
   "metadata": {},
   "outputs": [],
   "source": [
    "# -------------------------------------------------------- #\n",
    "#                                                          #\n",
    "#     Uncomment below to set up environment on \"colab\"     #\n",
    "#                                                          #\n",
    "# -------------------------------------------------------- #\n",
    "\n",
    "# !git clone https://github.com/msambridge/InversionPracticals\n",
    "# !pip install corner\n",
    "# %cd InversionPracticals"
   ]
  },
  {
   "cell_type": "code",
   "execution_count": 4,
   "metadata": {
    "collapsed": false,
    "deletable": true,
    "editable": true,
    "jupyter": {
     "outputs_hidden": false
    }
   },
   "outputs": [],
   "source": [
    "%matplotlib inline\n",
    "import numpy as np\n",
    "import matplotlib.pyplot as plt\n",
    "from scipy import stats\n",
    "import pickle\n",
    "import sys\n",
    "sys.path.append(\"software\")\n",
    "import plotcovellipse as pc\n",
    "import eqlocate as eq"
   ]
  },
  {
   "cell_type": "code",
   "execution_count": 6,
   "metadata": {
    "collapsed": false,
    "jupyter": {
     "outputs_hidden": false
    }
   },
   "outputs": [
    {
     "data": {
      "image/png": "[encoded data removed]",
      "text/plain": [
       "<Figure size 900x600 with 1 Axes>"
      ]
     },
     "metadata": {},
     "output_type": "display_data"
    },
    {
     "name": "stdout",
     "output_type": "stream",
     "text": [
      " tobs\n",
      " [ 9.31979913 10.67036112  7.91562913 11.80824099 11.13594735  9.50326285\n",
      " 10.56990629 12.26874052  9.99586708  8.01971903]\n",
      " tobsn\n",
      " [ 9.14788778 10.69212619  7.90166076 11.8822169  11.07486658  9.60494135\n",
      " 10.17896718 12.28384527 10.04709788  8.04154611]\n"
     ]
    }
   ],
   "source": [
    "# Try it here! You can insert more cells by selecting Cell > Insert Cell Above/Below from the menu\n",
    "# bar, or by pressing Esc to enter command mode and then hitting A or B (for above/below). \n",
    "\n",
    "# Read in 10 seismic stations at random locations on a +-30km box in (x,y) at the earth’s surface together \n",
    "# with two sets of arrival times from the source to each station, one with noise added and one without.\n",
    "\n",
    "pickle_off = open(\"datasets/eqdata.pickle\",\"rb\")\n",
    "[tobs,tobsn,sta] = pickle.load(pickle_off)\n",
    "\n",
    "fig, ax = plt.subplots(figsize=(9,6))\n",
    "plt.title('Station locations')\n",
    "ax.scatter(sta.T[0],sta.T[1],color='k')\n",
    "plt.xlim(-30,30)\n",
    "plt.ylim(-30,30)\n",
    "plt.xlabel('X')\n",
    "plt.ylabel('Y')\n",
    "plt.show()\n",
    "print(' tobs\\n',tobs)\n",
    "print(' tobsn\\n',tobsn)\n",
    "\n",
    "Cdinv = np.eye(len(tobs))/(0.2*0.2) # data covariance matrix for independent noise in the arrival times.\n"
   ]
  },
  {
   "cell_type": "markdown",
   "metadata": {},
   "source": [
    "**Task 1** First write a python function to calculate the arrival times of seismic phases at all stations.\n",
    "\n",
    "A typical structure might be\n",
    "```python\n",
    "    def calct(sol,sta):\n",
    "        .\n",
    "        .\n",
    "        .\n",
    "    return tpred\n",
    "```\n",
    "where the inputs `sol[0,..,3]` is the input trial earthquake location $(x,y,z,t_0)$; `sta[i,0,..2]` is the \n",
    "$(x,y,z)$ location of the ith station. And the outputs are `tpred(i)` the arrival time at the ith station from teh input location."
   ]
  },
  {
   "cell_type": "code",
   "execution_count": null,
   "metadata": {
    "collapsed": false,
    "jupyter": {
     "outputs_hidden": false
    }
   },
   "outputs": [],
   "source": [
    "# Try it here! You can insert more cells by selecting Cell > Insert Cell Above/Below from the menu\n",
    "# bar, or by pressing Esc to enter command mode and then hitting A or B (for above/below). \n",
    "\n"
   ]
  },
  {
   "cell_type": "markdown",
   "metadata": {},
   "source": [
    "**Task 2** Now write a function to calculate the G matrix of seismic phases at all stations for any trial earthquake location.\n",
    "\n",
    "A typical structure might be\n",
    "```python\n",
    "    def calcG(sol,sta):\n",
    "        .\n",
    "        .\n",
    "        .\n",
    "    return G\n",
    "```\n",
    "where $G$ is the matrix where each row is the partial derivative of the arrival time at the $i$ station with respect to the four location parameters $(x,y,z,t)$. It will be imporatnt to keep the order of the model unknowns consistent between routines. "
   ]
  },
  {
   "cell_type": "code",
   "execution_count": null,
   "metadata": {
    "collapsed": false,
    "jupyter": {
     "outputs_hidden": false
    }
   },
   "outputs": [],
   "source": [
    "# Try it here! You can insert more cells by selecting Cell > Insert Cell Above/Below from the menu\n",
    "# bar, or by pressing Esc to enter command mode and then hitting A or B (for above/below). \n"
   ]
  },
  {
   "cell_type": "markdown",
   "metadata": {},
   "source": [
    "**Task 3** Now iteratively solve the least squares problem starting at your initial guess location and print out convergence of the solution (or divergence!). You have to choose the number of iterations. Try this for the noise free arrival times `tobs` and then the noisy arrival times `tobsn`. Can you explain the difference in the solutions?"
   ]
  },
  {
   "cell_type": "code",
   "execution_count": null,
   "metadata": {
    "collapsed": false,
    "deletable": true,
    "editable": true,
    "jupyter": {
     "outputs_hidden": false
    }
   },
   "outputs": [],
   "source": [
    "# Try it here! You can insert more cells by selecting Cell > Insert Cell Above/Below from the menu\n",
    "# bar, or by pressing Esc to enter command mode and then hitting A or B (for above/below). \n"
   ]
  },
  {
   "cell_type": "markdown",
   "metadata": {},
   "source": [
    "**Task 4** Make a plot of the convergence of the solution in the (x,y) plane, e.g. by colouring the start position in green and the final position in red with intermediate epicentres as open circles.\n",
    "\n",
    "Note: You could experiment this using different starting positions and see when the iterations diverge. Can you find a starting location for which the iterations diverge? Why do you think it diverges for this choice?"
   ]
  },
  {
   "cell_type": "code",
   "execution_count": null,
   "metadata": {
    "collapsed": false,
    "jupyter": {
     "outputs_hidden": false
    }
   },
   "outputs": [],
   "source": [
    "# Try it here! You can insert more cells by selecting Cell > Insert Cell Above/Below from the menu\n",
    "# bar, or by pressing Esc to enter command mode and then hitting A or B (for above/below). \n"
   ]
  },
  {
   "cell_type": "markdown",
   "metadata": {},
   "source": [
    "**Task 5** For a case where it converges, make a table of arrival time residuals for each iteration."
   ]
  },
  {
   "cell_type": "code",
   "execution_count": null,
   "metadata": {
    "collapsed": false,
    "jupyter": {
     "outputs_hidden": false
    }
   },
   "outputs": [],
   "source": [
    "# Try it here! You can insert more cells by selecting Cell > Insert Cell Above/Below from the menu\n",
    "# bar, or by pressing Esc to enter command mode and then hitting A or B (for above/below). \n"
   ]
  },
  {
   "cell_type": "markdown",
   "metadata": {},
   "source": [
    "**Task 6** Perform a goodness of fit test to see if the data fit is satisfactory. Calculate the 5%, 50%, and 95% critical values and the p value for the best fit."
   ]
  },
  {
   "cell_type": "code",
   "execution_count": null,
   "metadata": {
    "collapsed": false,
    "jupyter": {
     "outputs_hidden": false
    }
   },
   "outputs": [],
   "source": [
    "# Try it here! You can insert more cells by selecting Cell > Insert Cell Above/Below from the menu\n",
    "# bar, or by pressing Esc to enter command mode and then hitting A or B (for above/below). \n"
   ]
  },
  {
   "cell_type": "markdown",
   "metadata": {},
   "source": [
    "**Task 7** Calculate and plot the model covariance matrices for each pair of parameters at your final solution in the (x,y),(x,z),(y,z) and (z,t) planes. Do you see any significant trade-offs between the errors here?"
   ]
  },
  {
   "cell_type": "markdown",
   "metadata": {},
   "source": [
    "You will find that the routine `pc.gaussian_corner()` will be helpful here for the plotting. This plots ellipsoidal confidence intervals for the earthquake problem.\n",
    "\n",
    "You can use `help(pc.gaussian_corner)` to see its call signature."
   ]
  },
  {
   "cell_type": "code",
   "execution_count": null,
   "metadata": {
    "collapsed": false,
    "jupyter": {
     "outputs_hidden": false
    }
   },
   "outputs": [],
   "source": [
    "### Try it here! You can insert more cells by selecting Cell > Insert Cell Above/Below from the menu\n",
    "# bar, or by pressing Esc to enter command mode and then hitting A or B (for above/below). \n",
    "\n"
   ]
  },
  {
   "cell_type": "markdown",
   "metadata": {},
   "source": [
    "----"
   ]
  }
 ],
 "metadata": {
  "kernelspec": {
   "display_name": "Python 3 (ipykernel)",
   "language": "python",
   "name": "python3"
  },
  "language_info": {
   "codemirror_mode": {
    "name": "ipython",
    "version": 3
   },
   "file_extension": ".py",
   "mimetype": "text/x-python",
   "name": "python",
   "nbconvert_exporter": "python",
   "pygments_lexer": "ipython3",
   "version": "3.9.6"
  },
  "vscode": {
   "interpreter": {
    "hash": "aee8b7b246df8f9039afb4144a1f6fd8d2ca17a180786b69acc140d282b71a49"
   }
  }
 },
 "nbformat": 4,
 "nbformat_minor": 4
}
