{
 "cells": [
  {
   "cell_type": "markdown",
   "metadata": {
    "deletable": true,
    "editable": true
   },
   "source": [
    "# 2.4: Earthquake location and uncertainty via Monte Carlo Error Propagation"
   ]
  },
  {
   "cell_type": "markdown",
   "metadata": {},
   "source": [
    "*Written by Andrew Valentine and Malcolm Sambridge*"
   ]
  },
  {
   "cell_type": "markdown",
   "metadata": {},
   "source": [
    "<!--<badge>--><a href=\"https://colab.research.google.com/github/msambridge/InversionPracticals/blob/main/S2.4 - Iterative Earthquake location_Monte Carlo error propagation.ipynb\" target=\"_parent\"><img src=\"https://colab.research.google.com/assets/colab-badge.svg\" alt=\"Open In Colab\"/></a><!--</badge>-->"
   ]
  },
  {
   "cell_type": "markdown",
   "metadata": {
    "deletable": true,
    "editable": true
   },
   "source": [
    "In this practical, we look at Monte Carlo error propagation in a nonlinear inverse problem. \n",
    "\n",
    "As an example, we will consider is earthquake location.\n",
    "\n",
    "Specifically, the practical is to set up an earthquake location problem and use a python script to iteratively update an earthquake location for the $(x,y,z)$ and origin time, $t$.  This will then be used as the basis of Monte Carlo error propagation. The tasks to be performed are:\n",
    "\n",
    "1. Read in 25 seismic stations at locations across Switzerland together with arrival times from the source to each station.\n",
    "\n",
    "2. Choose a random starting guess inside the region, a half space seismic wavespeed and tolerance for iterative location algorithm.\n",
    "Note that the depth is fixed by this location routine to the starting guess, so set the depth to $z=-10 km$.\n",
    "\n",
    "3. Apply the least squares iterative solution routine to this data set. Choose a tolerance parameter which determines when to stop the solver, e.g $tol=0.01$.\n",
    "\n",
    "4. Make a plot showing the source location at each iteration relative to the seismic station.\n",
    "\n",
    "5. Use Monte Carlo Error propagation by adding Gaussian noise to the data and repeating the location. Plot the cloud of solutions in selected planes. \n",
    "\n",
    "6. Calculate and plot the model covariance matrices for each pair of parameters at your final solution.\n",
    "\n",
    "Things to consider. Does the iterative algorithm converge to a good enough solution? Do the Monte Carlo error ellipses look reasonable. What influences their shape?"
   ]
  },
  {
   "cell_type": "code",
   "execution_count": 3,
   "metadata": {},
   "outputs": [],
   "source": [
    "# -------------------------------------------------------- #\n",
    "#                                                          #\n",
    "#     Uncomment below to set up environment on \"colab\"     #\n",
    "#                                                          #\n",
    "# -------------------------------------------------------- #\n",
    "\n",
    "# !git clone https://github.com/msambridge/InversionPracticals\n",
    "# !pip install corner\n",
    "# %cd InversionPracticals"
   ]
  },
  {
   "cell_type": "code",
   "execution_count": 4,
   "metadata": {
    "collapsed": false,
    "deletable": true,
    "editable": true,
    "jupyter": {
     "outputs_hidden": false
    }
   },
   "outputs": [],
   "source": [
    "%matplotlib inline\n",
    "# setup libraries for exercises and practicals\n",
    "import matplotlib.pyplot as plt\n",
    "from scipy import stats\n",
    "import numpy as np\n",
    "import math\n",
    "import scipy.io as sio\n",
    "import pickle\n",
    "import corner\n",
    "import sys\n",
    "sys.path.append(\"software\")\n",
    "import plotcovellipse as pc\n",
    "import eqlocate as eq"
   ]
  },
  {
   "cell_type": "markdown",
   "metadata": {},
   "source": [
    "**Task 1** First we read in the locations of the seismic stations and the arrival times together with a seismic velocity for each station. Now write a python script to iteratively locate the earthquake and plot the results.\n",
    "\n",
    "To locate the event you can use the supplied routine *eqlocate*.\n",
    "\n",
    "The order of the earthquake location parameters is assumed to be $(t_0,x,y,z)$."
   ]
  },
  {
   "cell_type": "markdown",
   "metadata": {},
   "source": [
    "**Keeping depth fixed**\n",
    "\n",
    "In this example it is necessary to keep the earthquake depth fixed at say -10.0 km. This is because the input data lacks S wave phases, which causes the depth to be unstable and diverge. To implement this we can reduce the model parameters to three ($t_0, x, y)$ and similarly remove the 4th column from the $G$ matrix.\n",
    "\n",
    "If you need assistance you will find a routine `eq.eqlocate()` which does the location for you. By default this routine keeps all four variables present has a variable set `eq.eqlocate(,...,solvedep=False)` which forces the depth variable to remain unchanged for the starting guess supplied."
   ]
  },
  {
   "cell_type": "code",
   "execution_count": 8,
   "metadata": {
    "collapsed": false,
    "editable": true,
    "jupyter": {
     "outputs_hidden": false
    }
   },
   "outputs": [],
   "source": [
    "############\n",
    "#    eloc\n",
    "#############\n",
    "pickle_eq = open(\"datasets/loctim.pickle\",\"rb\") # read in arrival time data and seismic velocities\n",
    "[la,lo,el,ts,vp] = pickle.load(pickle_eq)\n",
    "\n",
    "# la is latitude (Y-coord) of each station in degrees\n",
    "# lo is longitude (X-coord) of each station in degrees\n",
    "# el is elevation (Z-coord) of each station in kms\n",
    "# ts is arrival time of seismic phase at each station in s\n",
    "# vp is the seismic velocity in halfspace used for each station in km/s (allows P or S wave data types by choice of velocity)\n",
    "\n",
    "# load border.xy\n",
    "pickle_b = open(\"datasets/border.pickle\",\"rb\") # read in plot border\n",
    "[borderx,bordery] = pickle.load(pickle_b)\n"
   ]
  },
  {
   "cell_type": "markdown",
   "metadata": {},
   "source": [
    "**Task 2** Now calculate 5000 Monte Carlo solutions by adding Gaussian random noise, $N(0,\\sigma^2=0.2s)$ to each arrival time and relocate. Plot the cloud of solutions relative to the original solution."
   ]
  },
  {
   "cell_type": "markdown",
   "metadata": {},
   "source": [
    "You will find that the routine `eq.plot_eq_solutions()` will be helpful here for the plotting. \n",
    "This plots any number of Monte Carlo solutions for the earthquake problem.\n",
    "\n",
    "You can use `help(eq.plot_eq_solutions)` to see its call signature."
   ]
  },
  {
   "cell_type": "markdown",
   "metadata": {},
   "source": [
    "You could also try a corner plot which produces even fancier images for an emseble of solutions. Look at the solutions notebook for an example."
   ]
  },
  {
   "cell_type": "code",
   "execution_count": 4,
   "metadata": {
    "collapsed": false,
    "editable": true,
    "jupyter": {
     "outputs_hidden": false
    }
   },
   "outputs": [],
   "source": [
    "# Try it here! You can insert more cells by selecting Cell > Insert Cell Above/Below from the menu\n",
    "# bar, or by pressing Esc to enter command mode and then hitting A or B (for above/below). \n",
    "\n",
    "##############\n",
    "#    Then use Monte Carlo error propagation to calculate confidence ellipses\n",
    "##############\n"
   ]
  },
  {
   "cell_type": "markdown",
   "metadata": {},
   "source": [
    "**Task 3** Now calculate the model covariance matrix from the Monte Carlo solutions, together with the standard deviation and hence the 95% confidence intervals for each parameter,"
   ]
  },
  {
   "cell_type": "code",
   "execution_count": 5,
   "metadata": {
    "collapsed": false,
    "editable": true,
    "jupyter": {
     "outputs_hidden": false
    }
   },
   "outputs": [],
   "source": [
    "# Try it here! You can insert more cells by selecting Cell > Insert Cell Above/Below from the menu\n",
    "# bar, or by pressing Esc to enter command mode and then hitting A or B (for above/below). \n",
    "\n"
   ]
  },
  {
   "cell_type": "markdown",
   "metadata": {},
   "source": [
    "**Task 4** Now plot the 68% and 95 % confidence ellipses projected onto selected axes relative to the original solution."
   ]
  },
  {
   "cell_type": "markdown",
   "metadata": {},
   "source": [
    "\n",
    "You will find that the routine `pc.gaussian_corner()` will be helpful here for the plotting. \n",
    "This plots ellipsoidal confidence intervals for the earthquake problem.\n",
    "\n",
    "You can use `help(pc.gaussian_corner)` to see its call signature."
   ]
  },
  {
   "cell_type": "code",
   "execution_count": 6,
   "metadata": {},
   "outputs": [],
   "source": [
    "# Try it here! You can insert more cells by selecting Cell > Insert Cell Above/Below from the menu\n",
    "# bar, or by pressing Esc to enter command mode and then hitting A or B (for above/below). \n",
    "\n",
    "# Plot Covariance ellipses and compare to Monte Carlo solutions\n"
   ]
  },
  {
   "cell_type": "markdown",
   "metadata": {},
   "source": [
    "----"
   ]
  },
  {
   "cell_type": "code",
   "execution_count": null,
   "metadata": {},
   "outputs": [],
   "source": []
  },
  {
   "cell_type": "code",
   "execution_count": null,
   "metadata": {},
   "outputs": [],
   "source": []
  }
 ],
 "metadata": {
  "kernelspec": {
   "display_name": "Python 3 (ipykernel)",
   "language": "python",
   "name": "python3"
  },
  "language_info": {
   "codemirror_mode": {
    "name": "ipython",
    "version": 3
   },
   "file_extension": ".py",
   "mimetype": "text/x-python",
   "name": "python",
   "nbconvert_exporter": "python",
   "pygments_lexer": "ipython3",
   "version": "3.13.0"
  }
 },
 "nbformat": 4,
 "nbformat_minor": 4
}
